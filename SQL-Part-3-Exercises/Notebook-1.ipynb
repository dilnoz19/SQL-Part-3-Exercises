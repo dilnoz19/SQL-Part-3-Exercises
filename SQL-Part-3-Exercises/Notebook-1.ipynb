{
    "metadata": {
        "kernelspec": {
            "name": "SQL",
            "display_name": "SQL",
            "language": "sql"
        },
        "language_info": {
            "name": "sql",
            "version": ""
        },
        "extensions": {
            "azuredatastudio": {
                "version": 1,
                "views": []
            }
        }
    },
    "nbformat_minor": 2,
    "nbformat": 4,
    "cells": [
        {
            "cell_type": "markdown",
            "source": [
                "# SQL Part 3 Exercises Joins\n",
                "\n",
                "This notebook works with the BooksDB dataset.  \n",
                "\n",
                "**Questions 1-4** focus on how joins work in a more general sense.  If you are not sure how to best answer the questions, try manipulating the queries by changing the order of joins, the length of the TOP, or how they are ordered.  \n",
                "\n",
                "> <span style=\"background-color: rgba(127, 127, 127, 0.1);\"><i>Note</i>: If some of the queries are not returning quickly, you can try closing and restarting azure data studio after a few minutes.</span>\n",
                "\n",
                "In **questions 5-8**, you will be asked to join tables to find results about titles, tags, and the books users want to read.\n",
                "\n",
                "As you go through the questions, you will see 'Minimum Desired Output'.  This will provide you with the bare minimum columns needed to answer the questions.  When you write the queries, add as many additional columns as you need to best find your answers."
            ],
            "metadata": {
                "azdata_cell_guid": "db9534a9-c8a7-4c09-8180-bcba0690bb02"
            },
            "attachments": {}
        },
        {
            "cell_type": "markdown",
            "source": [
                "## **QUESTION 1:**  Exploring a LEFT JOIN using the **books** and **to\\_read** tables\n",
                "\n",
                "The code block below has been commented out. To answer this question, you will need to uncomment it by removing the **/\\*** (line 1) and **\\*/** (line 16).\n",
                "\n",
                "**Part A:** Look at Query 1, which table is the 'Left' table and which is the 'Right'?\n",
                "\n",
                "> Your Answer: dbo.books is 'Left' table and to\\_read is 'Right' table.\n",
                "\n",
                "**Part B:** Using table 2, answer the following questions: \n",
                "\n",
                "- When we added a  '**WHERE tr.user\\_id IS NOT NULL'** clause (line 14), how did the table change?  Why?\n",
                "\n",
                "> Your Answer: It became inner join because it is pulling only records that both table have."
            ],
            "metadata": {
                "azdata_cell_guid": "660be568-9a70-40ff-a2fa-a78e31e87b6f"
            },
            "attachments": {}
        },
        {
            "cell_type": "code",
            "source": [
                "\n",
                "-- Query 1: LEFT JOIN \n",
                "SELECT TOP 50 b.title, b.average_rating, b.books_count,tr.user_id, tr.book_id\n",
                "FROM BooksDB.dbo.books AS b\n",
                "LEFT JOIN BooksDB.dbo.to_read AS tr\n",
                "ON b.best_book_id = tr.book_id\n",
                "ORDER BY b.average_rating;\n",
                "\n",
                "-- Query 2: LEFT JOIN USING 'IS NOT NULL'\n",
                "SELECT TOP 50 b.title, b.average_rating, b.books_count,tr.user_id, tr.book_id\n",
                "FROM BooksDB.dbo.books AS b\n",
                "LEFT JOIN BooksDB.dbo.to_read AS tr\n",
                "ON b.best_book_id = tr.book_id\n",
                "WHERE tr.user_id IS NOT NULL\n",
                "ORDER BY b.average_rating;\n",
                ""
            ],
            "metadata": {
                "azdata_cell_guid": "25dcd34c-5e5d-4393-9da0-a4c0effb6455",
                "tags": [],
                "language": "sql"
            },
            "outputs": [
                {
                    "output_type": "display_data",
                    "data": {
                        "text/html": "(50 rows affected)"
                    },
                    "metadata": {}
                },
                {
                    "output_type": "display_data",
                    "data": {
                        "text/html": "(50 rows affected)"
                    },
                    "metadata": {}
                },
                {
                    "output_type": "display_data",
                    "data": {
                        "text/html": "Total execution time: 00:00:07.446"
                    },
                    "metadata": {}
                },
                {
                    "output_type": "execute_result",
                    "metadata": {},
                    "execution_count": 3,
                    "data": {
                        "application/vnd.dataresource+json": {
                            "schema": {
                                "fields": [
                                    {
                                        "name": "title"
                                    },
                                    {
                                        "name": "average_rating"
                                    },
                                    {
                                        "name": "books_count"
                                    },
                                    {
                                        "name": "user_id"
                                    },
                                    {
                                        "name": "book_id"
                                    }
                                ]
                            },
                            "data": [
                                {
                                    "0": "One Night at the Call Center",
                                    "1": "2.47",
                                    "2": "25",
                                    "3": "NULL",
                                    "4": "NULL"
                                },
                                {
                                    "0": "The Almost Moon",
                                    "1": "2.67",
                                    "2": "63",
                                    "3": "NULL",
                                    "4": "NULL"
                                },
                                {
                                    "0": "The Finkler Question",
                                    "1": "2.76",
                                    "2": "45",
                                    "3": "NULL",
                                    "4": "NULL"
                                },
                                {
                                    "0": "Four Blondes",
                                    "1": "2.8",
                                    "2": "57",
                                    "3": "449",
                                    "4": "6613"
                                },
                                {
                                    "0": "Four Blondes",
                                    "1": "2.8",
                                    "2": "57",
                                    "3": "1378",
                                    "4": "6613"
                                },
                                {
                                    "0": "Four Blondes",
                                    "1": "2.8",
                                    "2": "57",
                                    "3": "6465",
                                    "4": "6613"
                                },
                                {
                                    "0": "Four Blondes",
                                    "1": "2.8",
                                    "2": "57",
                                    "3": "6700",
                                    "4": "6613"
                                },
                                {
                                    "0": "Four Blondes",
                                    "1": "2.8",
                                    "2": "57",
                                    "3": "7830",
                                    "4": "6613"
                                },
                                {
                                    "0": "Four Blondes",
                                    "1": "2.8",
                                    "2": "57",
                                    "3": "10085",
                                    "4": "6613"
                                },
                                {
                                    "0": "Four Blondes",
                                    "1": "2.8",
                                    "2": "57",
                                    "3": "16298",
                                    "4": "6613"
                                },
                                {
                                    "0": "Four Blondes",
                                    "1": "2.8",
                                    "2": "57",
                                    "3": "16845",
                                    "4": "6613"
                                },
                                {
                                    "0": "Four Blondes",
                                    "1": "2.8",
                                    "2": "57",
                                    "3": "17470",
                                    "4": "6613"
                                },
                                {
                                    "0": "Four Blondes",
                                    "1": "2.8",
                                    "2": "57",
                                    "3": "19763",
                                    "4": "6613"
                                },
                                {
                                    "0": "Four Blondes",
                                    "1": "2.8",
                                    "2": "57",
                                    "3": "21938",
                                    "4": "6613"
                                },
                                {
                                    "0": "Four Blondes",
                                    "1": "2.8",
                                    "2": "57",
                                    "3": "22289",
                                    "4": "6613"
                                },
                                {
                                    "0": "Four Blondes",
                                    "1": "2.8",
                                    "2": "57",
                                    "3": "23758",
                                    "4": "6613"
                                },
                                {
                                    "0": "Four Blondes",
                                    "1": "2.8",
                                    "2": "57",
                                    "3": "27874",
                                    "4": "6613"
                                },
                                {
                                    "0": "Four Blondes",
                                    "1": "2.8",
                                    "2": "57",
                                    "3": "28690",
                                    "4": "6613"
                                },
                                {
                                    "0": "Four Blondes",
                                    "1": "2.8",
                                    "2": "57",
                                    "3": "29023",
                                    "4": "6613"
                                },
                                {
                                    "0": "Four Blondes",
                                    "1": "2.8",
                                    "2": "57",
                                    "3": "29315",
                                    "4": "6613"
                                },
                                {
                                    "0": "Four Blondes",
                                    "1": "2.8",
                                    "2": "57",
                                    "3": "30245",
                                    "4": "6613"
                                },
                                {
                                    "0": "Four Blondes",
                                    "1": "2.8",
                                    "2": "57",
                                    "3": "36128",
                                    "4": "6613"
                                },
                                {
                                    "0": "Four Blondes",
                                    "1": "2.8",
                                    "2": "57",
                                    "3": "36554",
                                    "4": "6613"
                                },
                                {
                                    "0": "Four Blondes",
                                    "1": "2.8",
                                    "2": "57",
                                    "3": "38159",
                                    "4": "6613"
                                },
                                {
                                    "0": "Four Blondes",
                                    "1": "2.8",
                                    "2": "57",
                                    "3": "38800",
                                    "4": "6613"
                                },
                                {
                                    "0": "Four Blondes",
                                    "1": "2.8",
                                    "2": "57",
                                    "3": "40361",
                                    "4": "6613"
                                },
                                {
                                    "0": "Four Blondes",
                                    "1": "2.8",
                                    "2": "57",
                                    "3": "40529",
                                    "4": "6613"
                                },
                                {
                                    "0": "Four Blondes",
                                    "1": "2.8",
                                    "2": "57",
                                    "3": "41485",
                                    "4": "6613"
                                },
                                {
                                    "0": "Four Blondes",
                                    "1": "2.8",
                                    "2": "57",
                                    "3": "42706",
                                    "4": "6613"
                                },
                                {
                                    "0": "Four Blondes",
                                    "1": "2.8",
                                    "2": "57",
                                    "3": "45206",
                                    "4": "6613"
                                },
                                {
                                    "0": "Four Blondes",
                                    "1": "2.8",
                                    "2": "57",
                                    "3": "45689",
                                    "4": "6613"
                                },
                                {
                                    "0": "Four Blondes",
                                    "1": "2.8",
                                    "2": "57",
                                    "3": "49499",
                                    "4": "6613"
                                },
                                {
                                    "0": "Four Blondes",
                                    "1": "2.8",
                                    "2": "57",
                                    "3": "51105",
                                    "4": "6613"
                                },
                                {
                                    "0": "Four Blondes",
                                    "1": "2.8",
                                    "2": "57",
                                    "3": "51671",
                                    "4": "6613"
                                },
                                {
                                    "0": "Four Blondes",
                                    "1": "2.8",
                                    "2": "57",
                                    "3": "52109",
                                    "4": "6613"
                                },
                                {
                                    "0": "Lost",
                                    "1": "2.8",
                                    "2": "18",
                                    "3": "NULL",
                                    "4": "NULL"
                                },
                                {
                                    "0": "Tell-All",
                                    "1": "2.84",
                                    "2": "37",
                                    "3": "NULL",
                                    "4": "NULL"
                                },
                                {
                                    "0": "Revenge Wears Prada: The Devil Returns (The Devil Wears Prada, #2)",
                                    "1": "2.84",
                                    "2": "59",
                                    "3": "NULL",
                                    "4": "NULL"
                                },
                                {
                                    "0": "Among the Ten Thousand Things",
                                    "1": "2.84",
                                    "2": "19",
                                    "3": "NULL",
                                    "4": "NULL"
                                },
                                {
                                    "0": "The Emperor's Children",
                                    "1": "2.93",
                                    "2": "45",
                                    "3": "7860",
                                    "4": "3648"
                                },
                                {
                                    "0": "The Emperor's Children",
                                    "1": "2.93",
                                    "2": "45",
                                    "3": "11320",
                                    "4": "3648"
                                },
                                {
                                    "0": "The Emperor's Children",
                                    "1": "2.93",
                                    "2": "45",
                                    "3": "12686",
                                    "4": "3648"
                                },
                                {
                                    "0": "The Emperor's Children",
                                    "1": "2.93",
                                    "2": "45",
                                    "3": "12729",
                                    "4": "3648"
                                },
                                {
                                    "0": "The Emperor's Children",
                                    "1": "2.93",
                                    "2": "45",
                                    "3": "12891",
                                    "4": "3648"
                                },
                                {
                                    "0": "The Emperor's Children",
                                    "1": "2.93",
                                    "2": "45",
                                    "3": "16933",
                                    "4": "3648"
                                },
                                {
                                    "0": "The Emperor's Children",
                                    "1": "2.93",
                                    "2": "45",
                                    "3": "17093",
                                    "4": "3648"
                                },
                                {
                                    "0": "The Emperor's Children",
                                    "1": "2.93",
                                    "2": "45",
                                    "3": "24036",
                                    "4": "3648"
                                },
                                {
                                    "0": "The Emperor's Children",
                                    "1": "2.93",
                                    "2": "45",
                                    "3": "35122",
                                    "4": "3648"
                                },
                                {
                                    "0": "The Emperor's Children",
                                    "1": "2.93",
                                    "2": "45",
                                    "3": "36022",
                                    "4": "3648"
                                },
                                {
                                    "0": "The Emperor's Children",
                                    "1": "2.93",
                                    "2": "45",
                                    "3": "36952",
                                    "4": "3648"
                                }
                            ]
                        },
                        "text/html": [
                            "<table>",
                            "<tr><th>title</th><th>average_rating</th><th>books_count</th><th>user_id</th><th>book_id</th></tr>",
                            "<tr><td>One Night at the Call Center</td><td>2.47</td><td>25</td><td>NULL</td><td>NULL</td></tr>",
                            "<tr><td>The Almost Moon</td><td>2.67</td><td>63</td><td>NULL</td><td>NULL</td></tr>",
                            "<tr><td>The Finkler Question</td><td>2.76</td><td>45</td><td>NULL</td><td>NULL</td></tr>",
                            "<tr><td>Four Blondes</td><td>2.8</td><td>57</td><td>449</td><td>6613</td></tr>",
                            "<tr><td>Four Blondes</td><td>2.8</td><td>57</td><td>1378</td><td>6613</td></tr>",
                            "<tr><td>Four Blondes</td><td>2.8</td><td>57</td><td>6465</td><td>6613</td></tr>",
                            "<tr><td>Four Blondes</td><td>2.8</td><td>57</td><td>6700</td><td>6613</td></tr>",
                            "<tr><td>Four Blondes</td><td>2.8</td><td>57</td><td>7830</td><td>6613</td></tr>",
                            "<tr><td>Four Blondes</td><td>2.8</td><td>57</td><td>10085</td><td>6613</td></tr>",
                            "<tr><td>Four Blondes</td><td>2.8</td><td>57</td><td>16298</td><td>6613</td></tr>",
                            "<tr><td>Four Blondes</td><td>2.8</td><td>57</td><td>16845</td><td>6613</td></tr>",
                            "<tr><td>Four Blondes</td><td>2.8</td><td>57</td><td>17470</td><td>6613</td></tr>",
                            "<tr><td>Four Blondes</td><td>2.8</td><td>57</td><td>19763</td><td>6613</td></tr>",
                            "<tr><td>Four Blondes</td><td>2.8</td><td>57</td><td>21938</td><td>6613</td></tr>",
                            "<tr><td>Four Blondes</td><td>2.8</td><td>57</td><td>22289</td><td>6613</td></tr>",
                            "<tr><td>Four Blondes</td><td>2.8</td><td>57</td><td>23758</td><td>6613</td></tr>",
                            "<tr><td>Four Blondes</td><td>2.8</td><td>57</td><td>27874</td><td>6613</td></tr>",
                            "<tr><td>Four Blondes</td><td>2.8</td><td>57</td><td>28690</td><td>6613</td></tr>",
                            "<tr><td>Four Blondes</td><td>2.8</td><td>57</td><td>29023</td><td>6613</td></tr>",
                            "<tr><td>Four Blondes</td><td>2.8</td><td>57</td><td>29315</td><td>6613</td></tr>",
                            "<tr><td>Four Blondes</td><td>2.8</td><td>57</td><td>30245</td><td>6613</td></tr>",
                            "<tr><td>Four Blondes</td><td>2.8</td><td>57</td><td>36128</td><td>6613</td></tr>",
                            "<tr><td>Four Blondes</td><td>2.8</td><td>57</td><td>36554</td><td>6613</td></tr>",
                            "<tr><td>Four Blondes</td><td>2.8</td><td>57</td><td>38159</td><td>6613</td></tr>",
                            "<tr><td>Four Blondes</td><td>2.8</td><td>57</td><td>38800</td><td>6613</td></tr>",
                            "<tr><td>Four Blondes</td><td>2.8</td><td>57</td><td>40361</td><td>6613</td></tr>",
                            "<tr><td>Four Blondes</td><td>2.8</td><td>57</td><td>40529</td><td>6613</td></tr>",
                            "<tr><td>Four Blondes</td><td>2.8</td><td>57</td><td>41485</td><td>6613</td></tr>",
                            "<tr><td>Four Blondes</td><td>2.8</td><td>57</td><td>42706</td><td>6613</td></tr>",
                            "<tr><td>Four Blondes</td><td>2.8</td><td>57</td><td>45206</td><td>6613</td></tr>",
                            "<tr><td>Four Blondes</td><td>2.8</td><td>57</td><td>45689</td><td>6613</td></tr>",
                            "<tr><td>Four Blondes</td><td>2.8</td><td>57</td><td>49499</td><td>6613</td></tr>",
                            "<tr><td>Four Blondes</td><td>2.8</td><td>57</td><td>51105</td><td>6613</td></tr>",
                            "<tr><td>Four Blondes</td><td>2.8</td><td>57</td><td>51671</td><td>6613</td></tr>",
                            "<tr><td>Four Blondes</td><td>2.8</td><td>57</td><td>52109</td><td>6613</td></tr>",
                            "<tr><td>Lost</td><td>2.8</td><td>18</td><td>NULL</td><td>NULL</td></tr>",
                            "<tr><td>Tell-All</td><td>2.84</td><td>37</td><td>NULL</td><td>NULL</td></tr>",
                            "<tr><td>Revenge Wears Prada: The Devil Returns (The Devil Wears Prada, #2)</td><td>2.84</td><td>59</td><td>NULL</td><td>NULL</td></tr>",
                            "<tr><td>Among the Ten Thousand Things</td><td>2.84</td><td>19</td><td>NULL</td><td>NULL</td></tr>",
                            "<tr><td>The Emperor's Children</td><td>2.93</td><td>45</td><td>7860</td><td>3648</td></tr>",
                            "<tr><td>The Emperor's Children</td><td>2.93</td><td>45</td><td>11320</td><td>3648</td></tr>",
                            "<tr><td>The Emperor's Children</td><td>2.93</td><td>45</td><td>12686</td><td>3648</td></tr>",
                            "<tr><td>The Emperor's Children</td><td>2.93</td><td>45</td><td>12729</td><td>3648</td></tr>",
                            "<tr><td>The Emperor's Children</td><td>2.93</td><td>45</td><td>12891</td><td>3648</td></tr>",
                            "<tr><td>The Emperor's Children</td><td>2.93</td><td>45</td><td>16933</td><td>3648</td></tr>",
                            "<tr><td>The Emperor's Children</td><td>2.93</td><td>45</td><td>17093</td><td>3648</td></tr>",
                            "<tr><td>The Emperor's Children</td><td>2.93</td><td>45</td><td>24036</td><td>3648</td></tr>",
                            "<tr><td>The Emperor's Children</td><td>2.93</td><td>45</td><td>35122</td><td>3648</td></tr>",
                            "<tr><td>The Emperor's Children</td><td>2.93</td><td>45</td><td>36022</td><td>3648</td></tr>",
                            "<tr><td>The Emperor's Children</td><td>2.93</td><td>45</td><td>36952</td><td>3648</td></tr>",
                            "</table>"
                        ]
                    }
                },
                {
                    "output_type": "execute_result",
                    "metadata": {},
                    "execution_count": 3,
                    "data": {
                        "application/vnd.dataresource+json": {
                            "schema": {
                                "fields": [
                                    {
                                        "name": "title"
                                    },
                                    {
                                        "name": "average_rating"
                                    },
                                    {
                                        "name": "books_count"
                                    },
                                    {
                                        "name": "user_id"
                                    },
                                    {
                                        "name": "book_id"
                                    }
                                ]
                            },
                            "data": [
                                {
                                    "0": "Four Blondes",
                                    "1": "2.8",
                                    "2": "57",
                                    "3": "449",
                                    "4": "6613"
                                },
                                {
                                    "0": "Four Blondes",
                                    "1": "2.8",
                                    "2": "57",
                                    "3": "1378",
                                    "4": "6613"
                                },
                                {
                                    "0": "Four Blondes",
                                    "1": "2.8",
                                    "2": "57",
                                    "3": "6465",
                                    "4": "6613"
                                },
                                {
                                    "0": "Four Blondes",
                                    "1": "2.8",
                                    "2": "57",
                                    "3": "6700",
                                    "4": "6613"
                                },
                                {
                                    "0": "Four Blondes",
                                    "1": "2.8",
                                    "2": "57",
                                    "3": "7830",
                                    "4": "6613"
                                },
                                {
                                    "0": "Four Blondes",
                                    "1": "2.8",
                                    "2": "57",
                                    "3": "10085",
                                    "4": "6613"
                                },
                                {
                                    "0": "Four Blondes",
                                    "1": "2.8",
                                    "2": "57",
                                    "3": "16298",
                                    "4": "6613"
                                },
                                {
                                    "0": "Four Blondes",
                                    "1": "2.8",
                                    "2": "57",
                                    "3": "16845",
                                    "4": "6613"
                                },
                                {
                                    "0": "Four Blondes",
                                    "1": "2.8",
                                    "2": "57",
                                    "3": "17470",
                                    "4": "6613"
                                },
                                {
                                    "0": "Four Blondes",
                                    "1": "2.8",
                                    "2": "57",
                                    "3": "19763",
                                    "4": "6613"
                                },
                                {
                                    "0": "Four Blondes",
                                    "1": "2.8",
                                    "2": "57",
                                    "3": "21938",
                                    "4": "6613"
                                },
                                {
                                    "0": "Four Blondes",
                                    "1": "2.8",
                                    "2": "57",
                                    "3": "22289",
                                    "4": "6613"
                                },
                                {
                                    "0": "Four Blondes",
                                    "1": "2.8",
                                    "2": "57",
                                    "3": "23758",
                                    "4": "6613"
                                },
                                {
                                    "0": "Four Blondes",
                                    "1": "2.8",
                                    "2": "57",
                                    "3": "27874",
                                    "4": "6613"
                                },
                                {
                                    "0": "Four Blondes",
                                    "1": "2.8",
                                    "2": "57",
                                    "3": "28690",
                                    "4": "6613"
                                },
                                {
                                    "0": "Four Blondes",
                                    "1": "2.8",
                                    "2": "57",
                                    "3": "29023",
                                    "4": "6613"
                                },
                                {
                                    "0": "Four Blondes",
                                    "1": "2.8",
                                    "2": "57",
                                    "3": "29315",
                                    "4": "6613"
                                },
                                {
                                    "0": "Four Blondes",
                                    "1": "2.8",
                                    "2": "57",
                                    "3": "30245",
                                    "4": "6613"
                                },
                                {
                                    "0": "Four Blondes",
                                    "1": "2.8",
                                    "2": "57",
                                    "3": "36128",
                                    "4": "6613"
                                },
                                {
                                    "0": "Four Blondes",
                                    "1": "2.8",
                                    "2": "57",
                                    "3": "36554",
                                    "4": "6613"
                                },
                                {
                                    "0": "Four Blondes",
                                    "1": "2.8",
                                    "2": "57",
                                    "3": "38159",
                                    "4": "6613"
                                },
                                {
                                    "0": "Four Blondes",
                                    "1": "2.8",
                                    "2": "57",
                                    "3": "38800",
                                    "4": "6613"
                                },
                                {
                                    "0": "Four Blondes",
                                    "1": "2.8",
                                    "2": "57",
                                    "3": "40361",
                                    "4": "6613"
                                },
                                {
                                    "0": "Four Blondes",
                                    "1": "2.8",
                                    "2": "57",
                                    "3": "40529",
                                    "4": "6613"
                                },
                                {
                                    "0": "Four Blondes",
                                    "1": "2.8",
                                    "2": "57",
                                    "3": "41485",
                                    "4": "6613"
                                },
                                {
                                    "0": "Four Blondes",
                                    "1": "2.8",
                                    "2": "57",
                                    "3": "42706",
                                    "4": "6613"
                                },
                                {
                                    "0": "Four Blondes",
                                    "1": "2.8",
                                    "2": "57",
                                    "3": "45206",
                                    "4": "6613"
                                },
                                {
                                    "0": "Four Blondes",
                                    "1": "2.8",
                                    "2": "57",
                                    "3": "45689",
                                    "4": "6613"
                                },
                                {
                                    "0": "Four Blondes",
                                    "1": "2.8",
                                    "2": "57",
                                    "3": "49499",
                                    "4": "6613"
                                },
                                {
                                    "0": "Four Blondes",
                                    "1": "2.8",
                                    "2": "57",
                                    "3": "51105",
                                    "4": "6613"
                                },
                                {
                                    "0": "Four Blondes",
                                    "1": "2.8",
                                    "2": "57",
                                    "3": "51671",
                                    "4": "6613"
                                },
                                {
                                    "0": "Four Blondes",
                                    "1": "2.8",
                                    "2": "57",
                                    "3": "52109",
                                    "4": "6613"
                                },
                                {
                                    "0": "The Emperor's Children",
                                    "1": "2.93",
                                    "2": "45",
                                    "3": "7860",
                                    "4": "3648"
                                },
                                {
                                    "0": "The Emperor's Children",
                                    "1": "2.93",
                                    "2": "45",
                                    "3": "11320",
                                    "4": "3648"
                                },
                                {
                                    "0": "The Emperor's Children",
                                    "1": "2.93",
                                    "2": "45",
                                    "3": "12686",
                                    "4": "3648"
                                },
                                {
                                    "0": "The Emperor's Children",
                                    "1": "2.93",
                                    "2": "45",
                                    "3": "12729",
                                    "4": "3648"
                                },
                                {
                                    "0": "The Emperor's Children",
                                    "1": "2.93",
                                    "2": "45",
                                    "3": "12891",
                                    "4": "3648"
                                },
                                {
                                    "0": "The Emperor's Children",
                                    "1": "2.93",
                                    "2": "45",
                                    "3": "16933",
                                    "4": "3648"
                                },
                                {
                                    "0": "The Emperor's Children",
                                    "1": "2.93",
                                    "2": "45",
                                    "3": "17093",
                                    "4": "3648"
                                },
                                {
                                    "0": "The Emperor's Children",
                                    "1": "2.93",
                                    "2": "45",
                                    "3": "24036",
                                    "4": "3648"
                                },
                                {
                                    "0": "The Emperor's Children",
                                    "1": "2.93",
                                    "2": "45",
                                    "3": "35122",
                                    "4": "3648"
                                },
                                {
                                    "0": "The Emperor's Children",
                                    "1": "2.93",
                                    "2": "45",
                                    "3": "36022",
                                    "4": "3648"
                                },
                                {
                                    "0": "The Emperor's Children",
                                    "1": "2.93",
                                    "2": "45",
                                    "3": "36952",
                                    "4": "3648"
                                },
                                {
                                    "0": "The Emperor's Children",
                                    "1": "2.93",
                                    "2": "45",
                                    "3": "38430",
                                    "4": "3648"
                                },
                                {
                                    "0": "The Emperor's Children",
                                    "1": "2.93",
                                    "2": "45",
                                    "3": "39414",
                                    "4": "3648"
                                },
                                {
                                    "0": "The Emperor's Children",
                                    "1": "2.93",
                                    "2": "45",
                                    "3": "45261",
                                    "4": "3648"
                                },
                                {
                                    "0": "The Emperor's Children",
                                    "1": "2.93",
                                    "2": "45",
                                    "3": "45497",
                                    "4": "3648"
                                },
                                {
                                    "0": "The Emperor's Children",
                                    "1": "2.93",
                                    "2": "45",
                                    "3": "45747",
                                    "4": "3648"
                                },
                                {
                                    "0": "The Emperor's Children",
                                    "1": "2.93",
                                    "2": "45",
                                    "3": "48502",
                                    "4": "3648"
                                },
                                {
                                    "0": "The Emperor's Children",
                                    "1": "2.93",
                                    "2": "45",
                                    "3": "49233",
                                    "4": "3648"
                                }
                            ]
                        },
                        "text/html": [
                            "<table>",
                            "<tr><th>title</th><th>average_rating</th><th>books_count</th><th>user_id</th><th>book_id</th></tr>",
                            "<tr><td>Four Blondes</td><td>2.8</td><td>57</td><td>449</td><td>6613</td></tr>",
                            "<tr><td>Four Blondes</td><td>2.8</td><td>57</td><td>1378</td><td>6613</td></tr>",
                            "<tr><td>Four Blondes</td><td>2.8</td><td>57</td><td>6465</td><td>6613</td></tr>",
                            "<tr><td>Four Blondes</td><td>2.8</td><td>57</td><td>6700</td><td>6613</td></tr>",
                            "<tr><td>Four Blondes</td><td>2.8</td><td>57</td><td>7830</td><td>6613</td></tr>",
                            "<tr><td>Four Blondes</td><td>2.8</td><td>57</td><td>10085</td><td>6613</td></tr>",
                            "<tr><td>Four Blondes</td><td>2.8</td><td>57</td><td>16298</td><td>6613</td></tr>",
                            "<tr><td>Four Blondes</td><td>2.8</td><td>57</td><td>16845</td><td>6613</td></tr>",
                            "<tr><td>Four Blondes</td><td>2.8</td><td>57</td><td>17470</td><td>6613</td></tr>",
                            "<tr><td>Four Blondes</td><td>2.8</td><td>57</td><td>19763</td><td>6613</td></tr>",
                            "<tr><td>Four Blondes</td><td>2.8</td><td>57</td><td>21938</td><td>6613</td></tr>",
                            "<tr><td>Four Blondes</td><td>2.8</td><td>57</td><td>22289</td><td>6613</td></tr>",
                            "<tr><td>Four Blondes</td><td>2.8</td><td>57</td><td>23758</td><td>6613</td></tr>",
                            "<tr><td>Four Blondes</td><td>2.8</td><td>57</td><td>27874</td><td>6613</td></tr>",
                            "<tr><td>Four Blondes</td><td>2.8</td><td>57</td><td>28690</td><td>6613</td></tr>",
                            "<tr><td>Four Blondes</td><td>2.8</td><td>57</td><td>29023</td><td>6613</td></tr>",
                            "<tr><td>Four Blondes</td><td>2.8</td><td>57</td><td>29315</td><td>6613</td></tr>",
                            "<tr><td>Four Blondes</td><td>2.8</td><td>57</td><td>30245</td><td>6613</td></tr>",
                            "<tr><td>Four Blondes</td><td>2.8</td><td>57</td><td>36128</td><td>6613</td></tr>",
                            "<tr><td>Four Blondes</td><td>2.8</td><td>57</td><td>36554</td><td>6613</td></tr>",
                            "<tr><td>Four Blondes</td><td>2.8</td><td>57</td><td>38159</td><td>6613</td></tr>",
                            "<tr><td>Four Blondes</td><td>2.8</td><td>57</td><td>38800</td><td>6613</td></tr>",
                            "<tr><td>Four Blondes</td><td>2.8</td><td>57</td><td>40361</td><td>6613</td></tr>",
                            "<tr><td>Four Blondes</td><td>2.8</td><td>57</td><td>40529</td><td>6613</td></tr>",
                            "<tr><td>Four Blondes</td><td>2.8</td><td>57</td><td>41485</td><td>6613</td></tr>",
                            "<tr><td>Four Blondes</td><td>2.8</td><td>57</td><td>42706</td><td>6613</td></tr>",
                            "<tr><td>Four Blondes</td><td>2.8</td><td>57</td><td>45206</td><td>6613</td></tr>",
                            "<tr><td>Four Blondes</td><td>2.8</td><td>57</td><td>45689</td><td>6613</td></tr>",
                            "<tr><td>Four Blondes</td><td>2.8</td><td>57</td><td>49499</td><td>6613</td></tr>",
                            "<tr><td>Four Blondes</td><td>2.8</td><td>57</td><td>51105</td><td>6613</td></tr>",
                            "<tr><td>Four Blondes</td><td>2.8</td><td>57</td><td>51671</td><td>6613</td></tr>",
                            "<tr><td>Four Blondes</td><td>2.8</td><td>57</td><td>52109</td><td>6613</td></tr>",
                            "<tr><td>The Emperor's Children</td><td>2.93</td><td>45</td><td>7860</td><td>3648</td></tr>",
                            "<tr><td>The Emperor's Children</td><td>2.93</td><td>45</td><td>11320</td><td>3648</td></tr>",
                            "<tr><td>The Emperor's Children</td><td>2.93</td><td>45</td><td>12686</td><td>3648</td></tr>",
                            "<tr><td>The Emperor's Children</td><td>2.93</td><td>45</td><td>12729</td><td>3648</td></tr>",
                            "<tr><td>The Emperor's Children</td><td>2.93</td><td>45</td><td>12891</td><td>3648</td></tr>",
                            "<tr><td>The Emperor's Children</td><td>2.93</td><td>45</td><td>16933</td><td>3648</td></tr>",
                            "<tr><td>The Emperor's Children</td><td>2.93</td><td>45</td><td>17093</td><td>3648</td></tr>",
                            "<tr><td>The Emperor's Children</td><td>2.93</td><td>45</td><td>24036</td><td>3648</td></tr>",
                            "<tr><td>The Emperor's Children</td><td>2.93</td><td>45</td><td>35122</td><td>3648</td></tr>",
                            "<tr><td>The Emperor's Children</td><td>2.93</td><td>45</td><td>36022</td><td>3648</td></tr>",
                            "<tr><td>The Emperor's Children</td><td>2.93</td><td>45</td><td>36952</td><td>3648</td></tr>",
                            "<tr><td>The Emperor's Children</td><td>2.93</td><td>45</td><td>38430</td><td>3648</td></tr>",
                            "<tr><td>The Emperor's Children</td><td>2.93</td><td>45</td><td>39414</td><td>3648</td></tr>",
                            "<tr><td>The Emperor's Children</td><td>2.93</td><td>45</td><td>45261</td><td>3648</td></tr>",
                            "<tr><td>The Emperor's Children</td><td>2.93</td><td>45</td><td>45497</td><td>3648</td></tr>",
                            "<tr><td>The Emperor's Children</td><td>2.93</td><td>45</td><td>45747</td><td>3648</td></tr>",
                            "<tr><td>The Emperor's Children</td><td>2.93</td><td>45</td><td>48502</td><td>3648</td></tr>",
                            "<tr><td>The Emperor's Children</td><td>2.93</td><td>45</td><td>49233</td><td>3648</td></tr>",
                            "</table>"
                        ]
                    }
                }
            ],
            "execution_count": 3
        },
        {
            "cell_type": "markdown",
            "source": [
                "## **QUESTION 2:** Exploring **RIGHT** joins with the **books** and **to\\_read** tables\n",
                "\n",
                "You will need to uncomment the Query to answer the question.\n",
                "\n",
                "**Part A:** Looking at the query, which table is the 'Left' and which is the 'Right'?\n",
                "\n",
                "> Your Answer: \n",
                "> \n",
                "> dbo.books is 'Left' table and to\\_read is 'Right' table.\n",
                "\n",
                "**Part B:** How do the RIGHT-joined tables differ from the LEFT-joined tables in Question 1?  \n",
                "\n",
                "> Your Answer: They are reverse of each other."
            ],
            "metadata": {
                "azdata_cell_guid": "c1e417d9-89d2-4a7d-ab46-b43c8bddc54f"
            },
            "attachments": {}
        },
        {
            "cell_type": "code",
            "source": [
                "\n",
                "-- Query 1: RIGHT JOIN\n",
                "SELECT TOP 300 b.title, b.average_rating, b.books_count, tr.user_id, tr.book_id\n",
                "FROM BooksDB.dbo.books AS b\n",
                "RIGHT JOIN BooksDB.dbo.to_read AS tr\n",
                "ON b.best_book_id = tr.book_id;\n",
                ""
            ],
            "metadata": {
                "azdata_cell_guid": "8cf020b8-2a76-46a6-acff-97eb1acc7fed",
                "tags": [],
                "language": "sql"
            },
            "outputs": [
                {
                    "output_type": "display_data",
                    "data": {
                        "text/html": "(300 rows affected)"
                    },
                    "metadata": {}
                },
                {
                    "output_type": "display_data",
                    "data": {
                        "text/html": "Total execution time: 00:00:00.339"
                    },
                    "metadata": {}
                },
                {
                    "output_type": "execute_result",
                    "metadata": {},
                    "execution_count": 4,
                    "data": {
                        "application/vnd.dataresource+json": {
                            "schema": {
                                "fields": [
                                    {
                                        "name": "title"
                                    },
                                    {
                                        "name": "average_rating"
                                    },
                                    {
                                        "name": "books_count"
                                    },
                                    {
                                        "name": "user_id"
                                    },
                                    {
                                        "name": "book_id"
                                    }
                                ]
                            },
                            "data": [
                                {
                                    "0": "Children of Dune (Dune Chronicles #3)",
                                    "1": "3.9",
                                    "2": "116",
                                    "3": "1",
                                    "4": "112"
                                },
                                {
                                    "0": "NULL",
                                    "1": "NULL",
                                    "2": "NULL",
                                    "3": "1",
                                    "4": "235"
                                },
                                {
                                    "0": "NULL",
                                    "1": "NULL",
                                    "2": "NULL",
                                    "3": "1",
                                    "4": "533"
                                },
                                {
                                    "0": "NULL",
                                    "1": "NULL",
                                    "2": "NULL",
                                    "3": "1",
                                    "4": "1198"
                                },
                                {
                                    "0": "NULL",
                                    "1": "NULL",
                                    "2": "NULL",
                                    "3": "1",
                                    "4": "1874"
                                },
                                {
                                    "0": "NULL",
                                    "1": "NULL",
                                    "2": "NULL",
                                    "3": "1",
                                    "4": "2058"
                                },
                                {
                                    "0": "NULL",
                                    "1": "NULL",
                                    "2": "NULL",
                                    "3": "1",
                                    "4": "3334"
                                },
                                {
                                    "0": "NULL",
                                    "1": "NULL",
                                    "2": "NULL",
                                    "3": "2",
                                    "4": "4"
                                },
                                {
                                    "0": "NULL",
                                    "1": "NULL",
                                    "2": "NULL",
                                    "3": "2",
                                    "4": "11"
                                },
                                {
                                    "0": "The Ultimate Hitchhiker's Guide to the Galaxy",
                                    "1": "4.37",
                                    "2": "32",
                                    "3": "2",
                                    "4": "13"
                                },
                                {
                                    "0": "NULL",
                                    "1": "NULL",
                                    "2": "NULL",
                                    "3": "2",
                                    "4": "16"
                                },
                                {
                                    "0": "NULL",
                                    "1": "NULL",
                                    "2": "NULL",
                                    "3": "2",
                                    "4": "92"
                                },
                                {
                                    "0": "Dune Messiah (Dune Chronicles #2)",
                                    "1": "3.86",
                                    "2": "140",
                                    "3": "2",
                                    "4": "106"
                                },
                                {
                                    "0": "NULL",
                                    "1": "NULL",
                                    "2": "NULL",
                                    "3": "2",
                                    "4": "113"
                                },
                                {
                                    "0": "NULL",
                                    "1": "NULL",
                                    "2": "NULL",
                                    "3": "2",
                                    "4": "233"
                                },
                                {
                                    "0": "NULL",
                                    "1": "NULL",
                                    "2": "NULL",
                                    "3": "2",
                                    "4": "247"
                                },
                                {
                                    "0": "NULL",
                                    "1": "NULL",
                                    "2": "NULL",
                                    "3": "2",
                                    "4": "380"
                                },
                                {
                                    "0": "NULL",
                                    "1": "NULL",
                                    "2": "NULL",
                                    "3": "2",
                                    "4": "408"
                                },
                                {
                                    "0": "NULL",
                                    "1": "NULL",
                                    "2": "NULL",
                                    "3": "2",
                                    "4": "439"
                                },
                                {
                                    "0": "NULL",
                                    "1": "NULL",
                                    "2": "NULL",
                                    "3": "2",
                                    "4": "479"
                                },
                                {
                                    "0": "NULL",
                                    "1": "NULL",
                                    "2": "NULL",
                                    "3": "2",
                                    "4": "516"
                                },
                                {
                                    "0": "NULL",
                                    "1": "NULL",
                                    "2": "NULL",
                                    "3": "2",
                                    "4": "619"
                                },
                                {
                                    "0": "NULL",
                                    "1": "NULL",
                                    "2": "NULL",
                                    "3": "2",
                                    "4": "1069"
                                },
                                {
                                    "0": "The Iliad",
                                    "1": "3.83",
                                    "2": "1726",
                                    "3": "2",
                                    "4": "1371"
                                },
                                {
                                    "0": "NULL",
                                    "1": "NULL",
                                    "2": "NULL",
                                    "3": "2",
                                    "4": "1384"
                                },
                                {
                                    "0": "NULL",
                                    "1": "NULL",
                                    "2": "NULL",
                                    "3": "2",
                                    "4": "1597"
                                },
                                {
                                    "0": "NULL",
                                    "1": "NULL",
                                    "2": "NULL",
                                    "3": "2",
                                    "4": "1926"
                                },
                                {
                                    "0": "NULL",
                                    "1": "NULL",
                                    "2": "NULL",
                                    "3": "2",
                                    "4": "1967"
                                },
                                {
                                    "0": "NULL",
                                    "1": "NULL",
                                    "2": "NULL",
                                    "3": "2",
                                    "4": "1969"
                                },
                                {
                                    "0": "NULL",
                                    "1": "NULL",
                                    "2": "NULL",
                                    "3": "2",
                                    "4": "2220"
                                },
                                {
                                    "0": "NULL",
                                    "1": "NULL",
                                    "2": "NULL",
                                    "3": "2",
                                    "4": "2388"
                                },
                                {
                                    "0": "NULL",
                                    "1": "NULL",
                                    "2": "NULL",
                                    "3": "2",
                                    "4": "3222"
                                },
                                {
                                    "0": "NULL",
                                    "1": "NULL",
                                    "2": "NULL",
                                    "3": "2",
                                    "4": "3227"
                                },
                                {
                                    "0": "NULL",
                                    "1": "NULL",
                                    "2": "NULL",
                                    "3": "2",
                                    "4": "3733"
                                },
                                {
                                    "0": "NULL",
                                    "1": "NULL",
                                    "2": "NULL",
                                    "3": "2",
                                    "4": "5418"
                                },
                                {
                                    "0": "NULL",
                                    "1": "NULL",
                                    "2": "NULL",
                                    "3": "2",
                                    "4": "6937"
                                },
                                {
                                    "0": "NULL",
                                    "1": "NULL",
                                    "2": "NULL",
                                    "3": "2",
                                    "4": "7146"
                                },
                                {
                                    "0": "NULL",
                                    "1": "NULL",
                                    "2": "NULL",
                                    "3": "2",
                                    "4": "7873"
                                },
                                {
                                    "0": "NULL",
                                    "1": "NULL",
                                    "2": "NULL",
                                    "3": "2",
                                    "4": "8417"
                                },
                                {
                                    "0": "Harry Potter Collection (Harry Potter, #1-6)",
                                    "1": "4.73",
                                    "2": "6",
                                    "3": "3",
                                    "4": "10"
                                },
                                {
                                    "0": "NULL",
                                    "1": "NULL",
                                    "2": "NULL",
                                    "3": "3",
                                    "4": "66"
                                },
                                {
                                    "0": "NULL",
                                    "1": "NULL",
                                    "2": "NULL",
                                    "3": "3",
                                    "4": "233"
                                },
                                {
                                    "0": "NULL",
                                    "1": "NULL",
                                    "2": "NULL",
                                    "3": "3",
                                    "4": "726"
                                },
                                {
                                    "0": "NULL",
                                    "1": "NULL",
                                    "2": "NULL",
                                    "3": "3",
                                    "4": "932"
                                },
                                {
                                    "0": "NULL",
                                    "1": "NULL",
                                    "2": "NULL",
                                    "3": "3",
                                    "4": "1146"
                                },
                                {
                                    "0": "NULL",
                                    "1": "NULL",
                                    "2": "NULL",
                                    "3": "3",
                                    "4": "2439"
                                },
                                {
                                    "0": "NULL",
                                    "1": "NULL",
                                    "2": "NULL",
                                    "3": "3",
                                    "4": "3566"
                                },
                                {
                                    "0": "NULL",
                                    "1": "NULL",
                                    "2": "NULL",
                                    "3": "3",
                                    "4": "4582"
                                },
                                {
                                    "0": "NULL",
                                    "1": "NULL",
                                    "2": "NULL",
                                    "3": "3",
                                    "4": "5448"
                                },
                                {
                                    "0": "NULL",
                                    "1": "NULL",
                                    "2": "NULL",
                                    "3": "3",
                                    "4": "5765"
                                },
                                {
                                    "0": "NULL",
                                    "1": "NULL",
                                    "2": "NULL",
                                    "3": "3",
                                    "4": "6274"
                                },
                                {
                                    "0": "NULL",
                                    "1": "NULL",
                                    "2": "NULL",
                                    "3": "3",
                                    "4": "8403"
                                },
                                {
                                    "0": "NULL",
                                    "1": "NULL",
                                    "2": "NULL",
                                    "3": "5",
                                    "4": "31"
                                },
                                {
                                    "0": "The Virtue of Selfishness: A New Concept of Egoism",
                                    "1": "3.47",
                                    "2": "53",
                                    "3": "5",
                                    "4": "665"
                                },
                                {
                                    "0": "NULL",
                                    "1": "NULL",
                                    "2": "NULL",
                                    "3": "5",
                                    "4": "3074"
                                },
                                {
                                    "0": "Sherlock Holmes: The Complete Novels and Stories, Volume I",
                                    "1": "4.45",
                                    "2": "13",
                                    "3": "5",
                                    "4": "3581"
                                },
                                {
                                    "0": "NULL",
                                    "1": "NULL",
                                    "2": "NULL",
                                    "3": "6",
                                    "4": "64"
                                },
                                {
                                    "0": "NULL",
                                    "1": "NULL",
                                    "2": "NULL",
                                    "3": "6",
                                    "4": "459"
                                },
                                {
                                    "0": "NULL",
                                    "1": "NULL",
                                    "2": "NULL",
                                    "3": "6",
                                    "4": "619"
                                },
                                {
                                    "0": "NULL",
                                    "1": "NULL",
                                    "2": "NULL",
                                    "3": "6",
                                    "4": "649"
                                },
                                {
                                    "0": "NULL",
                                    "1": "NULL",
                                    "2": "NULL",
                                    "3": "6",
                                    "4": "687"
                                },
                                {
                                    "0": "NULL",
                                    "1": "NULL",
                                    "2": "NULL",
                                    "3": "6",
                                    "4": "874"
                                },
                                {
                                    "0": "The War of Art: Break Through the Blocks & Win Your Inner Creative Battles",
                                    "1": "4.07",
                                    "2": "29",
                                    "3": "6",
                                    "4": "1319"
                                },
                                {
                                    "0": "NULL",
                                    "1": "NULL",
                                    "2": "NULL",
                                    "3": "6",
                                    "4": "1912"
                                },
                                {
                                    "0": "NULL",
                                    "1": "NULL",
                                    "2": "NULL",
                                    "3": "6",
                                    "4": "5269"
                                },
                                {
                                    "0": "NULL",
                                    "1": "NULL",
                                    "2": "NULL",
                                    "3": "6",
                                    "4": "5537"
                                },
                                {
                                    "0": "NULL",
                                    "1": "NULL",
                                    "2": "NULL",
                                    "3": "6",
                                    "4": "5820"
                                },
                                {
                                    "0": "NULL",
                                    "1": "NULL",
                                    "2": "NULL",
                                    "3": "6",
                                    "4": "6220"
                                },
                                {
                                    "0": "NULL",
                                    "1": "NULL",
                                    "2": "NULL",
                                    "3": "6",
                                    "4": "7480"
                                },
                                {
                                    "0": "Harry Potter Collection (Harry Potter, #1-6)",
                                    "1": "4.73",
                                    "2": "6",
                                    "3": "7",
                                    "4": "10"
                                },
                                {
                                    "0": "NULL",
                                    "1": "NULL",
                                    "2": "NULL",
                                    "3": "7",
                                    "4": "215"
                                },
                                {
                                    "0": "NULL",
                                    "1": "NULL",
                                    "2": "NULL",
                                    "3": "7",
                                    "4": "225"
                                },
                                {
                                    "0": "NULL",
                                    "1": "NULL",
                                    "2": "NULL",
                                    "3": "7",
                                    "4": "233"
                                },
                                {
                                    "0": "NULL",
                                    "1": "NULL",
                                    "2": "NULL",
                                    "3": "7",
                                    "4": "1322"
                                },
                                {
                                    "0": "NULL",
                                    "1": "NULL",
                                    "2": "NULL",
                                    "3": "7",
                                    "4": "3552"
                                },
                                {
                                    "0": "NULL",
                                    "1": "NULL",
                                    "2": "NULL",
                                    "3": "7",
                                    "4": "3720"
                                },
                                {
                                    "0": "NULL",
                                    "1": "NULL",
                                    "2": "NULL",
                                    "3": "7",
                                    "4": "4468"
                                },
                                {
                                    "0": "NULL",
                                    "1": "NULL",
                                    "2": "NULL",
                                    "3": "8",
                                    "4": "19"
                                },
                                {
                                    "0": "NULL",
                                    "1": "NULL",
                                    "2": "NULL",
                                    "3": "8",
                                    "4": "498"
                                },
                                {
                                    "0": "NULL",
                                    "1": "NULL",
                                    "2": "NULL",
                                    "3": "8",
                                    "4": "1357"
                                },
                                {
                                    "0": "NULL",
                                    "1": "NULL",
                                    "2": "NULL",
                                    "3": "8",
                                    "4": "2177"
                                },
                                {
                                    "0": "NULL",
                                    "1": "NULL",
                                    "2": "NULL",
                                    "3": "8",
                                    "4": "3930"
                                },
                                {
                                    "0": "The Pilgrimage",
                                    "1": "3.64",
                                    "2": "171",
                                    "3": "8",
                                    "4": "4004"
                                },
                                {
                                    "0": "NULL",
                                    "1": "NULL",
                                    "2": "NULL",
                                    "3": "8",
                                    "4": "8792"
                                },
                                {
                                    "0": "NULL",
                                    "1": "NULL",
                                    "2": "NULL",
                                    "3": "8",
                                    "4": "9304"
                                },
                                {
                                    "0": "Harry Potter Boxed Set, Books 1-5 (Harry Potter, #1-5)",
                                    "1": "4.77",
                                    "2": "11",
                                    "3": "9",
                                    "4": "8"
                                },
                                {
                                    "0": "Children of Dune (Dune Chronicles #3)",
                                    "1": "3.9",
                                    "2": "116",
                                    "3": "9",
                                    "4": "112"
                                },
                                {
                                    "0": "NULL",
                                    "1": "NULL",
                                    "2": "NULL",
                                    "3": "9",
                                    "4": "139"
                                },
                                {
                                    "0": "NULL",
                                    "1": "NULL",
                                    "2": "NULL",
                                    "3": "9",
                                    "4": "230"
                                },
                                {
                                    "0": "NULL",
                                    "1": "NULL",
                                    "2": "NULL",
                                    "3": "9",
                                    "4": "233"
                                },
                                {
                                    "0": "NULL",
                                    "1": "NULL",
                                    "2": "NULL",
                                    "3": "9",
                                    "4": "473"
                                },
                                {
                                    "0": "NULL",
                                    "1": "NULL",
                                    "2": "NULL",
                                    "3": "9",
                                    "4": "638"
                                },
                                {
                                    "0": "NULL",
                                    "1": "NULL",
                                    "2": "NULL",
                                    "3": "9",
                                    "4": "653"
                                },
                                {
                                    "0": "NULL",
                                    "1": "NULL",
                                    "2": "NULL",
                                    "3": "9",
                                    "4": "672"
                                },
                                {
                                    "0": "NULL",
                                    "1": "NULL",
                                    "2": "NULL",
                                    "3": "9",
                                    "4": "701"
                                },
                                {
                                    "0": "NULL",
                                    "1": "NULL",
                                    "2": "NULL",
                                    "3": "9",
                                    "4": "736"
                                },
                                {
                                    "0": "NULL",
                                    "1": "NULL",
                                    "2": "NULL",
                                    "3": "9",
                                    "4": "883"
                                },
                                {
                                    "0": "NULL",
                                    "1": "NULL",
                                    "2": "NULL",
                                    "3": "9",
                                    "4": "895"
                                },
                                {
                                    "0": "NULL",
                                    "1": "NULL",
                                    "2": "NULL",
                                    "3": "9",
                                    "4": "1467"
                                },
                                {
                                    "0": "NULL",
                                    "1": "NULL",
                                    "2": "NULL",
                                    "3": "9",
                                    "4": "1582"
                                },
                                {
                                    "0": "NULL",
                                    "1": "NULL",
                                    "2": "NULL",
                                    "3": "9",
                                    "4": "1873"
                                },
                                {
                                    "0": "NULL",
                                    "1": "NULL",
                                    "2": "NULL",
                                    "3": "9",
                                    "4": "2516"
                                },
                                {
                                    "0": "NULL",
                                    "1": "NULL",
                                    "2": "NULL",
                                    "3": "9",
                                    "4": "2630"
                                },
                                {
                                    "0": "NULL",
                                    "1": "NULL",
                                    "2": "NULL",
                                    "3": "9",
                                    "4": "3210"
                                },
                                {
                                    "0": "Icy Sparks",
                                    "1": "3.68",
                                    "2": "27",
                                    "3": "9",
                                    "4": "3476"
                                },
                                {
                                    "0": "NULL",
                                    "1": "NULL",
                                    "2": "NULL",
                                    "3": "9",
                                    "4": "3560"
                                },
                                {
                                    "0": "NULL",
                                    "1": "NULL",
                                    "2": "NULL",
                                    "3": "9",
                                    "4": "3650"
                                },
                                {
                                    "0": "NULL",
                                    "1": "NULL",
                                    "2": "NULL",
                                    "3": "9",
                                    "4": "5286"
                                },
                                {
                                    "0": "NULL",
                                    "1": "NULL",
                                    "2": "NULL",
                                    "3": "9",
                                    "4": "6636"
                                },
                                {
                                    "0": "Harry Potter and the Goblet of Fire (Harry Potter, #4)",
                                    "1": "4.53",
                                    "2": "332",
                                    "3": "10",
                                    "4": "6"
                                },
                                {
                                    "0": "NULL",
                                    "1": "NULL",
                                    "2": "NULL",
                                    "3": "10",
                                    "4": "385"
                                },
                                {
                                    "0": "Atlas Shrugged",
                                    "1": "3.68",
                                    "2": "147",
                                    "3": "10",
                                    "4": "662"
                                },
                                {
                                    "0": "NULL",
                                    "1": "NULL",
                                    "2": "NULL",
                                    "3": "10",
                                    "4": "896"
                                },
                                {
                                    "0": "NULL",
                                    "1": "NULL",
                                    "2": "NULL",
                                    "3": "10",
                                    "4": "1076"
                                },
                                {
                                    "0": "NULL",
                                    "1": "NULL",
                                    "2": "NULL",
                                    "3": "10",
                                    "4": "1082"
                                },
                                {
                                    "0": "NULL",
                                    "1": "NULL",
                                    "2": "NULL",
                                    "3": "10",
                                    "4": "1220"
                                },
                                {
                                    "0": "NULL",
                                    "1": "NULL",
                                    "2": "NULL",
                                    "3": "10",
                                    "4": "1281"
                                },
                                {
                                    "0": "NULL",
                                    "1": "NULL",
                                    "2": "NULL",
                                    "3": "10",
                                    "4": "1439"
                                },
                                {
                                    "0": "NULL",
                                    "1": "NULL",
                                    "2": "NULL",
                                    "3": "10",
                                    "4": "1851"
                                },
                                {
                                    "0": "NULL",
                                    "1": "NULL",
                                    "2": "NULL",
                                    "3": "10",
                                    "4": "1920"
                                },
                                {
                                    "0": "NULL",
                                    "1": "NULL",
                                    "2": "NULL",
                                    "3": "10",
                                    "4": "2441"
                                },
                                {
                                    "0": "NULL",
                                    "1": "NULL",
                                    "2": "NULL",
                                    "3": "10",
                                    "4": "2570"
                                },
                                {
                                    "0": "NULL",
                                    "1": "NULL",
                                    "2": "NULL",
                                    "3": "10",
                                    "4": "2616"
                                },
                                {
                                    "0": "NULL",
                                    "1": "NULL",
                                    "2": "NULL",
                                    "3": "10",
                                    "4": "3059"
                                },
                                {
                                    "0": "NULL",
                                    "1": "NULL",
                                    "2": "NULL",
                                    "3": "10",
                                    "4": "3545"
                                },
                                {
                                    "0": "NULL",
                                    "1": "NULL",
                                    "2": "NULL",
                                    "3": "10",
                                    "4": "3961"
                                },
                                {
                                    "0": "NULL",
                                    "1": "NULL",
                                    "2": "NULL",
                                    "3": "10",
                                    "4": "4369"
                                },
                                {
                                    "0": "NULL",
                                    "1": "NULL",
                                    "2": "NULL",
                                    "3": "10",
                                    "4": "4510"
                                },
                                {
                                    "0": "NULL",
                                    "1": "NULL",
                                    "2": "NULL",
                                    "3": "10",
                                    "4": "5104"
                                },
                                {
                                    "0": "NULL",
                                    "1": "NULL",
                                    "2": "NULL",
                                    "3": "10",
                                    "4": "5254"
                                },
                                {
                                    "0": "NULL",
                                    "1": "NULL",
                                    "2": "NULL",
                                    "3": "10",
                                    "4": "5556"
                                },
                                {
                                    "0": "NULL",
                                    "1": "NULL",
                                    "2": "NULL",
                                    "3": "10",
                                    "4": "6114"
                                },
                                {
                                    "0": "NULL",
                                    "1": "NULL",
                                    "2": "NULL",
                                    "3": "10",
                                    "4": "6917"
                                },
                                {
                                    "0": "NULL",
                                    "1": "NULL",
                                    "2": "NULL",
                                    "3": "10",
                                    "4": "7545"
                                },
                                {
                                    "0": "NULL",
                                    "1": "NULL",
                                    "2": "NULL",
                                    "3": "10",
                                    "4": "7842"
                                },
                                {
                                    "0": "NULL",
                                    "1": "NULL",
                                    "2": "NULL",
                                    "3": "11",
                                    "4": "3643"
                                },
                                {
                                    "0": "Harry Potter and the Half-Blood Prince (Harry Potter, #6)",
                                    "1": "4.54",
                                    "2": "275",
                                    "3": "12",
                                    "4": "1"
                                },
                                {
                                    "0": "NULL",
                                    "1": "NULL",
                                    "2": "NULL",
                                    "3": "12",
                                    "4": "124"
                                },
                                {
                                    "0": "NULL",
                                    "1": "NULL",
                                    "2": "NULL",
                                    "3": "12",
                                    "4": "1471"
                                },
                                {
                                    "0": "NULL",
                                    "1": "NULL",
                                    "2": "NULL",
                                    "3": "12",
                                    "4": "2893"
                                },
                                {
                                    "0": "NULL",
                                    "1": "NULL",
                                    "2": "NULL",
                                    "3": "13",
                                    "4": "81"
                                },
                                {
                                    "0": "NULL",
                                    "1": "NULL",
                                    "2": "NULL",
                                    "3": "13",
                                    "4": "277"
                                },
                                {
                                    "0": "NULL",
                                    "1": "NULL",
                                    "2": "NULL",
                                    "3": "13",
                                    "4": "318"
                                },
                                {
                                    "0": "NULL",
                                    "1": "NULL",
                                    "2": "NULL",
                                    "3": "13",
                                    "4": "430"
                                },
                                {
                                    "0": "NULL",
                                    "1": "NULL",
                                    "2": "NULL",
                                    "3": "13",
                                    "4": "437"
                                },
                                {
                                    "0": "NULL",
                                    "1": "NULL",
                                    "2": "NULL",
                                    "3": "13",
                                    "4": "551"
                                },
                                {
                                    "0": "NULL",
                                    "1": "NULL",
                                    "2": "NULL",
                                    "3": "13",
                                    "4": "560"
                                },
                                {
                                    "0": "NULL",
                                    "1": "NULL",
                                    "2": "NULL",
                                    "3": "13",
                                    "4": "610"
                                },
                                {
                                    "0": "NULL",
                                    "1": "NULL",
                                    "2": "NULL",
                                    "3": "13",
                                    "4": "678"
                                },
                                {
                                    "0": "NULL",
                                    "1": "NULL",
                                    "2": "NULL",
                                    "3": "13",
                                    "4": "979"
                                },
                                {
                                    "0": "NULL",
                                    "1": "NULL",
                                    "2": "NULL",
                                    "3": "13",
                                    "4": "1082"
                                },
                                {
                                    "0": "NULL",
                                    "1": "NULL",
                                    "2": "NULL",
                                    "3": "13",
                                    "4": "1464"
                                },
                                {
                                    "0": "NULL",
                                    "1": "NULL",
                                    "2": "NULL",
                                    "3": "13",
                                    "4": "1577"
                                },
                                {
                                    "0": "NULL",
                                    "1": "NULL",
                                    "2": "NULL",
                                    "3": "13",
                                    "4": "2018"
                                },
                                {
                                    "0": "NULL",
                                    "1": "NULL",
                                    "2": "NULL",
                                    "3": "13",
                                    "4": "2418"
                                },
                                {
                                    "0": "NULL",
                                    "1": "NULL",
                                    "2": "NULL",
                                    "3": "13",
                                    "4": "3257"
                                },
                                {
                                    "0": "NULL",
                                    "1": "NULL",
                                    "2": "NULL",
                                    "3": "13",
                                    "4": "4212"
                                },
                                {
                                    "0": "NULL",
                                    "1": "NULL",
                                    "2": "NULL",
                                    "3": "13",
                                    "4": "4635"
                                },
                                {
                                    "0": "NULL",
                                    "1": "NULL",
                                    "2": "NULL",
                                    "3": "13",
                                    "4": "4704"
                                },
                                {
                                    "0": "NULL",
                                    "1": "NULL",
                                    "2": "NULL",
                                    "3": "13",
                                    "4": "4734"
                                },
                                {
                                    "0": "NULL",
                                    "1": "NULL",
                                    "2": "NULL",
                                    "3": "13",
                                    "4": "4841"
                                },
                                {
                                    "0": "NULL",
                                    "1": "NULL",
                                    "2": "NULL",
                                    "3": "13",
                                    "4": "4848"
                                },
                                {
                                    "0": "NULL",
                                    "1": "NULL",
                                    "2": "NULL",
                                    "3": "13",
                                    "4": "4856"
                                },
                                {
                                    "0": "NULL",
                                    "1": "NULL",
                                    "2": "NULL",
                                    "3": "13",
                                    "4": "4928"
                                },
                                {
                                    "0": "NULL",
                                    "1": "NULL",
                                    "2": "NULL",
                                    "3": "13",
                                    "4": "6114"
                                },
                                {
                                    "0": "NULL",
                                    "1": "NULL",
                                    "2": "NULL",
                                    "3": "13",
                                    "4": "6793"
                                },
                                {
                                    "0": "NULL",
                                    "1": "NULL",
                                    "2": "NULL",
                                    "3": "13",
                                    "4": "6962"
                                },
                                {
                                    "0": "NULL",
                                    "1": "NULL",
                                    "2": "NULL",
                                    "3": "13",
                                    "4": "8717"
                                },
                                {
                                    "0": "NULL",
                                    "1": "NULL",
                                    "2": "NULL",
                                    "3": "14",
                                    "4": "493"
                                },
                                {
                                    "0": "NULL",
                                    "1": "NULL",
                                    "2": "NULL",
                                    "3": "14",
                                    "4": "1179"
                                },
                                {
                                    "0": "NULL",
                                    "1": "NULL",
                                    "2": "NULL",
                                    "3": "14",
                                    "4": "2693"
                                },
                                {
                                    "0": "Sherlock Holmes: The Complete Novels and Stories, Volume I",
                                    "1": "4.45",
                                    "2": "13",
                                    "3": "14",
                                    "4": "3581"
                                },
                                {
                                    "0": "NULL",
                                    "1": "NULL",
                                    "2": "NULL",
                                    "3": "14",
                                    "4": "3683"
                                },
                                {
                                    "0": "NULL",
                                    "1": "NULL",
                                    "2": "NULL",
                                    "3": "14",
                                    "4": "3953"
                                },
                                {
                                    "0": "NULL",
                                    "1": "NULL",
                                    "2": "NULL",
                                    "3": "14",
                                    "4": "4220"
                                },
                                {
                                    "0": "NULL",
                                    "1": "NULL",
                                    "2": "NULL",
                                    "3": "14",
                                    "4": "5076"
                                },
                                {
                                    "0": "NULL",
                                    "1": "NULL",
                                    "2": "NULL",
                                    "3": "14",
                                    "4": "5537"
                                },
                                {
                                    "0": "NULL",
                                    "1": "NULL",
                                    "2": "NULL",
                                    "3": "14",
                                    "4": "7777"
                                },
                                {
                                    "0": "NULL",
                                    "1": "NULL",
                                    "2": "NULL",
                                    "3": "15",
                                    "4": "191"
                                },
                                {
                                    "0": "The Lover",
                                    "1": "3.76",
                                    "2": "148",
                                    "3": "15",
                                    "4": "275"
                                },
                                {
                                    "0": "NULL",
                                    "1": "NULL",
                                    "2": "NULL",
                                    "3": "15",
                                    "4": "398"
                                },
                                {
                                    "0": "NULL",
                                    "1": "NULL",
                                    "2": "NULL",
                                    "3": "15",
                                    "4": "666"
                                },
                                {
                                    "0": "NULL",
                                    "1": "NULL",
                                    "2": "NULL",
                                    "3": "15",
                                    "4": "1491"
                                },
                                {
                                    "0": "NULL",
                                    "1": "NULL",
                                    "2": "NULL",
                                    "3": "15",
                                    "4": "5210"
                                },
                                {
                                    "0": "NULL",
                                    "1": "NULL",
                                    "2": "NULL",
                                    "3": "17",
                                    "4": "1344"
                                },
                                {
                                    "0": "The Good Soldier",
                                    "1": "3.72",
                                    "2": "362",
                                    "3": "20",
                                    "4": "7628"
                                },
                                {
                                    "0": "NULL",
                                    "1": "NULL",
                                    "2": "NULL",
                                    "3": "22",
                                    "4": "653"
                                },
                                {
                                    "0": "NULL",
                                    "1": "NULL",
                                    "2": "NULL",
                                    "3": "22",
                                    "4": "1403"
                                },
                                {
                                    "0": "NULL",
                                    "1": "NULL",
                                    "2": "NULL",
                                    "3": "22",
                                    "4": "1405"
                                },
                                {
                                    "0": "NULL",
                                    "1": "NULL",
                                    "2": "NULL",
                                    "3": "22",
                                    "4": "1645"
                                },
                                {
                                    "0": "NULL",
                                    "1": "NULL",
                                    "2": "NULL",
                                    "3": "22",
                                    "4": "2500"
                                },
                                {
                                    "0": "NULL",
                                    "1": "NULL",
                                    "2": "NULL",
                                    "3": "22",
                                    "4": "2691"
                                },
                                {
                                    "0": "NULL",
                                    "1": "NULL",
                                    "2": "NULL",
                                    "3": "22",
                                    "4": "4995"
                                },
                                {
                                    "0": "NULL",
                                    "1": "NULL",
                                    "2": "NULL",
                                    "3": "23",
                                    "4": "273"
                                },
                                {
                                    "0": "NULL",
                                    "1": "NULL",
                                    "2": "NULL",
                                    "3": "23",
                                    "4": "459"
                                },
                                {
                                    "0": "NULL",
                                    "1": "NULL",
                                    "2": "NULL",
                                    "3": "23",
                                    "4": "791"
                                },
                                {
                                    "0": "NULL",
                                    "1": "NULL",
                                    "2": "NULL",
                                    "3": "23",
                                    "4": "886"
                                },
                                {
                                    "0": "NULL",
                                    "1": "NULL",
                                    "2": "NULL",
                                    "3": "23",
                                    "4": "925"
                                },
                                {
                                    "0": "NULL",
                                    "1": "NULL",
                                    "2": "NULL",
                                    "3": "23",
                                    "4": "1198"
                                },
                                {
                                    "0": "NULL",
                                    "1": "NULL",
                                    "2": "NULL",
                                    "3": "23",
                                    "4": "1597"
                                },
                                {
                                    "0": "NULL",
                                    "1": "NULL",
                                    "2": "NULL",
                                    "3": "23",
                                    "4": "1688"
                                },
                                {
                                    "0": "NULL",
                                    "1": "NULL",
                                    "2": "NULL",
                                    "3": "23",
                                    "4": "2251"
                                },
                                {
                                    "0": "NULL",
                                    "1": "NULL",
                                    "2": "NULL",
                                    "3": "23",
                                    "4": "2350"
                                },
                                {
                                    "0": "NULL",
                                    "1": "NULL",
                                    "2": "NULL",
                                    "3": "23",
                                    "4": "2613"
                                },
                                {
                                    "0": "NULL",
                                    "1": "NULL",
                                    "2": "NULL",
                                    "3": "23",
                                    "4": "3312"
                                },
                                {
                                    "0": "NULL",
                                    "1": "NULL",
                                    "2": "NULL",
                                    "3": "23",
                                    "4": "3343"
                                },
                                {
                                    "0": "NULL",
                                    "1": "NULL",
                                    "2": "NULL",
                                    "3": "24",
                                    "4": "61"
                                },
                                {
                                    "0": "NULL",
                                    "1": "NULL",
                                    "2": "NULL",
                                    "3": "24",
                                    "4": "143"
                                },
                                {
                                    "0": "NULL",
                                    "1": "NULL",
                                    "2": "NULL",
                                    "3": "24",
                                    "4": "421"
                                },
                                {
                                    "0": "NULL",
                                    "1": "NULL",
                                    "2": "NULL",
                                    "3": "24",
                                    "4": "467"
                                },
                                {
                                    "0": "NULL",
                                    "1": "NULL",
                                    "2": "NULL",
                                    "3": "24",
                                    "4": "974"
                                },
                                {
                                    "0": "NULL",
                                    "1": "NULL",
                                    "2": "NULL",
                                    "3": "26",
                                    "4": "508"
                                },
                                {
                                    "0": "NULL",
                                    "1": "NULL",
                                    "2": "NULL",
                                    "3": "26",
                                    "4": "1796"
                                },
                                {
                                    "0": "NULL",
                                    "1": "NULL",
                                    "2": "NULL",
                                    "3": "26",
                                    "4": "2257"
                                },
                                {
                                    "0": "NULL",
                                    "1": "NULL",
                                    "2": "NULL",
                                    "3": "26",
                                    "4": "2314"
                                },
                                {
                                    "0": "NULL",
                                    "1": "NULL",
                                    "2": "NULL",
                                    "3": "26",
                                    "4": "2357"
                                },
                                {
                                    "0": "NULL",
                                    "1": "NULL",
                                    "2": "NULL",
                                    "3": "26",
                                    "4": "2738"
                                },
                                {
                                    "0": "NULL",
                                    "1": "NULL",
                                    "2": "NULL",
                                    "3": "26",
                                    "4": "2810"
                                },
                                {
                                    "0": "NULL",
                                    "1": "NULL",
                                    "2": "NULL",
                                    "3": "26",
                                    "4": "3207"
                                },
                                {
                                    "0": "The Thorn Birds",
                                    "1": "4.22",
                                    "2": "201",
                                    "3": "26",
                                    "4": "3412"
                                },
                                {
                                    "0": "The Complete Sherlock Holmes, Vol 2",
                                    "1": "4.46",
                                    "2": "117",
                                    "3": "26",
                                    "4": "3586"
                                },
                                {
                                    "0": "The Dark Tower (The Dark Tower, #7)",
                                    "1": "4.27",
                                    "2": "105",
                                    "3": "26",
                                    "4": "5091"
                                },
                                {
                                    "0": "NULL",
                                    "1": "NULL",
                                    "2": "NULL",
                                    "3": "26",
                                    "4": "5550"
                                },
                                {
                                    "0": "NULL",
                                    "1": "NULL",
                                    "2": "NULL",
                                    "3": "26",
                                    "4": "6877"
                                },
                                {
                                    "0": "NULL",
                                    "1": "NULL",
                                    "2": "NULL",
                                    "3": "26",
                                    "4": "7970"
                                },
                                {
                                    "0": "NULL",
                                    "1": "NULL",
                                    "2": "NULL",
                                    "3": "28",
                                    "4": "265"
                                },
                                {
                                    "0": "NULL",
                                    "1": "NULL",
                                    "2": "NULL",
                                    "3": "28",
                                    "4": "587"
                                },
                                {
                                    "0": "NULL",
                                    "1": "NULL",
                                    "2": "NULL",
                                    "3": "28",
                                    "4": "3543"
                                },
                                {
                                    "0": "NULL",
                                    "1": "NULL",
                                    "2": "NULL",
                                    "3": "28",
                                    "4": "5215"
                                },
                                {
                                    "0": "NULL",
                                    "1": "NULL",
                                    "2": "NULL",
                                    "3": "28",
                                    "4": "7496"
                                },
                                {
                                    "0": "NULL",
                                    "1": "NULL",
                                    "2": "NULL",
                                    "3": "28",
                                    "4": "8654"
                                },
                                {
                                    "0": "NULL",
                                    "1": "NULL",
                                    "2": "NULL",
                                    "3": "29",
                                    "4": "31"
                                },
                                {
                                    "0": "NULL",
                                    "1": "NULL",
                                    "2": "NULL",
                                    "3": "29",
                                    "4": "32"
                                },
                                {
                                    "0": "The Lord of the Rings: Weapons and Warfare",
                                    "1": "4.53",
                                    "2": "12",
                                    "3": "29",
                                    "4": "36"
                                },
                                {
                                    "0": "NULL",
                                    "1": "NULL",
                                    "2": "NULL",
                                    "3": "29",
                                    "4": "45"
                                },
                                {
                                    "0": "NULL",
                                    "1": "NULL",
                                    "2": "NULL",
                                    "3": "29",
                                    "4": "65"
                                },
                                {
                                    "0": "NULL",
                                    "1": "NULL",
                                    "2": "NULL",
                                    "3": "29",
                                    "4": "87"
                                },
                                {
                                    "0": "NULL",
                                    "1": "NULL",
                                    "2": "NULL",
                                    "3": "29",
                                    "4": "115"
                                },
                                {
                                    "0": "NULL",
                                    "1": "NULL",
                                    "2": "NULL",
                                    "3": "29",
                                    "4": "121"
                                },
                                {
                                    "0": "NULL",
                                    "1": "NULL",
                                    "2": "NULL",
                                    "3": "29",
                                    "4": "131"
                                },
                                {
                                    "0": "NULL",
                                    "1": "NULL",
                                    "2": "NULL",
                                    "3": "29",
                                    "4": "178"
                                },
                                {
                                    "0": "NULL",
                                    "1": "NULL",
                                    "2": "NULL",
                                    "3": "29",
                                    "4": "256"
                                },
                                {
                                    "0": "NULL",
                                    "1": "NULL",
                                    "2": "NULL",
                                    "3": "29",
                                    "4": "323"
                                },
                                {
                                    "0": "Slouching Towards Bethlehem",
                                    "1": "4.24",
                                    "2": "34",
                                    "3": "29",
                                    "4": "424"
                                },
                                {
                                    "0": "NULL",
                                    "1": "NULL",
                                    "2": "NULL",
                                    "3": "29",
                                    "4": "467"
                                },
                                {
                                    "0": "NULL",
                                    "1": "NULL",
                                    "2": "NULL",
                                    "3": "29",
                                    "4": "550"
                                },
                                {
                                    "0": "NULL",
                                    "1": "NULL",
                                    "2": "NULL",
                                    "3": "29",
                                    "4": "618"
                                },
                                {
                                    "0": "Atlas Shrugged",
                                    "1": "3.68",
                                    "2": "147",
                                    "3": "29",
                                    "4": "662"
                                },
                                {
                                    "0": "NULL",
                                    "1": "NULL",
                                    "2": "NULL",
                                    "3": "29",
                                    "4": "709"
                                },
                                {
                                    "0": "NULL",
                                    "1": "NULL",
                                    "2": "NULL",
                                    "3": "29",
                                    "4": "730"
                                },
                                {
                                    "0": "NULL",
                                    "1": "NULL",
                                    "2": "NULL",
                                    "3": "29",
                                    "4": "771"
                                },
                                {
                                    "0": "NULL",
                                    "1": "NULL",
                                    "2": "NULL",
                                    "3": "29",
                                    "4": "809"
                                },
                                {
                                    "0": "NULL",
                                    "1": "NULL",
                                    "2": "NULL",
                                    "3": "29",
                                    "4": "934"
                                },
                                {
                                    "0": "NULL",
                                    "1": "NULL",
                                    "2": "NULL",
                                    "3": "29",
                                    "4": "1084"
                                },
                                {
                                    "0": "NULL",
                                    "1": "NULL",
                                    "2": "NULL",
                                    "3": "29",
                                    "4": "1364"
                                },
                                {
                                    "0": "NULL",
                                    "1": "NULL",
                                    "2": "NULL",
                                    "3": "29",
                                    "4": "1642"
                                },
                                {
                                    "0": "NULL",
                                    "1": "NULL",
                                    "2": "NULL",
                                    "3": "29",
                                    "4": "1695"
                                },
                                {
                                    "0": "NULL",
                                    "1": "NULL",
                                    "2": "NULL",
                                    "3": "29",
                                    "4": "2259"
                                },
                                {
                                    "0": "NULL",
                                    "1": "NULL",
                                    "2": "NULL",
                                    "3": "29",
                                    "4": "2284"
                                },
                                {
                                    "0": "NULL",
                                    "1": "NULL",
                                    "2": "NULL",
                                    "3": "29",
                                    "4": "2304"
                                },
                                {
                                    "0": "NULL",
                                    "1": "NULL",
                                    "2": "NULL",
                                    "3": "29",
                                    "4": "2967"
                                },
                                {
                                    "0": "NULL",
                                    "1": "NULL",
                                    "2": "NULL",
                                    "3": "29",
                                    "4": "3508"
                                },
                                {
                                    "0": "NULL",
                                    "1": "NULL",
                                    "2": "NULL",
                                    "3": "29",
                                    "4": "4359"
                                },
                                {
                                    "0": "NULL",
                                    "1": "NULL",
                                    "2": "NULL",
                                    "3": "29",
                                    "4": "4394"
                                },
                                {
                                    "0": "NULL",
                                    "1": "NULL",
                                    "2": "NULL",
                                    "3": "29",
                                    "4": "4475"
                                },
                                {
                                    "0": "NULL",
                                    "1": "NULL",
                                    "2": "NULL",
                                    "3": "29",
                                    "4": "4629"
                                },
                                {
                                    "0": "NULL",
                                    "1": "NULL",
                                    "2": "NULL",
                                    "3": "29",
                                    "4": "5090"
                                },
                                {
                                    "0": "NULL",
                                    "1": "NULL",
                                    "2": "NULL",
                                    "3": "29",
                                    "4": "5596"
                                },
                                {
                                    "0": "NULL",
                                    "1": "NULL",
                                    "2": "NULL",
                                    "3": "29",
                                    "4": "5851"
                                },
                                {
                                    "0": "NULL",
                                    "1": "NULL",
                                    "2": "NULL",
                                    "3": "29",
                                    "4": "6104"
                                },
                                {
                                    "0": "NULL",
                                    "1": "NULL",
                                    "2": "NULL",
                                    "3": "30",
                                    "4": "47"
                                },
                                {
                                    "0": "The Known World",
                                    "1": "3.82",
                                    "2": "42",
                                    "3": "30",
                                    "4": "67"
                                },
                                {
                                    "0": "NULL",
                                    "1": "NULL",
                                    "2": "NULL",
                                    "3": "30",
                                    "4": "82"
                                },
                                {
                                    "0": "NULL",
                                    "1": "NULL",
                                    "2": "NULL",
                                    "3": "30",
                                    "4": "121"
                                },
                                {
                                    "0": "NULL",
                                    "1": "NULL",
                                    "2": "NULL",
                                    "3": "30",
                                    "4": "177"
                                },
                                {
                                    "0": "Tropic of Cancer",
                                    "1": "3.71",
                                    "2": "205",
                                    "3": "30",
                                    "4": "249"
                                },
                                {
                                    "0": "NULL",
                                    "1": "NULL",
                                    "2": "NULL",
                                    "3": "30",
                                    "4": "297"
                                },
                                {
                                    "0": "NULL",
                                    "1": "NULL",
                                    "2": "NULL",
                                    "3": "30",
                                    "4": "407"
                                },
                                {
                                    "0": "NULL",
                                    "1": "NULL",
                                    "2": "NULL",
                                    "3": "30",
                                    "4": "426"
                                },
                                {
                                    "0": "NULL",
                                    "1": "NULL",
                                    "2": "NULL",
                                    "3": "30",
                                    "4": "430"
                                },
                                {
                                    "0": "NULL",
                                    "1": "NULL",
                                    "2": "NULL",
                                    "3": "30",
                                    "4": "442"
                                },
                                {
                                    "0": "NULL",
                                    "1": "NULL",
                                    "2": "NULL",
                                    "3": "30",
                                    "4": "516"
                                },
                                {
                                    "0": "NULL",
                                    "1": "NULL",
                                    "2": "NULL",
                                    "3": "30",
                                    "4": "658"
                                },
                                {
                                    "0": "NULL",
                                    "1": "NULL",
                                    "2": "NULL",
                                    "3": "30",
                                    "4": "895"
                                },
                                {
                                    "0": "NULL",
                                    "1": "NULL",
                                    "2": "NULL",
                                    "3": "30",
                                    "4": "1039"
                                },
                                {
                                    "0": "NULL",
                                    "1": "NULL",
                                    "2": "NULL",
                                    "3": "30",
                                    "4": "1094"
                                },
                                {
                                    "0": "The Odyssey",
                                    "1": "3.73",
                                    "2": "1703",
                                    "3": "30",
                                    "4": "1381"
                                },
                                {
                                    "0": "NULL",
                                    "1": "NULL",
                                    "2": "NULL",
                                    "3": "30",
                                    "4": "2117"
                                },
                                {
                                    "0": "NULL",
                                    "1": "NULL",
                                    "2": "NULL",
                                    "3": "30",
                                    "4": "2426"
                                },
                                {
                                    "0": "NULL",
                                    "1": "NULL",
                                    "2": "NULL",
                                    "3": "30",
                                    "4": "3444"
                                },
                                {
                                    "0": "The Pilgrimage",
                                    "1": "3.64",
                                    "2": "171",
                                    "3": "30",
                                    "4": "4004"
                                },
                                {
                                    "0": "NULL",
                                    "1": "NULL",
                                    "2": "NULL",
                                    "3": "30",
                                    "4": "4202"
                                },
                                {
                                    "0": "NULL",
                                    "1": "NULL",
                                    "2": "NULL",
                                    "3": "30",
                                    "4": "4509"
                                },
                                {
                                    "0": "NULL",
                                    "1": "NULL",
                                    "2": "NULL",
                                    "3": "30",
                                    "4": "5880"
                                },
                                {
                                    "0": "The Hobbit",
                                    "1": "4.25",
                                    "2": "969",
                                    "3": "30",
                                    "4": "5907"
                                },
                                {
                                    "0": "NULL",
                                    "1": "NULL",
                                    "2": "NULL",
                                    "3": "30",
                                    "4": "6828"
                                },
                                {
                                    "0": "NULL",
                                    "1": "NULL",
                                    "2": "NULL",
                                    "3": "30",
                                    "4": "7563"
                                },
                                {
                                    "0": "NULL",
                                    "1": "NULL",
                                    "2": "NULL",
                                    "3": "30",
                                    "4": "8737"
                                },
                                {
                                    "0": "NULL",
                                    "1": "NULL",
                                    "2": "NULL",
                                    "3": "31",
                                    "4": "94"
                                },
                                {
                                    "0": "NULL",
                                    "1": "NULL",
                                    "2": "NULL",
                                    "3": "31",
                                    "4": "584"
                                }
                            ]
                        },
                        "text/html": [
                            "<table>",
                            "<tr><th>title</th><th>average_rating</th><th>books_count</th><th>user_id</th><th>book_id</th></tr>",
                            "<tr><td>Children of Dune (Dune Chronicles #3)</td><td>3.9</td><td>116</td><td>1</td><td>112</td></tr>",
                            "<tr><td>NULL</td><td>NULL</td><td>NULL</td><td>1</td><td>235</td></tr>",
                            "<tr><td>NULL</td><td>NULL</td><td>NULL</td><td>1</td><td>533</td></tr>",
                            "<tr><td>NULL</td><td>NULL</td><td>NULL</td><td>1</td><td>1198</td></tr>",
                            "<tr><td>NULL</td><td>NULL</td><td>NULL</td><td>1</td><td>1874</td></tr>",
                            "<tr><td>NULL</td><td>NULL</td><td>NULL</td><td>1</td><td>2058</td></tr>",
                            "<tr><td>NULL</td><td>NULL</td><td>NULL</td><td>1</td><td>3334</td></tr>",
                            "<tr><td>NULL</td><td>NULL</td><td>NULL</td><td>2</td><td>4</td></tr>",
                            "<tr><td>NULL</td><td>NULL</td><td>NULL</td><td>2</td><td>11</td></tr>",
                            "<tr><td>The Ultimate Hitchhiker's Guide to the Galaxy</td><td>4.37</td><td>32</td><td>2</td><td>13</td></tr>",
                            "<tr><td>NULL</td><td>NULL</td><td>NULL</td><td>2</td><td>16</td></tr>",
                            "<tr><td>NULL</td><td>NULL</td><td>NULL</td><td>2</td><td>92</td></tr>",
                            "<tr><td>Dune Messiah (Dune Chronicles #2)</td><td>3.86</td><td>140</td><td>2</td><td>106</td></tr>",
                            "<tr><td>NULL</td><td>NULL</td><td>NULL</td><td>2</td><td>113</td></tr>",
                            "<tr><td>NULL</td><td>NULL</td><td>NULL</td><td>2</td><td>233</td></tr>",
                            "<tr><td>NULL</td><td>NULL</td><td>NULL</td><td>2</td><td>247</td></tr>",
                            "<tr><td>NULL</td><td>NULL</td><td>NULL</td><td>2</td><td>380</td></tr>",
                            "<tr><td>NULL</td><td>NULL</td><td>NULL</td><td>2</td><td>408</td></tr>",
                            "<tr><td>NULL</td><td>NULL</td><td>NULL</td><td>2</td><td>439</td></tr>",
                            "<tr><td>NULL</td><td>NULL</td><td>NULL</td><td>2</td><td>479</td></tr>",
                            "<tr><td>NULL</td><td>NULL</td><td>NULL</td><td>2</td><td>516</td></tr>",
                            "<tr><td>NULL</td><td>NULL</td><td>NULL</td><td>2</td><td>619</td></tr>",
                            "<tr><td>NULL</td><td>NULL</td><td>NULL</td><td>2</td><td>1069</td></tr>",
                            "<tr><td>The Iliad</td><td>3.83</td><td>1726</td><td>2</td><td>1371</td></tr>",
                            "<tr><td>NULL</td><td>NULL</td><td>NULL</td><td>2</td><td>1384</td></tr>",
                            "<tr><td>NULL</td><td>NULL</td><td>NULL</td><td>2</td><td>1597</td></tr>",
                            "<tr><td>NULL</td><td>NULL</td><td>NULL</td><td>2</td><td>1926</td></tr>",
                            "<tr><td>NULL</td><td>NULL</td><td>NULL</td><td>2</td><td>1967</td></tr>",
                            "<tr><td>NULL</td><td>NULL</td><td>NULL</td><td>2</td><td>1969</td></tr>",
                            "<tr><td>NULL</td><td>NULL</td><td>NULL</td><td>2</td><td>2220</td></tr>",
                            "<tr><td>NULL</td><td>NULL</td><td>NULL</td><td>2</td><td>2388</td></tr>",
                            "<tr><td>NULL</td><td>NULL</td><td>NULL</td><td>2</td><td>3222</td></tr>",
                            "<tr><td>NULL</td><td>NULL</td><td>NULL</td><td>2</td><td>3227</td></tr>",
                            "<tr><td>NULL</td><td>NULL</td><td>NULL</td><td>2</td><td>3733</td></tr>",
                            "<tr><td>NULL</td><td>NULL</td><td>NULL</td><td>2</td><td>5418</td></tr>",
                            "<tr><td>NULL</td><td>NULL</td><td>NULL</td><td>2</td><td>6937</td></tr>",
                            "<tr><td>NULL</td><td>NULL</td><td>NULL</td><td>2</td><td>7146</td></tr>",
                            "<tr><td>NULL</td><td>NULL</td><td>NULL</td><td>2</td><td>7873</td></tr>",
                            "<tr><td>NULL</td><td>NULL</td><td>NULL</td><td>2</td><td>8417</td></tr>",
                            "<tr><td>Harry Potter Collection (Harry Potter, #1-6)</td><td>4.73</td><td>6</td><td>3</td><td>10</td></tr>",
                            "<tr><td>NULL</td><td>NULL</td><td>NULL</td><td>3</td><td>66</td></tr>",
                            "<tr><td>NULL</td><td>NULL</td><td>NULL</td><td>3</td><td>233</td></tr>",
                            "<tr><td>NULL</td><td>NULL</td><td>NULL</td><td>3</td><td>726</td></tr>",
                            "<tr><td>NULL</td><td>NULL</td><td>NULL</td><td>3</td><td>932</td></tr>",
                            "<tr><td>NULL</td><td>NULL</td><td>NULL</td><td>3</td><td>1146</td></tr>",
                            "<tr><td>NULL</td><td>NULL</td><td>NULL</td><td>3</td><td>2439</td></tr>",
                            "<tr><td>NULL</td><td>NULL</td><td>NULL</td><td>3</td><td>3566</td></tr>",
                            "<tr><td>NULL</td><td>NULL</td><td>NULL</td><td>3</td><td>4582</td></tr>",
                            "<tr><td>NULL</td><td>NULL</td><td>NULL</td><td>3</td><td>5448</td></tr>",
                            "<tr><td>NULL</td><td>NULL</td><td>NULL</td><td>3</td><td>5765</td></tr>",
                            "<tr><td>NULL</td><td>NULL</td><td>NULL</td><td>3</td><td>6274</td></tr>",
                            "<tr><td>NULL</td><td>NULL</td><td>NULL</td><td>3</td><td>8403</td></tr>",
                            "<tr><td>NULL</td><td>NULL</td><td>NULL</td><td>5</td><td>31</td></tr>",
                            "<tr><td>The Virtue of Selfishness: A New Concept of Egoism</td><td>3.47</td><td>53</td><td>5</td><td>665</td></tr>",
                            "<tr><td>NULL</td><td>NULL</td><td>NULL</td><td>5</td><td>3074</td></tr>",
                            "<tr><td>Sherlock Holmes: The Complete Novels and Stories, Volume I</td><td>4.45</td><td>13</td><td>5</td><td>3581</td></tr>",
                            "<tr><td>NULL</td><td>NULL</td><td>NULL</td><td>6</td><td>64</td></tr>",
                            "<tr><td>NULL</td><td>NULL</td><td>NULL</td><td>6</td><td>459</td></tr>",
                            "<tr><td>NULL</td><td>NULL</td><td>NULL</td><td>6</td><td>619</td></tr>",
                            "<tr><td>NULL</td><td>NULL</td><td>NULL</td><td>6</td><td>649</td></tr>",
                            "<tr><td>NULL</td><td>NULL</td><td>NULL</td><td>6</td><td>687</td></tr>",
                            "<tr><td>NULL</td><td>NULL</td><td>NULL</td><td>6</td><td>874</td></tr>",
                            "<tr><td>The War of Art: Break Through the Blocks &amp; Win Your Inner Creative Battles</td><td>4.07</td><td>29</td><td>6</td><td>1319</td></tr>",
                            "<tr><td>NULL</td><td>NULL</td><td>NULL</td><td>6</td><td>1912</td></tr>",
                            "<tr><td>NULL</td><td>NULL</td><td>NULL</td><td>6</td><td>5269</td></tr>",
                            "<tr><td>NULL</td><td>NULL</td><td>NULL</td><td>6</td><td>5537</td></tr>",
                            "<tr><td>NULL</td><td>NULL</td><td>NULL</td><td>6</td><td>5820</td></tr>",
                            "<tr><td>NULL</td><td>NULL</td><td>NULL</td><td>6</td><td>6220</td></tr>",
                            "<tr><td>NULL</td><td>NULL</td><td>NULL</td><td>6</td><td>7480</td></tr>",
                            "<tr><td>Harry Potter Collection (Harry Potter, #1-6)</td><td>4.73</td><td>6</td><td>7</td><td>10</td></tr>",
                            "<tr><td>NULL</td><td>NULL</td><td>NULL</td><td>7</td><td>215</td></tr>",
                            "<tr><td>NULL</td><td>NULL</td><td>NULL</td><td>7</td><td>225</td></tr>",
                            "<tr><td>NULL</td><td>NULL</td><td>NULL</td><td>7</td><td>233</td></tr>",
                            "<tr><td>NULL</td><td>NULL</td><td>NULL</td><td>7</td><td>1322</td></tr>",
                            "<tr><td>NULL</td><td>NULL</td><td>NULL</td><td>7</td><td>3552</td></tr>",
                            "<tr><td>NULL</td><td>NULL</td><td>NULL</td><td>7</td><td>3720</td></tr>",
                            "<tr><td>NULL</td><td>NULL</td><td>NULL</td><td>7</td><td>4468</td></tr>",
                            "<tr><td>NULL</td><td>NULL</td><td>NULL</td><td>8</td><td>19</td></tr>",
                            "<tr><td>NULL</td><td>NULL</td><td>NULL</td><td>8</td><td>498</td></tr>",
                            "<tr><td>NULL</td><td>NULL</td><td>NULL</td><td>8</td><td>1357</td></tr>",
                            "<tr><td>NULL</td><td>NULL</td><td>NULL</td><td>8</td><td>2177</td></tr>",
                            "<tr><td>NULL</td><td>NULL</td><td>NULL</td><td>8</td><td>3930</td></tr>",
                            "<tr><td>The Pilgrimage</td><td>3.64</td><td>171</td><td>8</td><td>4004</td></tr>",
                            "<tr><td>NULL</td><td>NULL</td><td>NULL</td><td>8</td><td>8792</td></tr>",
                            "<tr><td>NULL</td><td>NULL</td><td>NULL</td><td>8</td><td>9304</td></tr>",
                            "<tr><td>Harry Potter Boxed Set, Books 1-5 (Harry Potter, #1-5)</td><td>4.77</td><td>11</td><td>9</td><td>8</td></tr>",
                            "<tr><td>Children of Dune (Dune Chronicles #3)</td><td>3.9</td><td>116</td><td>9</td><td>112</td></tr>",
                            "<tr><td>NULL</td><td>NULL</td><td>NULL</td><td>9</td><td>139</td></tr>",
                            "<tr><td>NULL</td><td>NULL</td><td>NULL</td><td>9</td><td>230</td></tr>",
                            "<tr><td>NULL</td><td>NULL</td><td>NULL</td><td>9</td><td>233</td></tr>",
                            "<tr><td>NULL</td><td>NULL</td><td>NULL</td><td>9</td><td>473</td></tr>",
                            "<tr><td>NULL</td><td>NULL</td><td>NULL</td><td>9</td><td>638</td></tr>",
                            "<tr><td>NULL</td><td>NULL</td><td>NULL</td><td>9</td><td>653</td></tr>",
                            "<tr><td>NULL</td><td>NULL</td><td>NULL</td><td>9</td><td>672</td></tr>",
                            "<tr><td>NULL</td><td>NULL</td><td>NULL</td><td>9</td><td>701</td></tr>",
                            "<tr><td>NULL</td><td>NULL</td><td>NULL</td><td>9</td><td>736</td></tr>",
                            "<tr><td>NULL</td><td>NULL</td><td>NULL</td><td>9</td><td>883</td></tr>",
                            "<tr><td>NULL</td><td>NULL</td><td>NULL</td><td>9</td><td>895</td></tr>",
                            "<tr><td>NULL</td><td>NULL</td><td>NULL</td><td>9</td><td>1467</td></tr>",
                            "<tr><td>NULL</td><td>NULL</td><td>NULL</td><td>9</td><td>1582</td></tr>",
                            "<tr><td>NULL</td><td>NULL</td><td>NULL</td><td>9</td><td>1873</td></tr>",
                            "<tr><td>NULL</td><td>NULL</td><td>NULL</td><td>9</td><td>2516</td></tr>",
                            "<tr><td>NULL</td><td>NULL</td><td>NULL</td><td>9</td><td>2630</td></tr>",
                            "<tr><td>NULL</td><td>NULL</td><td>NULL</td><td>9</td><td>3210</td></tr>",
                            "<tr><td>Icy Sparks</td><td>3.68</td><td>27</td><td>9</td><td>3476</td></tr>",
                            "<tr><td>NULL</td><td>NULL</td><td>NULL</td><td>9</td><td>3560</td></tr>",
                            "<tr><td>NULL</td><td>NULL</td><td>NULL</td><td>9</td><td>3650</td></tr>",
                            "<tr><td>NULL</td><td>NULL</td><td>NULL</td><td>9</td><td>5286</td></tr>",
                            "<tr><td>NULL</td><td>NULL</td><td>NULL</td><td>9</td><td>6636</td></tr>",
                            "<tr><td>Harry Potter and the Goblet of Fire (Harry Potter, #4)</td><td>4.53</td><td>332</td><td>10</td><td>6</td></tr>",
                            "<tr><td>NULL</td><td>NULL</td><td>NULL</td><td>10</td><td>385</td></tr>",
                            "<tr><td>Atlas Shrugged</td><td>3.68</td><td>147</td><td>10</td><td>662</td></tr>",
                            "<tr><td>NULL</td><td>NULL</td><td>NULL</td><td>10</td><td>896</td></tr>",
                            "<tr><td>NULL</td><td>NULL</td><td>NULL</td><td>10</td><td>1076</td></tr>",
                            "<tr><td>NULL</td><td>NULL</td><td>NULL</td><td>10</td><td>1082</td></tr>",
                            "<tr><td>NULL</td><td>NULL</td><td>NULL</td><td>10</td><td>1220</td></tr>",
                            "<tr><td>NULL</td><td>NULL</td><td>NULL</td><td>10</td><td>1281</td></tr>",
                            "<tr><td>NULL</td><td>NULL</td><td>NULL</td><td>10</td><td>1439</td></tr>",
                            "<tr><td>NULL</td><td>NULL</td><td>NULL</td><td>10</td><td>1851</td></tr>",
                            "<tr><td>NULL</td><td>NULL</td><td>NULL</td><td>10</td><td>1920</td></tr>",
                            "<tr><td>NULL</td><td>NULL</td><td>NULL</td><td>10</td><td>2441</td></tr>",
                            "<tr><td>NULL</td><td>NULL</td><td>NULL</td><td>10</td><td>2570</td></tr>",
                            "<tr><td>NULL</td><td>NULL</td><td>NULL</td><td>10</td><td>2616</td></tr>",
                            "<tr><td>NULL</td><td>NULL</td><td>NULL</td><td>10</td><td>3059</td></tr>",
                            "<tr><td>NULL</td><td>NULL</td><td>NULL</td><td>10</td><td>3545</td></tr>",
                            "<tr><td>NULL</td><td>NULL</td><td>NULL</td><td>10</td><td>3961</td></tr>",
                            "<tr><td>NULL</td><td>NULL</td><td>NULL</td><td>10</td><td>4369</td></tr>",
                            "<tr><td>NULL</td><td>NULL</td><td>NULL</td><td>10</td><td>4510</td></tr>",
                            "<tr><td>NULL</td><td>NULL</td><td>NULL</td><td>10</td><td>5104</td></tr>",
                            "<tr><td>NULL</td><td>NULL</td><td>NULL</td><td>10</td><td>5254</td></tr>",
                            "<tr><td>NULL</td><td>NULL</td><td>NULL</td><td>10</td><td>5556</td></tr>",
                            "<tr><td>NULL</td><td>NULL</td><td>NULL</td><td>10</td><td>6114</td></tr>",
                            "<tr><td>NULL</td><td>NULL</td><td>NULL</td><td>10</td><td>6917</td></tr>",
                            "<tr><td>NULL</td><td>NULL</td><td>NULL</td><td>10</td><td>7545</td></tr>",
                            "<tr><td>NULL</td><td>NULL</td><td>NULL</td><td>10</td><td>7842</td></tr>",
                            "<tr><td>NULL</td><td>NULL</td><td>NULL</td><td>11</td><td>3643</td></tr>",
                            "<tr><td>Harry Potter and the Half-Blood Prince (Harry Potter, #6)</td><td>4.54</td><td>275</td><td>12</td><td>1</td></tr>",
                            "<tr><td>NULL</td><td>NULL</td><td>NULL</td><td>12</td><td>124</td></tr>",
                            "<tr><td>NULL</td><td>NULL</td><td>NULL</td><td>12</td><td>1471</td></tr>",
                            "<tr><td>NULL</td><td>NULL</td><td>NULL</td><td>12</td><td>2893</td></tr>",
                            "<tr><td>NULL</td><td>NULL</td><td>NULL</td><td>13</td><td>81</td></tr>",
                            "<tr><td>NULL</td><td>NULL</td><td>NULL</td><td>13</td><td>277</td></tr>",
                            "<tr><td>NULL</td><td>NULL</td><td>NULL</td><td>13</td><td>318</td></tr>",
                            "<tr><td>NULL</td><td>NULL</td><td>NULL</td><td>13</td><td>430</td></tr>",
                            "<tr><td>NULL</td><td>NULL</td><td>NULL</td><td>13</td><td>437</td></tr>",
                            "<tr><td>NULL</td><td>NULL</td><td>NULL</td><td>13</td><td>551</td></tr>",
                            "<tr><td>NULL</td><td>NULL</td><td>NULL</td><td>13</td><td>560</td></tr>",
                            "<tr><td>NULL</td><td>NULL</td><td>NULL</td><td>13</td><td>610</td></tr>",
                            "<tr><td>NULL</td><td>NULL</td><td>NULL</td><td>13</td><td>678</td></tr>",
                            "<tr><td>NULL</td><td>NULL</td><td>NULL</td><td>13</td><td>979</td></tr>",
                            "<tr><td>NULL</td><td>NULL</td><td>NULL</td><td>13</td><td>1082</td></tr>",
                            "<tr><td>NULL</td><td>NULL</td><td>NULL</td><td>13</td><td>1464</td></tr>",
                            "<tr><td>NULL</td><td>NULL</td><td>NULL</td><td>13</td><td>1577</td></tr>",
                            "<tr><td>NULL</td><td>NULL</td><td>NULL</td><td>13</td><td>2018</td></tr>",
                            "<tr><td>NULL</td><td>NULL</td><td>NULL</td><td>13</td><td>2418</td></tr>",
                            "<tr><td>NULL</td><td>NULL</td><td>NULL</td><td>13</td><td>3257</td></tr>",
                            "<tr><td>NULL</td><td>NULL</td><td>NULL</td><td>13</td><td>4212</td></tr>",
                            "<tr><td>NULL</td><td>NULL</td><td>NULL</td><td>13</td><td>4635</td></tr>",
                            "<tr><td>NULL</td><td>NULL</td><td>NULL</td><td>13</td><td>4704</td></tr>",
                            "<tr><td>NULL</td><td>NULL</td><td>NULL</td><td>13</td><td>4734</td></tr>",
                            "<tr><td>NULL</td><td>NULL</td><td>NULL</td><td>13</td><td>4841</td></tr>",
                            "<tr><td>NULL</td><td>NULL</td><td>NULL</td><td>13</td><td>4848</td></tr>",
                            "<tr><td>NULL</td><td>NULL</td><td>NULL</td><td>13</td><td>4856</td></tr>",
                            "<tr><td>NULL</td><td>NULL</td><td>NULL</td><td>13</td><td>4928</td></tr>",
                            "<tr><td>NULL</td><td>NULL</td><td>NULL</td><td>13</td><td>6114</td></tr>",
                            "<tr><td>NULL</td><td>NULL</td><td>NULL</td><td>13</td><td>6793</td></tr>",
                            "<tr><td>NULL</td><td>NULL</td><td>NULL</td><td>13</td><td>6962</td></tr>",
                            "<tr><td>NULL</td><td>NULL</td><td>NULL</td><td>13</td><td>8717</td></tr>",
                            "<tr><td>NULL</td><td>NULL</td><td>NULL</td><td>14</td><td>493</td></tr>",
                            "<tr><td>NULL</td><td>NULL</td><td>NULL</td><td>14</td><td>1179</td></tr>",
                            "<tr><td>NULL</td><td>NULL</td><td>NULL</td><td>14</td><td>2693</td></tr>",
                            "<tr><td>Sherlock Holmes: The Complete Novels and Stories, Volume I</td><td>4.45</td><td>13</td><td>14</td><td>3581</td></tr>",
                            "<tr><td>NULL</td><td>NULL</td><td>NULL</td><td>14</td><td>3683</td></tr>",
                            "<tr><td>NULL</td><td>NULL</td><td>NULL</td><td>14</td><td>3953</td></tr>",
                            "<tr><td>NULL</td><td>NULL</td><td>NULL</td><td>14</td><td>4220</td></tr>",
                            "<tr><td>NULL</td><td>NULL</td><td>NULL</td><td>14</td><td>5076</td></tr>",
                            "<tr><td>NULL</td><td>NULL</td><td>NULL</td><td>14</td><td>5537</td></tr>",
                            "<tr><td>NULL</td><td>NULL</td><td>NULL</td><td>14</td><td>7777</td></tr>",
                            "<tr><td>NULL</td><td>NULL</td><td>NULL</td><td>15</td><td>191</td></tr>",
                            "<tr><td>The Lover</td><td>3.76</td><td>148</td><td>15</td><td>275</td></tr>",
                            "<tr><td>NULL</td><td>NULL</td><td>NULL</td><td>15</td><td>398</td></tr>",
                            "<tr><td>NULL</td><td>NULL</td><td>NULL</td><td>15</td><td>666</td></tr>",
                            "<tr><td>NULL</td><td>NULL</td><td>NULL</td><td>15</td><td>1491</td></tr>",
                            "<tr><td>NULL</td><td>NULL</td><td>NULL</td><td>15</td><td>5210</td></tr>",
                            "<tr><td>NULL</td><td>NULL</td><td>NULL</td><td>17</td><td>1344</td></tr>",
                            "<tr><td>The Good Soldier</td><td>3.72</td><td>362</td><td>20</td><td>7628</td></tr>",
                            "<tr><td>NULL</td><td>NULL</td><td>NULL</td><td>22</td><td>653</td></tr>",
                            "<tr><td>NULL</td><td>NULL</td><td>NULL</td><td>22</td><td>1403</td></tr>",
                            "<tr><td>NULL</td><td>NULL</td><td>NULL</td><td>22</td><td>1405</td></tr>",
                            "<tr><td>NULL</td><td>NULL</td><td>NULL</td><td>22</td><td>1645</td></tr>",
                            "<tr><td>NULL</td><td>NULL</td><td>NULL</td><td>22</td><td>2500</td></tr>",
                            "<tr><td>NULL</td><td>NULL</td><td>NULL</td><td>22</td><td>2691</td></tr>",
                            "<tr><td>NULL</td><td>NULL</td><td>NULL</td><td>22</td><td>4995</td></tr>",
                            "<tr><td>NULL</td><td>NULL</td><td>NULL</td><td>23</td><td>273</td></tr>",
                            "<tr><td>NULL</td><td>NULL</td><td>NULL</td><td>23</td><td>459</td></tr>",
                            "<tr><td>NULL</td><td>NULL</td><td>NULL</td><td>23</td><td>791</td></tr>",
                            "<tr><td>NULL</td><td>NULL</td><td>NULL</td><td>23</td><td>886</td></tr>",
                            "<tr><td>NULL</td><td>NULL</td><td>NULL</td><td>23</td><td>925</td></tr>",
                            "<tr><td>NULL</td><td>NULL</td><td>NULL</td><td>23</td><td>1198</td></tr>",
                            "<tr><td>NULL</td><td>NULL</td><td>NULL</td><td>23</td><td>1597</td></tr>",
                            "<tr><td>NULL</td><td>NULL</td><td>NULL</td><td>23</td><td>1688</td></tr>",
                            "<tr><td>NULL</td><td>NULL</td><td>NULL</td><td>23</td><td>2251</td></tr>",
                            "<tr><td>NULL</td><td>NULL</td><td>NULL</td><td>23</td><td>2350</td></tr>",
                            "<tr><td>NULL</td><td>NULL</td><td>NULL</td><td>23</td><td>2613</td></tr>",
                            "<tr><td>NULL</td><td>NULL</td><td>NULL</td><td>23</td><td>3312</td></tr>",
                            "<tr><td>NULL</td><td>NULL</td><td>NULL</td><td>23</td><td>3343</td></tr>",
                            "<tr><td>NULL</td><td>NULL</td><td>NULL</td><td>24</td><td>61</td></tr>",
                            "<tr><td>NULL</td><td>NULL</td><td>NULL</td><td>24</td><td>143</td></tr>",
                            "<tr><td>NULL</td><td>NULL</td><td>NULL</td><td>24</td><td>421</td></tr>",
                            "<tr><td>NULL</td><td>NULL</td><td>NULL</td><td>24</td><td>467</td></tr>",
                            "<tr><td>NULL</td><td>NULL</td><td>NULL</td><td>24</td><td>974</td></tr>",
                            "<tr><td>NULL</td><td>NULL</td><td>NULL</td><td>26</td><td>508</td></tr>",
                            "<tr><td>NULL</td><td>NULL</td><td>NULL</td><td>26</td><td>1796</td></tr>",
                            "<tr><td>NULL</td><td>NULL</td><td>NULL</td><td>26</td><td>2257</td></tr>",
                            "<tr><td>NULL</td><td>NULL</td><td>NULL</td><td>26</td><td>2314</td></tr>",
                            "<tr><td>NULL</td><td>NULL</td><td>NULL</td><td>26</td><td>2357</td></tr>",
                            "<tr><td>NULL</td><td>NULL</td><td>NULL</td><td>26</td><td>2738</td></tr>",
                            "<tr><td>NULL</td><td>NULL</td><td>NULL</td><td>26</td><td>2810</td></tr>",
                            "<tr><td>NULL</td><td>NULL</td><td>NULL</td><td>26</td><td>3207</td></tr>",
                            "<tr><td>The Thorn Birds</td><td>4.22</td><td>201</td><td>26</td><td>3412</td></tr>",
                            "<tr><td>The Complete Sherlock Holmes, Vol 2</td><td>4.46</td><td>117</td><td>26</td><td>3586</td></tr>",
                            "<tr><td>The Dark Tower (The Dark Tower, #7)</td><td>4.27</td><td>105</td><td>26</td><td>5091</td></tr>",
                            "<tr><td>NULL</td><td>NULL</td><td>NULL</td><td>26</td><td>5550</td></tr>",
                            "<tr><td>NULL</td><td>NULL</td><td>NULL</td><td>26</td><td>6877</td></tr>",
                            "<tr><td>NULL</td><td>NULL</td><td>NULL</td><td>26</td><td>7970</td></tr>",
                            "<tr><td>NULL</td><td>NULL</td><td>NULL</td><td>28</td><td>265</td></tr>",
                            "<tr><td>NULL</td><td>NULL</td><td>NULL</td><td>28</td><td>587</td></tr>",
                            "<tr><td>NULL</td><td>NULL</td><td>NULL</td><td>28</td><td>3543</td></tr>",
                            "<tr><td>NULL</td><td>NULL</td><td>NULL</td><td>28</td><td>5215</td></tr>",
                            "<tr><td>NULL</td><td>NULL</td><td>NULL</td><td>28</td><td>7496</td></tr>",
                            "<tr><td>NULL</td><td>NULL</td><td>NULL</td><td>28</td><td>8654</td></tr>",
                            "<tr><td>NULL</td><td>NULL</td><td>NULL</td><td>29</td><td>31</td></tr>",
                            "<tr><td>NULL</td><td>NULL</td><td>NULL</td><td>29</td><td>32</td></tr>",
                            "<tr><td>The Lord of the Rings: Weapons and Warfare</td><td>4.53</td><td>12</td><td>29</td><td>36</td></tr>",
                            "<tr><td>NULL</td><td>NULL</td><td>NULL</td><td>29</td><td>45</td></tr>",
                            "<tr><td>NULL</td><td>NULL</td><td>NULL</td><td>29</td><td>65</td></tr>",
                            "<tr><td>NULL</td><td>NULL</td><td>NULL</td><td>29</td><td>87</td></tr>",
                            "<tr><td>NULL</td><td>NULL</td><td>NULL</td><td>29</td><td>115</td></tr>",
                            "<tr><td>NULL</td><td>NULL</td><td>NULL</td><td>29</td><td>121</td></tr>",
                            "<tr><td>NULL</td><td>NULL</td><td>NULL</td><td>29</td><td>131</td></tr>",
                            "<tr><td>NULL</td><td>NULL</td><td>NULL</td><td>29</td><td>178</td></tr>",
                            "<tr><td>NULL</td><td>NULL</td><td>NULL</td><td>29</td><td>256</td></tr>",
                            "<tr><td>NULL</td><td>NULL</td><td>NULL</td><td>29</td><td>323</td></tr>",
                            "<tr><td>Slouching Towards Bethlehem</td><td>4.24</td><td>34</td><td>29</td><td>424</td></tr>",
                            "<tr><td>NULL</td><td>NULL</td><td>NULL</td><td>29</td><td>467</td></tr>",
                            "<tr><td>NULL</td><td>NULL</td><td>NULL</td><td>29</td><td>550</td></tr>",
                            "<tr><td>NULL</td><td>NULL</td><td>NULL</td><td>29</td><td>618</td></tr>",
                            "<tr><td>Atlas Shrugged</td><td>3.68</td><td>147</td><td>29</td><td>662</td></tr>",
                            "<tr><td>NULL</td><td>NULL</td><td>NULL</td><td>29</td><td>709</td></tr>",
                            "<tr><td>NULL</td><td>NULL</td><td>NULL</td><td>29</td><td>730</td></tr>",
                            "<tr><td>NULL</td><td>NULL</td><td>NULL</td><td>29</td><td>771</td></tr>",
                            "<tr><td>NULL</td><td>NULL</td><td>NULL</td><td>29</td><td>809</td></tr>",
                            "<tr><td>NULL</td><td>NULL</td><td>NULL</td><td>29</td><td>934</td></tr>",
                            "<tr><td>NULL</td><td>NULL</td><td>NULL</td><td>29</td><td>1084</td></tr>",
                            "<tr><td>NULL</td><td>NULL</td><td>NULL</td><td>29</td><td>1364</td></tr>",
                            "<tr><td>NULL</td><td>NULL</td><td>NULL</td><td>29</td><td>1642</td></tr>",
                            "<tr><td>NULL</td><td>NULL</td><td>NULL</td><td>29</td><td>1695</td></tr>",
                            "<tr><td>NULL</td><td>NULL</td><td>NULL</td><td>29</td><td>2259</td></tr>",
                            "<tr><td>NULL</td><td>NULL</td><td>NULL</td><td>29</td><td>2284</td></tr>",
                            "<tr><td>NULL</td><td>NULL</td><td>NULL</td><td>29</td><td>2304</td></tr>",
                            "<tr><td>NULL</td><td>NULL</td><td>NULL</td><td>29</td><td>2967</td></tr>",
                            "<tr><td>NULL</td><td>NULL</td><td>NULL</td><td>29</td><td>3508</td></tr>",
                            "<tr><td>NULL</td><td>NULL</td><td>NULL</td><td>29</td><td>4359</td></tr>",
                            "<tr><td>NULL</td><td>NULL</td><td>NULL</td><td>29</td><td>4394</td></tr>",
                            "<tr><td>NULL</td><td>NULL</td><td>NULL</td><td>29</td><td>4475</td></tr>",
                            "<tr><td>NULL</td><td>NULL</td><td>NULL</td><td>29</td><td>4629</td></tr>",
                            "<tr><td>NULL</td><td>NULL</td><td>NULL</td><td>29</td><td>5090</td></tr>",
                            "<tr><td>NULL</td><td>NULL</td><td>NULL</td><td>29</td><td>5596</td></tr>",
                            "<tr><td>NULL</td><td>NULL</td><td>NULL</td><td>29</td><td>5851</td></tr>",
                            "<tr><td>NULL</td><td>NULL</td><td>NULL</td><td>29</td><td>6104</td></tr>",
                            "<tr><td>NULL</td><td>NULL</td><td>NULL</td><td>30</td><td>47</td></tr>",
                            "<tr><td>The Known World</td><td>3.82</td><td>42</td><td>30</td><td>67</td></tr>",
                            "<tr><td>NULL</td><td>NULL</td><td>NULL</td><td>30</td><td>82</td></tr>",
                            "<tr><td>NULL</td><td>NULL</td><td>NULL</td><td>30</td><td>121</td></tr>",
                            "<tr><td>NULL</td><td>NULL</td><td>NULL</td><td>30</td><td>177</td></tr>",
                            "<tr><td>Tropic of Cancer</td><td>3.71</td><td>205</td><td>30</td><td>249</td></tr>",
                            "<tr><td>NULL</td><td>NULL</td><td>NULL</td><td>30</td><td>297</td></tr>",
                            "<tr><td>NULL</td><td>NULL</td><td>NULL</td><td>30</td><td>407</td></tr>",
                            "<tr><td>NULL</td><td>NULL</td><td>NULL</td><td>30</td><td>426</td></tr>",
                            "<tr><td>NULL</td><td>NULL</td><td>NULL</td><td>30</td><td>430</td></tr>",
                            "<tr><td>NULL</td><td>NULL</td><td>NULL</td><td>30</td><td>442</td></tr>",
                            "<tr><td>NULL</td><td>NULL</td><td>NULL</td><td>30</td><td>516</td></tr>",
                            "<tr><td>NULL</td><td>NULL</td><td>NULL</td><td>30</td><td>658</td></tr>",
                            "<tr><td>NULL</td><td>NULL</td><td>NULL</td><td>30</td><td>895</td></tr>",
                            "<tr><td>NULL</td><td>NULL</td><td>NULL</td><td>30</td><td>1039</td></tr>",
                            "<tr><td>NULL</td><td>NULL</td><td>NULL</td><td>30</td><td>1094</td></tr>",
                            "<tr><td>The Odyssey</td><td>3.73</td><td>1703</td><td>30</td><td>1381</td></tr>",
                            "<tr><td>NULL</td><td>NULL</td><td>NULL</td><td>30</td><td>2117</td></tr>",
                            "<tr><td>NULL</td><td>NULL</td><td>NULL</td><td>30</td><td>2426</td></tr>",
                            "<tr><td>NULL</td><td>NULL</td><td>NULL</td><td>30</td><td>3444</td></tr>",
                            "<tr><td>The Pilgrimage</td><td>3.64</td><td>171</td><td>30</td><td>4004</td></tr>",
                            "<tr><td>NULL</td><td>NULL</td><td>NULL</td><td>30</td><td>4202</td></tr>",
                            "<tr><td>NULL</td><td>NULL</td><td>NULL</td><td>30</td><td>4509</td></tr>",
                            "<tr><td>NULL</td><td>NULL</td><td>NULL</td><td>30</td><td>5880</td></tr>",
                            "<tr><td>The Hobbit</td><td>4.25</td><td>969</td><td>30</td><td>5907</td></tr>",
                            "<tr><td>NULL</td><td>NULL</td><td>NULL</td><td>30</td><td>6828</td></tr>",
                            "<tr><td>NULL</td><td>NULL</td><td>NULL</td><td>30</td><td>7563</td></tr>",
                            "<tr><td>NULL</td><td>NULL</td><td>NULL</td><td>30</td><td>8737</td></tr>",
                            "<tr><td>NULL</td><td>NULL</td><td>NULL</td><td>31</td><td>94</td></tr>",
                            "<tr><td>NULL</td><td>NULL</td><td>NULL</td><td>31</td><td>584</td></tr>",
                            "</table>"
                        ]
                    }
                }
            ],
            "execution_count": 4
        },
        {
            "cell_type": "markdown",
            "source": [
                "## **QUESTION 3:** Exploring FULL JOINS with the **books** and **to\\_read** tables\n",
                "\n",
                "You will need to uncomment the Query to answer the question.\n",
                "\n",
                "**Part A:**  Look at the table and explore how it was populated.  Try manipulating the query to better understand how this table works.  Try adding a WHERE clause, or ORDER BY a column on the **books** table.  Based on your exploration, can you think of when you might want a FULL join rather than a LEFT, RIGHT, or INNER?\n",
                "\n",
                "> Your Answer: With Full Join, we can get exact opposite of INNER join which includes values only unique to books table AND/OR to\\_read table."
            ],
            "metadata": {
                "azdata_cell_guid": "8f6b8f22-3e5a-4b87-a2f2-07279f1deb94"
            },
            "attachments": {}
        },
        {
            "cell_type": "code",
            "source": [
                "\n",
                "-- FULL JOIN\n",
                "SELECT TOP 50 b.title, b.average_rating, b.books_count,tr.user_id, tr.book_id\n",
                "FROM BooksDB.dbo.books AS b\n",
                "FULL JOIN BooksDB.dbo.to_read AS tr\n",
                "ON b.book_id = tr.book_id\n",
                "WHERE b.book_id IS NULL OR\n",
                "tr.book_id IS NULL\n",
                "ORDER BY b.average_rating DESC;"
            ],
            "metadata": {
                "azdata_cell_guid": "7c2a3dff-ef55-4222-aef0-7c0ab4f942eb",
                "tags": [],
                "language": "sql"
            },
            "outputs": [
                {
                    "output_type": "display_data",
                    "data": {
                        "text/html": "(50 rows affected)"
                    },
                    "metadata": {}
                },
                {
                    "output_type": "display_data",
                    "data": {
                        "text/html": "Total execution time: 00:00:00.814"
                    },
                    "metadata": {}
                },
                {
                    "output_type": "execute_result",
                    "metadata": {},
                    "execution_count": 11,
                    "data": {
                        "application/vnd.dataresource+json": {
                            "schema": {
                                "fields": [
                                    {
                                        "name": "title"
                                    },
                                    {
                                        "name": "average_rating"
                                    },
                                    {
                                        "name": "books_count"
                                    },
                                    {
                                        "name": "user_id"
                                    },
                                    {
                                        "name": "book_id"
                                    }
                                ]
                            },
                            "data": [
                                {
                                    "0": "The Complete Calvin and Hobbes",
                                    "1": "4.82",
                                    "2": "14",
                                    "3": "NULL",
                                    "4": "NULL"
                                },
                                {
                                    "0": "Words of Radiance (The Stormlight Archive, #2)",
                                    "1": "4.77",
                                    "2": "34",
                                    "3": "NULL",
                                    "4": "NULL"
                                },
                                {
                                    "0": "Mark of the Lion Trilogy",
                                    "1": "4.76",
                                    "2": "6",
                                    "3": "NULL",
                                    "4": "NULL"
                                },
                                {
                                    "0": "ESV Study Bible",
                                    "1": "4.76",
                                    "2": "96",
                                    "3": "NULL",
                                    "4": "NULL"
                                },
                                {
                                    "0": "It's a Magical World: A Calvin and Hobbes Collection",
                                    "1": "4.75",
                                    "2": "21",
                                    "3": "NULL",
                                    "4": "NULL"
                                },
                                {
                                    "0": "There's Treasure Everywhere: A Calvin and Hobbes Collection",
                                    "1": "4.74",
                                    "2": "22",
                                    "3": "NULL",
                                    "4": "NULL"
                                },
                                {
                                    "0": "Harry Potter Boxset (Harry Potter, #1-7)",
                                    "1": "4.74",
                                    "2": "76",
                                    "3": "NULL",
                                    "4": "NULL"
                                },
                                {
                                    "0": "The Indispensable Calvin and Hobbes",
                                    "1": "4.73",
                                    "2": "19",
                                    "3": "NULL",
                                    "4": "NULL"
                                },
                                {
                                    "0": "The Authoritative Calvin and Hobbes: A Calvin and Hobbes Treasury",
                                    "1": "4.73",
                                    "2": "21",
                                    "3": "NULL",
                                    "4": "NULL"
                                },
                                {
                                    "0": "Attack of the Deranged Mutant Killer Monster Snow Goons",
                                    "1": "4.72",
                                    "2": "24",
                                    "3": "NULL",
                                    "4": "NULL"
                                },
                                {
                                    "0": "A Court of Mist and Fury (A Court of Thorns and Roses, #2)",
                                    "1": "4.72",
                                    "2": "39",
                                    "3": "NULL",
                                    "4": "NULL"
                                },
                                {
                                    "0": "Homicidal Psycho Jungle Cat: A Calvin and Hobbes Collection",
                                    "1": "4.71",
                                    "2": "23",
                                    "3": "NULL",
                                    "4": "NULL"
                                },
                                {
                                    "0": "The Revenge of the Baby-Sat",
                                    "1": "4.71",
                                    "2": "20",
                                    "3": "NULL",
                                    "4": "NULL"
                                },
                                {
                                    "0": "Preach My Gospel: A Guide To Missionary Service",
                                    "1": "4.71",
                                    "2": "5",
                                    "3": "NULL",
                                    "4": "NULL"
                                },
                                {
                                    "0": "The Days Are Just Packed: A Calvin and Hobbes Collection",
                                    "1": "4.68",
                                    "2": "28",
                                    "3": "NULL",
                                    "4": "NULL"
                                },
                                {
                                    "0": "Life Application Study Bible: NIV",
                                    "1": "4.67",
                                    "2": "183",
                                    "3": "NULL",
                                    "4": "NULL"
                                },
                                {
                                    "0": "The Way of Kings, Part 1 (The Stormlight Archive #1.1)",
                                    "1": "4.67",
                                    "2": "19",
                                    "3": "NULL",
                                    "4": "NULL"
                                },
                                {
                                    "0": "The Calvin and Hobbes Lazy Sunday Book",
                                    "1": "4.66",
                                    "2": "15",
                                    "3": "NULL",
                                    "4": "NULL"
                                },
                                {
                                    "0": "The Harry Potter Collection 1-4 (Harry Potter, #1-4)",
                                    "1": "4.66",
                                    "2": "17",
                                    "3": "NULL",
                                    "4": "NULL"
                                },
                                {
                                    "0": "The Holy Bible: English Standard Version",
                                    "1": "4.66",
                                    "2": "627",
                                    "3": "NULL",
                                    "4": "NULL"
                                },
                                {
                                    "0": "The Absolute Sandman, Volume One",
                                    "1": "4.65",
                                    "2": "5",
                                    "3": "NULL",
                                    "4": "NULL"
                                },
                                {
                                    "0": "The Essential Calvin and Hobbes: A Calvin and Hobbes Treasury",
                                    "1": "4.65",
                                    "2": "26",
                                    "3": "NULL",
                                    "4": "NULL"
                                },
                                {
                                    "0": "A Game of Thrones: Comic Book, Issue 1",
                                    "1": "4.65",
                                    "2": "6",
                                    "3": "NULL",
                                    "4": "NULL"
                                },
                                {
                                    "0": "The Way of Kings (The Stormlight Archive, #1)",
                                    "1": "4.64",
                                    "2": "48",
                                    "3": "NULL",
                                    "4": "NULL"
                                },
                                {
                                    "0": "The Calvin and Hobbes Tenth Anniversary Book",
                                    "1": "4.63",
                                    "2": "17",
                                    "3": "NULL",
                                    "4": "NULL"
                                },
                                {
                                    "0": "The Divan",
                                    "1": "4.63",
                                    "2": "91",
                                    "3": "NULL",
                                    "4": "NULL"
                                },
                                {
                                    "0": "Jesus the Christ",
                                    "1": "4.63",
                                    "2": "115",
                                    "3": "NULL",
                                    "4": "NULL"
                                },
                                {
                                    "0": "One Piece, Volume 38: Rocketman!! (One Piece, #38)",
                                    "1": "4.63",
                                    "2": "18",
                                    "3": "NULL",
                                    "4": "NULL"
                                },
                                {
                                    "0": "A Song of Ice and Fire (A Song of Ice and Fire, #1-4)",
                                    "1": "4.63",
                                    "2": "15",
                                    "3": "NULL",
                                    "4": "NULL"
                                },
                                {
                                    "0": "A Song of Ice and Fire (A Song of Ice and Fire, #1-5)",
                                    "1": "4.63",
                                    "2": "31",
                                    "3": "NULL",
                                    "4": "NULL"
                                },
                                {
                                    "0": "Crooked Kingdom (Six of Crows, #2)",
                                    "1": "4.62",
                                    "2": "29",
                                    "3": "NULL",
                                    "4": "NULL"
                                },
                                {
                                    "0": "The Hate U Give",
                                    "1": "4.62",
                                    "2": "36",
                                    "3": "NULL",
                                    "4": "NULL"
                                },
                                {
                                    "0": "The Sandman: King of Dreams",
                                    "1": "4.61",
                                    "2": "4",
                                    "3": "NULL",
                                    "4": "NULL"
                                },
                                {
                                    "0": "Calvin and Hobbes",
                                    "1": "4.61",
                                    "2": "24",
                                    "3": "NULL",
                                    "4": "NULL"
                                },
                                {
                                    "0": "Harry Potter and the Deathly Hallows (Harry Potter, #7)",
                                    "1": "4.61",
                                    "2": "263",
                                    "3": "NULL",
                                    "4": "NULL"
                                },
                                {
                                    "0": "Holy Bible: New International Version",
                                    "1": "4.61",
                                    "2": "1101",
                                    "3": "NULL",
                                    "4": "NULL"
                                },
                                {
                                    "0": "Standing for Something: 10 Neglected Virtues That Will Heal Our Hearts and Homes",
                                    "1": "4.61",
                                    "2": "12",
                                    "3": "NULL",
                                    "4": "NULL"
                                },
                                {
                                    "0": "Harry Potter and the Chamber of Secrets: Sheet Music for Flute with C.D",
                                    "1": "4.61",
                                    "2": "11",
                                    "3": "NULL",
                                    "4": "NULL"
                                },
                                {
                                    "0": "Vampire Academy Collection (Vampire Academy, #1-3)",
                                    "1": "4.61",
                                    "2": "8",
                                    "3": "NULL",
                                    "4": "NULL"
                                },
                                {
                                    "0": "An Echo in the Darkness (Mark of the Lion, #2)",
                                    "1": "4.6",
                                    "2": "27",
                                    "3": "NULL",
                                    "4": "NULL"
                                },
                                {
                                    "0": "A Voice in the Wind (Mark of the Lion, #1)",
                                    "1": "4.6",
                                    "2": "36",
                                    "3": "NULL",
                                    "4": "NULL"
                                },
                                {
                                    "0": "Ender's Game, Volume 2: Command School",
                                    "1": "4.6",
                                    "2": "3",
                                    "3": "NULL",
                                    "4": "NULL"
                                },
                                {
                                    "0": "Queen of Shadows (Throne of Glass, #4)",
                                    "1": "4.6",
                                    "2": "36",
                                    "3": "NULL",
                                    "4": "NULL"
                                },
                                {
                                    "0": "The Kindly Ones (The Sandman #9)",
                                    "1": "4.59",
                                    "2": "29",
                                    "3": "NULL",
                                    "4": "NULL"
                                },
                                {
                                    "0": "The Lord of the Rings: The Return of the King: Visual Companion",
                                    "1": "4.59",
                                    "2": "10",
                                    "3": "NULL",
                                    "4": "NULL"
                                },
                                {
                                    "0": "Acheron (Dark-Hunter #14)",
                                    "1": "4.59",
                                    "2": "31",
                                    "3": "NULL",
                                    "4": "NULL"
                                },
                                {
                                    "0": "BookRags Summary:  A Storm of Swords",
                                    "1": "4.59",
                                    "2": "1",
                                    "3": "NULL",
                                    "4": "NULL"
                                },
                                {
                                    "0": "The Mortal Instruments (The Mortal Instruments #1-4)",
                                    "1": "4.59",
                                    "2": "3",
                                    "3": "NULL",
                                    "4": "NULL"
                                },
                                {
                                    "0": "City of Bones / City of Ashes / City of Glass / City of Fallen Angels / City of Lost Souls (The Mortal Instruments, #1-5)",
                                    "1": "4.59",
                                    "2": "5",
                                    "3": "NULL",
                                    "4": "NULL"
                                },
                                {
                                    "0": "Clockwork Princess (The Infernal Devices, #3)",
                                    "1": "4.59",
                                    "2": "79",
                                    "3": "NULL",
                                    "4": "NULL"
                                }
                            ]
                        },
                        "text/html": [
                            "<table>",
                            "<tr><th>title</th><th>average_rating</th><th>books_count</th><th>user_id</th><th>book_id</th></tr>",
                            "<tr><td>The Complete Calvin and Hobbes</td><td>4.82</td><td>14</td><td>NULL</td><td>NULL</td></tr>",
                            "<tr><td>Words of Radiance (The Stormlight Archive, #2)</td><td>4.77</td><td>34</td><td>NULL</td><td>NULL</td></tr>",
                            "<tr><td>Mark of the Lion Trilogy</td><td>4.76</td><td>6</td><td>NULL</td><td>NULL</td></tr>",
                            "<tr><td>ESV Study Bible</td><td>4.76</td><td>96</td><td>NULL</td><td>NULL</td></tr>",
                            "<tr><td>It's a Magical World: A Calvin and Hobbes Collection</td><td>4.75</td><td>21</td><td>NULL</td><td>NULL</td></tr>",
                            "<tr><td>There's Treasure Everywhere: A Calvin and Hobbes Collection</td><td>4.74</td><td>22</td><td>NULL</td><td>NULL</td></tr>",
                            "<tr><td>Harry Potter Boxset (Harry Potter, #1-7)</td><td>4.74</td><td>76</td><td>NULL</td><td>NULL</td></tr>",
                            "<tr><td>The Indispensable Calvin and Hobbes</td><td>4.73</td><td>19</td><td>NULL</td><td>NULL</td></tr>",
                            "<tr><td>The Authoritative Calvin and Hobbes: A Calvin and Hobbes Treasury</td><td>4.73</td><td>21</td><td>NULL</td><td>NULL</td></tr>",
                            "<tr><td>Attack of the Deranged Mutant Killer Monster Snow Goons</td><td>4.72</td><td>24</td><td>NULL</td><td>NULL</td></tr>",
                            "<tr><td>A Court of Mist and Fury (A Court of Thorns and Roses, #2)</td><td>4.72</td><td>39</td><td>NULL</td><td>NULL</td></tr>",
                            "<tr><td>Homicidal Psycho Jungle Cat: A Calvin and Hobbes Collection</td><td>4.71</td><td>23</td><td>NULL</td><td>NULL</td></tr>",
                            "<tr><td>The Revenge of the Baby-Sat</td><td>4.71</td><td>20</td><td>NULL</td><td>NULL</td></tr>",
                            "<tr><td>Preach My Gospel: A Guide To Missionary Service</td><td>4.71</td><td>5</td><td>NULL</td><td>NULL</td></tr>",
                            "<tr><td>The Days Are Just Packed: A Calvin and Hobbes Collection</td><td>4.68</td><td>28</td><td>NULL</td><td>NULL</td></tr>",
                            "<tr><td>Life Application Study Bible: NIV</td><td>4.67</td><td>183</td><td>NULL</td><td>NULL</td></tr>",
                            "<tr><td>The Way of Kings, Part 1 (The Stormlight Archive #1.1)</td><td>4.67</td><td>19</td><td>NULL</td><td>NULL</td></tr>",
                            "<tr><td>The Calvin and Hobbes Lazy Sunday Book</td><td>4.66</td><td>15</td><td>NULL</td><td>NULL</td></tr>",
                            "<tr><td>The Harry Potter Collection 1-4 (Harry Potter, #1-4)</td><td>4.66</td><td>17</td><td>NULL</td><td>NULL</td></tr>",
                            "<tr><td>The Holy Bible: English Standard Version</td><td>4.66</td><td>627</td><td>NULL</td><td>NULL</td></tr>",
                            "<tr><td>The Absolute Sandman, Volume One</td><td>4.65</td><td>5</td><td>NULL</td><td>NULL</td></tr>",
                            "<tr><td>The Essential Calvin and Hobbes: A Calvin and Hobbes Treasury</td><td>4.65</td><td>26</td><td>NULL</td><td>NULL</td></tr>",
                            "<tr><td>A Game of Thrones: Comic Book, Issue 1</td><td>4.65</td><td>6</td><td>NULL</td><td>NULL</td></tr>",
                            "<tr><td>The Way of Kings (The Stormlight Archive, #1)</td><td>4.64</td><td>48</td><td>NULL</td><td>NULL</td></tr>",
                            "<tr><td>The Calvin and Hobbes Tenth Anniversary Book</td><td>4.63</td><td>17</td><td>NULL</td><td>NULL</td></tr>",
                            "<tr><td>The Divan</td><td>4.63</td><td>91</td><td>NULL</td><td>NULL</td></tr>",
                            "<tr><td>Jesus the Christ</td><td>4.63</td><td>115</td><td>NULL</td><td>NULL</td></tr>",
                            "<tr><td>One Piece, Volume 38: Rocketman!! (One Piece, #38)</td><td>4.63</td><td>18</td><td>NULL</td><td>NULL</td></tr>",
                            "<tr><td>A Song of Ice and Fire (A Song of Ice and Fire, #1-4)</td><td>4.63</td><td>15</td><td>NULL</td><td>NULL</td></tr>",
                            "<tr><td>A Song of Ice and Fire (A Song of Ice and Fire, #1-5)</td><td>4.63</td><td>31</td><td>NULL</td><td>NULL</td></tr>",
                            "<tr><td>Crooked Kingdom (Six of Crows, #2)</td><td>4.62</td><td>29</td><td>NULL</td><td>NULL</td></tr>",
                            "<tr><td>The Hate U Give</td><td>4.62</td><td>36</td><td>NULL</td><td>NULL</td></tr>",
                            "<tr><td>The Sandman: King of Dreams</td><td>4.61</td><td>4</td><td>NULL</td><td>NULL</td></tr>",
                            "<tr><td>Calvin and Hobbes</td><td>4.61</td><td>24</td><td>NULL</td><td>NULL</td></tr>",
                            "<tr><td>Harry Potter and the Deathly Hallows (Harry Potter, #7)</td><td>4.61</td><td>263</td><td>NULL</td><td>NULL</td></tr>",
                            "<tr><td>Holy Bible: New International Version</td><td>4.61</td><td>1101</td><td>NULL</td><td>NULL</td></tr>",
                            "<tr><td>Standing for Something: 10 Neglected Virtues That Will Heal Our Hearts and Homes</td><td>4.61</td><td>12</td><td>NULL</td><td>NULL</td></tr>",
                            "<tr><td>Harry Potter and the Chamber of Secrets: Sheet Music for Flute with C.D</td><td>4.61</td><td>11</td><td>NULL</td><td>NULL</td></tr>",
                            "<tr><td>Vampire Academy Collection (Vampire Academy, #1-3)</td><td>4.61</td><td>8</td><td>NULL</td><td>NULL</td></tr>",
                            "<tr><td>An Echo in the Darkness (Mark of the Lion, #2)</td><td>4.6</td><td>27</td><td>NULL</td><td>NULL</td></tr>",
                            "<tr><td>A Voice in the Wind (Mark of the Lion, #1)</td><td>4.6</td><td>36</td><td>NULL</td><td>NULL</td></tr>",
                            "<tr><td>Ender's Game, Volume 2: Command School</td><td>4.6</td><td>3</td><td>NULL</td><td>NULL</td></tr>",
                            "<tr><td>Queen of Shadows (Throne of Glass, #4)</td><td>4.6</td><td>36</td><td>NULL</td><td>NULL</td></tr>",
                            "<tr><td>The Kindly Ones (The Sandman #9)</td><td>4.59</td><td>29</td><td>NULL</td><td>NULL</td></tr>",
                            "<tr><td>The Lord of the Rings: The Return of the King: Visual Companion</td><td>4.59</td><td>10</td><td>NULL</td><td>NULL</td></tr>",
                            "<tr><td>Acheron (Dark-Hunter #14)</td><td>4.59</td><td>31</td><td>NULL</td><td>NULL</td></tr>",
                            "<tr><td>BookRags Summary:  A Storm of Swords</td><td>4.59</td><td>1</td><td>NULL</td><td>NULL</td></tr>",
                            "<tr><td>The Mortal Instruments (The Mortal Instruments #1-4)</td><td>4.59</td><td>3</td><td>NULL</td><td>NULL</td></tr>",
                            "<tr><td>City of Bones / City of Ashes / City of Glass / City of Fallen Angels / City of Lost Souls (The Mortal Instruments, #1-5)</td><td>4.59</td><td>5</td><td>NULL</td><td>NULL</td></tr>",
                            "<tr><td>Clockwork Princess (The Infernal Devices, #3)</td><td>4.59</td><td>79</td><td>NULL</td><td>NULL</td></tr>",
                            "</table>"
                        ]
                    }
                }
            ],
            "execution_count": 11
        },
        {
            "cell_type": "markdown",
            "source": [
                "## **QUESTION 4:** Exploring INNER Joins with the **books** and **to\\_read** tables\n",
                "\n",
                "You will need to uncomment the Query to answer the question.\n",
                "\n",
                "**Part A:**  What does an inner join do?\n",
                "\n",
                "> <span style=\"background-color: rgba(127, 127, 127, 0.1); font-family: -apple-system, BlinkMacSystemFont, sans-serif;\">Your Answer: Returns the matching rows from both tables</span>\n",
                "\n",
                "<span style=\"background-color: rgba(127, 127, 127, 0.1); font-family: -apple-system, BlinkMacSystemFont, sans-serif;\"><b>Part B:</b>&nbsp;Currently this table has an <b>'IS NOT NULL'</b> in the <b>WHERE</b> clause.&nbsp; Is this necessary for this table?&nbsp; Why or Why not?&nbsp;</span>  \n",
                "\n",
                "> Your Answer: When doing inner join, we don't have any NULL values so using IS NOT  NULL function is not nessesary. \n",
                "\n",
                "**Part C:**  When using SQL, you are usually returning much larger tables so every line of code will add to the compilation and return time.  Rewrite this inner join query so that it contains no redundant code.   \n",
                "\n",
                "> Your Answer:  Update the query in the code box below."
            ],
            "metadata": {
                "azdata_cell_guid": "4dab11ce-7995-4444-92dd-4cb2c0bc02c8"
            },
            "attachments": {}
        },
        {
            "cell_type": "code",
            "source": [
                "\n",
                "-- INNER JOIN\n",
                "SELECT TOP 100 b.title, b.average_rating, b.books_count,tr.user_id, tr.book_id\n",
                "FROM BooksDB.dbo.books AS b\n",
                "INNER JOIN BooksDB.dbo.to_read AS tr\n",
                "ON b.book_id = tr.book_id;\n",
                "-- WHERE b.title IS NOT NULL\n",
                "-- ORDER BY tr.book_id;\n",
                ""
            ],
            "metadata": {
                "azdata_cell_guid": "66d430ab-18aa-4a29-a32d-0585445e417c",
                "tags": [],
                "language": "sql"
            },
            "outputs": [
                {
                    "output_type": "display_data",
                    "data": {
                        "text/html": "(100 rows affected)"
                    },
                    "metadata": {}
                },
                {
                    "output_type": "display_data",
                    "data": {
                        "text/html": "Total execution time: 00:00:00.092"
                    },
                    "metadata": {}
                },
                {
                    "output_type": "execute_result",
                    "metadata": {},
                    "execution_count": 17,
                    "data": {
                        "application/vnd.dataresource+json": {
                            "schema": {
                                "fields": [
                                    {
                                        "name": "title"
                                    },
                                    {
                                        "name": "average_rating"
                                    },
                                    {
                                        "name": "books_count"
                                    },
                                    {
                                        "name": "user_id"
                                    },
                                    {
                                        "name": "book_id"
                                    }
                                ]
                            },
                            "data": [
                                {
                                    "0": "Children of Dune (Dune Chronicles #3)",
                                    "1": "3.9",
                                    "2": "116",
                                    "3": "1",
                                    "4": "112"
                                },
                                {
                                    "0": "The Hitchhiker's Guide to the Galaxy (Hitchhiker's Guide to the Galaxy, #1)",
                                    "1": "4.2",
                                    "2": "257",
                                    "3": "2",
                                    "4": "11"
                                },
                                {
                                    "0": "The Ultimate Hitchhiker's Guide to the Galaxy",
                                    "1": "4.37",
                                    "2": "32",
                                    "3": "2",
                                    "4": "13"
                                },
                                {
                                    "0": "Dune Messiah (Dune Chronicles #2)",
                                    "1": "3.86",
                                    "2": "140",
                                    "3": "2",
                                    "4": "106"
                                },
                                {
                                    "0": "The Iliad",
                                    "1": "3.83",
                                    "2": "1726",
                                    "3": "2",
                                    "4": "1371"
                                },
                                {
                                    "0": "Harry Potter Collection (Harry Potter, #1-6)",
                                    "1": "4.73",
                                    "2": "6",
                                    "3": "3",
                                    "4": "10"
                                },
                                {
                                    "0": "The Virtue of Selfishness: A New Concept of Egoism",
                                    "1": "3.47",
                                    "2": "53",
                                    "3": "5",
                                    "4": "665"
                                },
                                {
                                    "0": "Sherlock Holmes: The Complete Novels and Stories, Volume I",
                                    "1": "4.45",
                                    "2": "13",
                                    "3": "5",
                                    "4": "3581"
                                },
                                {
                                    "0": "The War of Art: Break Through the Blocks & Win Your Inner Creative Battles",
                                    "1": "4.07",
                                    "2": "29",
                                    "3": "6",
                                    "4": "1319"
                                },
                                {
                                    "0": "Harry Potter Collection (Harry Potter, #1-6)",
                                    "1": "4.73",
                                    "2": "6",
                                    "3": "7",
                                    "4": "10"
                                },
                                {
                                    "0": "The Pilgrimage",
                                    "1": "3.64",
                                    "2": "171",
                                    "3": "8",
                                    "4": "4004"
                                },
                                {
                                    "0": "Harry Potter Boxed Set, Books 1-5 (Harry Potter, #1-5)",
                                    "1": "4.77",
                                    "2": "11",
                                    "3": "9",
                                    "4": "8"
                                },
                                {
                                    "0": "Children of Dune (Dune Chronicles #3)",
                                    "1": "3.9",
                                    "2": "116",
                                    "3": "9",
                                    "4": "112"
                                },
                                {
                                    "0": "Icy Sparks",
                                    "1": "3.68",
                                    "2": "27",
                                    "3": "9",
                                    "4": "3476"
                                },
                                {
                                    "0": "Harry Potter and the Goblet of Fire (Harry Potter, #4)",
                                    "1": "4.53",
                                    "2": "332",
                                    "3": "10",
                                    "4": "6"
                                },
                                {
                                    "0": "Atlas Shrugged",
                                    "1": "3.68",
                                    "2": "147",
                                    "3": "10",
                                    "4": "662"
                                },
                                {
                                    "0": "Harry Potter and the Half-Blood Prince (Harry Potter, #6)",
                                    "1": "4.54",
                                    "2": "275",
                                    "3": "12",
                                    "4": "1"
                                },
                                {
                                    "0": "Sherlock Holmes: The Complete Novels and Stories, Volume I",
                                    "1": "4.45",
                                    "2": "13",
                                    "3": "14",
                                    "4": "3581"
                                },
                                {
                                    "0": "The Lover",
                                    "1": "3.76",
                                    "2": "148",
                                    "3": "15",
                                    "4": "275"
                                },
                                {
                                    "0": "The Good Soldier",
                                    "1": "3.72",
                                    "2": "362",
                                    "3": "20",
                                    "4": "7628"
                                },
                                {
                                    "0": "The Thorn Birds",
                                    "1": "4.22",
                                    "2": "201",
                                    "3": "26",
                                    "4": "3412"
                                },
                                {
                                    "0": "The Complete Sherlock Holmes, Vol 2",
                                    "1": "4.46",
                                    "2": "117",
                                    "3": "26",
                                    "4": "3586"
                                },
                                {
                                    "0": "The Dark Tower (The Dark Tower, #7)",
                                    "1": "4.27",
                                    "2": "105",
                                    "3": "26",
                                    "4": "5091"
                                },
                                {
                                    "0": "The Lord of the Rings: Weapons and Warfare",
                                    "1": "4.53",
                                    "2": "12",
                                    "3": "29",
                                    "4": "36"
                                },
                                {
                                    "0": "Slouching Towards Bethlehem",
                                    "1": "4.24",
                                    "2": "34",
                                    "3": "29",
                                    "4": "424"
                                },
                                {
                                    "0": "Atlas Shrugged",
                                    "1": "3.68",
                                    "2": "147",
                                    "3": "29",
                                    "4": "662"
                                },
                                {
                                    "0": "The Elegant Universe: Superstrings, Hidden Dimensions, and the Quest for the Ultimate Theory",
                                    "1": "4.06",
                                    "2": "75",
                                    "3": "29",
                                    "4": "771"
                                },
                                {
                                    "0": "The Known World",
                                    "1": "3.82",
                                    "2": "42",
                                    "3": "30",
                                    "4": "67"
                                },
                                {
                                    "0": "Tropic of Cancer",
                                    "1": "3.71",
                                    "2": "205",
                                    "3": "30",
                                    "4": "249"
                                },
                                {
                                    "0": "The Odyssey",
                                    "1": "3.73",
                                    "2": "1703",
                                    "3": "30",
                                    "4": "1381"
                                },
                                {
                                    "0": "The Pilgrimage",
                                    "1": "3.64",
                                    "2": "171",
                                    "3": "30",
                                    "4": "4004"
                                },
                                {
                                    "0": "The Hobbit",
                                    "1": "4.25",
                                    "2": "969",
                                    "3": "30",
                                    "4": "5907"
                                },
                                {
                                    "0": "The Hitchhiker's Guide to the Galaxy (Hitchhiker's Guide to the Galaxy, #1)",
                                    "1": "4.2",
                                    "2": "257",
                                    "3": "32",
                                    "4": "11"
                                },
                                {
                                    "0": "The Richest Man in Babylon",
                                    "1": "4.23",
                                    "2": "187",
                                    "3": "33",
                                    "4": "1052"
                                },
                                {
                                    "0": "Inés of My Soul",
                                    "1": "3.9",
                                    "2": "89",
                                    "3": "33",
                                    "4": "3300"
                                },
                                {
                                    "0": "Lysistrata",
                                    "1": "3.84",
                                    "2": "222",
                                    "3": "34",
                                    "4": "1591"
                                },
                                {
                                    "0": "The Omnivore's Dilemma: A Natural History of Four Meals",
                                    "1": "4.17",
                                    "2": "54",
                                    "3": "34",
                                    "4": "3109"
                                },
                                {
                                    "0": "Sherlock Holmes: The Complete Novels and Stories, Volume I",
                                    "1": "4.45",
                                    "2": "13",
                                    "3": "34",
                                    "4": "3581"
                                },
                                {
                                    "0": "Heidi",
                                    "1": "3.97",
                                    "2": "771",
                                    "3": "39",
                                    "4": "93"
                                },
                                {
                                    "0": "Heretics of Dune (Dune Chronicles #5)",
                                    "1": "3.83",
                                    "2": "86",
                                    "3": "39",
                                    "4": "117"
                                },
                                {
                                    "0": "Time Enough for Love",
                                    "1": "3.96",
                                    "2": "53",
                                    "3": "39",
                                    "4": "353"
                                },
                                {
                                    "0": "Another Bullshit Night in Suck City",
                                    "1": "3.77",
                                    "2": "22",
                                    "3": "39",
                                    "4": "386"
                                },
                                {
                                    "0": "Libra",
                                    "1": "3.98",
                                    "2": "65",
                                    "3": "39",
                                    "4": "400"
                                },
                                {
                                    "0": "The Virtue of Selfishness: A New Concept of Egoism",
                                    "1": "3.47",
                                    "2": "53",
                                    "3": "39",
                                    "4": "665"
                                },
                                {
                                    "0": "Hamlet",
                                    "1": "4",
                                    "2": "1929",
                                    "3": "39",
                                    "4": "1420"
                                },
                                {
                                    "0": "Chapterhouse: Dune (Dune Chronicles #6)",
                                    "1": "3.89",
                                    "2": "72",
                                    "3": "46",
                                    "4": "105"
                                },
                                {
                                    "0": "The Lord of the Rings: The Art of The Fellowship of the Ring",
                                    "1": "4.59",
                                    "2": "7",
                                    "3": "46",
                                    "4": "119"
                                },
                                {
                                    "0": "The Elegant Universe: Superstrings, Hidden Dimensions, and the Quest for the Ultimate Theory",
                                    "1": "4.06",
                                    "2": "75",
                                    "3": "46",
                                    "4": "771"
                                },
                                {
                                    "0": "The Confusion (The Baroque Cycle, #2)",
                                    "1": "4.24",
                                    "2": "35",
                                    "3": "46",
                                    "4": "822"
                                },
                                {
                                    "0": "Tunnels of Blood (Cirque Du Freak, #3)",
                                    "1": "4.14",
                                    "2": "66",
                                    "3": "47",
                                    "4": "8957"
                                },
                                {
                                    "0": "Cryptonomicon",
                                    "1": "4.25",
                                    "2": "3",
                                    "3": "51",
                                    "4": "816"
                                },
                                {
                                    "0": "Mornings on Horseback",
                                    "1": "4.1",
                                    "2": "25",
                                    "3": "54",
                                    "4": "2368"
                                },
                                {
                                    "0": "One Fish, Two Fish, Red Fish, Blue Fish",
                                    "1": "4.12",
                                    "2": "49",
                                    "3": "54",
                                    "4": "7770"
                                },
                                {
                                    "0": "The Broken Wings",
                                    "1": "3.93",
                                    "2": "119",
                                    "3": "55",
                                    "4": "291"
                                },
                                {
                                    "0": "Memoirs of a Geisha",
                                    "1": "4.08",
                                    "2": "220",
                                    "3": "55",
                                    "4": "930"
                                },
                                {
                                    "0": "The Taste of Home Cookbook",
                                    "1": "4.25",
                                    "2": "7",
                                    "3": "58",
                                    "4": "3885"
                                },
                                {
                                    "0": "The Thorn Birds",
                                    "1": "4.22",
                                    "2": "201",
                                    "3": "60",
                                    "4": "3412"
                                },
                                {
                                    "0": "Sherlock Holmes: The Complete Novels and Stories, Volume I",
                                    "1": "4.45",
                                    "2": "13",
                                    "3": "60",
                                    "4": "3581"
                                },
                                {
                                    "0": "Harry Potter and the Sorcerer's Stone (Harry Potter, #1)",
                                    "1": "4.44",
                                    "2": "491",
                                    "3": "61",
                                    "4": "3"
                                },
                                {
                                    "0": "The Ultimate Hitchhiker's Guide to the Galaxy",
                                    "1": "4.37",
                                    "2": "32",
                                    "3": "61",
                                    "4": "13"
                                },
                                {
                                    "0": "The Lord of the Rings: Weapons and Warfare",
                                    "1": "4.53",
                                    "2": "12",
                                    "3": "61",
                                    "4": "36"
                                },
                                {
                                    "0": "The Lord of the Rings: Weapons and Warfare",
                                    "1": "4.53",
                                    "2": "12",
                                    "3": "64",
                                    "4": "36"
                                },
                                {
                                    "0": "The Power of One (The Power of One, #1)",
                                    "1": "4.34",
                                    "2": "82",
                                    "3": "65",
                                    "4": "122"
                                },
                                {
                                    "0": "The Door Into Summer",
                                    "1": "4",
                                    "2": "75",
                                    "3": "67",
                                    "4": "348"
                                },
                                {
                                    "0": "Job: A Comedy of Justice",
                                    "1": "3.77",
                                    "2": "32",
                                    "3": "67",
                                    "4": "355"
                                },
                                {
                                    "0": "The Salmon of Doubt (Dirk Gently, #3)",
                                    "1": "3.92",
                                    "2": "55",
                                    "3": "67",
                                    "4": "359"
                                },
                                {
                                    "0": "Cryptonomicon",
                                    "1": "4.25",
                                    "2": "3",
                                    "3": "67",
                                    "4": "816"
                                },
                                {
                                    "0": "The Odyssey",
                                    "1": "3.73",
                                    "2": "1703",
                                    "3": "67",
                                    "4": "1381"
                                },
                                {
                                    "0": "The Men Who Stare at Goats",
                                    "1": "3.58",
                                    "2": "53",
                                    "3": "67",
                                    "4": "1824"
                                },
                                {
                                    "0": "The World Is Flat: A Brief History of the Twenty-first Century",
                                    "1": "3.66",
                                    "2": "83",
                                    "3": "67",
                                    "4": "1911"
                                },
                                {
                                    "0": "The Jane Austen Book Club",
                                    "1": "3.07",
                                    "2": "76",
                                    "3": "67",
                                    "4": "2152"
                                },
                                {
                                    "0": "The Tipping Point: How Little Things Can Make a Big Difference",
                                    "1": "3.92",
                                    "2": "100",
                                    "3": "67",
                                    "4": "2612"
                                },
                                {
                                    "0": "A Little Princess",
                                    "1": "4.2",
                                    "2": "11",
                                    "3": "67",
                                    "4": "3008"
                                },
                                {
                                    "0": "The Corrections",
                                    "1": "3.78",
                                    "2": "133",
                                    "3": "67",
                                    "4": "3805"
                                },
                                {
                                    "0": "Regeneration (Regeneration, #1)",
                                    "1": "4.03",
                                    "2": "49",
                                    "3": "67",
                                    "4": "5872"
                                },
                                {
                                    "0": "The Virtue of Selfishness: A New Concept of Egoism",
                                    "1": "3.47",
                                    "2": "53",
                                    "3": "69",
                                    "4": "665"
                                },
                                {
                                    "0": "Persuasion",
                                    "1": "4.13",
                                    "2": "1451",
                                    "3": "69",
                                    "4": "2156"
                                },
                                {
                                    "0": "A Prayer for Owen Meany",
                                    "1": "4.22",
                                    "2": "138",
                                    "3": "69",
                                    "4": "4473"
                                },
                                {
                                    "0": "The Adventures of Sherlock Holmes",
                                    "1": "4.29",
                                    "2": "1235",
                                    "3": "71",
                                    "4": "3590"
                                },
                                {
                                    "0": "Children of Dune (Dune Chronicles #3)",
                                    "1": "3.9",
                                    "2": "116",
                                    "3": "72",
                                    "4": "112"
                                },
                                {
                                    "0": "Memoirs of a Geisha",
                                    "1": "4.08",
                                    "2": "220",
                                    "3": "72",
                                    "4": "930"
                                },
                                {
                                    "0": "Cryptonomicon",
                                    "1": "4.25",
                                    "2": "3",
                                    "3": "75",
                                    "4": "816"
                                },
                                {
                                    "0": "Think and Grow Rich: The Landmark Bestseller - Now Revised and Updated for the 21st Century",
                                    "1": "4.17",
                                    "2": "709",
                                    "3": "75",
                                    "4": "1005"
                                },
                                {
                                    "0": "Sherlock Holmes: The Complete Novels and Stories, Volume I",
                                    "1": "4.45",
                                    "2": "13",
                                    "3": "78",
                                    "4": "3581"
                                },
                                {
                                    "0": "What to Expect the First Year (What to Expect)",
                                    "1": "3.86",
                                    "2": "45",
                                    "3": "82",
                                    "4": "98"
                                },
                                {
                                    "0": "Tropic of Cancer",
                                    "1": "3.71",
                                    "2": "205",
                                    "3": "82",
                                    "4": "249"
                                },
                                {
                                    "0": "Trace (Kay Scarpetta, #13)",
                                    "1": "3.76",
                                    "2": "74",
                                    "3": "82",
                                    "4": "6530"
                                },
                                {
                                    "0": "Cryptonomicon",
                                    "1": "4.25",
                                    "2": "3",
                                    "3": "84",
                                    "4": "816"
                                },
                                {
                                    "0": "Harry Potter Collection (Harry Potter, #1-6)",
                                    "1": "4.73",
                                    "2": "6",
                                    "3": "94",
                                    "4": "10"
                                },
                                {
                                    "0": "The Lord of the Rings: Weapons and Warfare",
                                    "1": "4.53",
                                    "2": "12",
                                    "3": "98",
                                    "4": "36"
                                },
                                {
                                    "0": "Charlie and the Chocolate Factory (Charlie Bucket, #1)",
                                    "1": "4.1",
                                    "2": "338",
                                    "3": "99",
                                    "4": "6310"
                                },
                                {
                                    "0": "Children of Dune (Dune Chronicles #3)",
                                    "1": "3.9",
                                    "2": "116",
                                    "3": "101",
                                    "4": "112"
                                },
                                {
                                    "0": "Digging to America",
                                    "1": "3.53",
                                    "2": "51",
                                    "3": "104",
                                    "4": "698"
                                },
                                {
                                    "0": "Persuasion",
                                    "1": "4.13",
                                    "2": "1451",
                                    "3": "105",
                                    "4": "2156"
                                },
                                {
                                    "0": "A Home at the End of the World",
                                    "1": "3.89",
                                    "2": "64",
                                    "3": "107",
                                    "4": "2137"
                                },
                                {
                                    "0": "Treasure Island",
                                    "1": "3.82",
                                    "2": "2573",
                                    "3": "111",
                                    "4": "295"
                                },
                                {
                                    "0": "Brief Interviews with Hideous Men",
                                    "1": "3.88",
                                    "2": "53",
                                    "3": "111",
                                    "4": "6753"
                                },
                                {
                                    "0": "The Smoke Jumper",
                                    "1": "4.05",
                                    "2": "47",
                                    "3": "111",
                                    "4": "9282"
                                },
                                {
                                    "0": "The Woman in the Dunes",
                                    "1": "3.91",
                                    "2": "90",
                                    "3": "111",
                                    "4": "9998"
                                },
                                {
                                    "0": "Middlesex",
                                    "1": "3.98",
                                    "2": "125",
                                    "3": "120",
                                    "4": "2187"
                                }
                            ]
                        },
                        "text/html": [
                            "<table>",
                            "<tr><th>title</th><th>average_rating</th><th>books_count</th><th>user_id</th><th>book_id</th></tr>",
                            "<tr><td>Children of Dune (Dune Chronicles #3)</td><td>3.9</td><td>116</td><td>1</td><td>112</td></tr>",
                            "<tr><td>The Hitchhiker's Guide to the Galaxy (Hitchhiker's Guide to the Galaxy, #1)</td><td>4.2</td><td>257</td><td>2</td><td>11</td></tr>",
                            "<tr><td>The Ultimate Hitchhiker's Guide to the Galaxy</td><td>4.37</td><td>32</td><td>2</td><td>13</td></tr>",
                            "<tr><td>Dune Messiah (Dune Chronicles #2)</td><td>3.86</td><td>140</td><td>2</td><td>106</td></tr>",
                            "<tr><td>The Iliad</td><td>3.83</td><td>1726</td><td>2</td><td>1371</td></tr>",
                            "<tr><td>Harry Potter Collection (Harry Potter, #1-6)</td><td>4.73</td><td>6</td><td>3</td><td>10</td></tr>",
                            "<tr><td>The Virtue of Selfishness: A New Concept of Egoism</td><td>3.47</td><td>53</td><td>5</td><td>665</td></tr>",
                            "<tr><td>Sherlock Holmes: The Complete Novels and Stories, Volume I</td><td>4.45</td><td>13</td><td>5</td><td>3581</td></tr>",
                            "<tr><td>The War of Art: Break Through the Blocks &amp; Win Your Inner Creative Battles</td><td>4.07</td><td>29</td><td>6</td><td>1319</td></tr>",
                            "<tr><td>Harry Potter Collection (Harry Potter, #1-6)</td><td>4.73</td><td>6</td><td>7</td><td>10</td></tr>",
                            "<tr><td>The Pilgrimage</td><td>3.64</td><td>171</td><td>8</td><td>4004</td></tr>",
                            "<tr><td>Harry Potter Boxed Set, Books 1-5 (Harry Potter, #1-5)</td><td>4.77</td><td>11</td><td>9</td><td>8</td></tr>",
                            "<tr><td>Children of Dune (Dune Chronicles #3)</td><td>3.9</td><td>116</td><td>9</td><td>112</td></tr>",
                            "<tr><td>Icy Sparks</td><td>3.68</td><td>27</td><td>9</td><td>3476</td></tr>",
                            "<tr><td>Harry Potter and the Goblet of Fire (Harry Potter, #4)</td><td>4.53</td><td>332</td><td>10</td><td>6</td></tr>",
                            "<tr><td>Atlas Shrugged</td><td>3.68</td><td>147</td><td>10</td><td>662</td></tr>",
                            "<tr><td>Harry Potter and the Half-Blood Prince (Harry Potter, #6)</td><td>4.54</td><td>275</td><td>12</td><td>1</td></tr>",
                            "<tr><td>Sherlock Holmes: The Complete Novels and Stories, Volume I</td><td>4.45</td><td>13</td><td>14</td><td>3581</td></tr>",
                            "<tr><td>The Lover</td><td>3.76</td><td>148</td><td>15</td><td>275</td></tr>",
                            "<tr><td>The Good Soldier</td><td>3.72</td><td>362</td><td>20</td><td>7628</td></tr>",
                            "<tr><td>The Thorn Birds</td><td>4.22</td><td>201</td><td>26</td><td>3412</td></tr>",
                            "<tr><td>The Complete Sherlock Holmes, Vol 2</td><td>4.46</td><td>117</td><td>26</td><td>3586</td></tr>",
                            "<tr><td>The Dark Tower (The Dark Tower, #7)</td><td>4.27</td><td>105</td><td>26</td><td>5091</td></tr>",
                            "<tr><td>The Lord of the Rings: Weapons and Warfare</td><td>4.53</td><td>12</td><td>29</td><td>36</td></tr>",
                            "<tr><td>Slouching Towards Bethlehem</td><td>4.24</td><td>34</td><td>29</td><td>424</td></tr>",
                            "<tr><td>Atlas Shrugged</td><td>3.68</td><td>147</td><td>29</td><td>662</td></tr>",
                            "<tr><td>The Elegant Universe: Superstrings, Hidden Dimensions, and the Quest for the Ultimate Theory</td><td>4.06</td><td>75</td><td>29</td><td>771</td></tr>",
                            "<tr><td>The Known World</td><td>3.82</td><td>42</td><td>30</td><td>67</td></tr>",
                            "<tr><td>Tropic of Cancer</td><td>3.71</td><td>205</td><td>30</td><td>249</td></tr>",
                            "<tr><td>The Odyssey</td><td>3.73</td><td>1703</td><td>30</td><td>1381</td></tr>",
                            "<tr><td>The Pilgrimage</td><td>3.64</td><td>171</td><td>30</td><td>4004</td></tr>",
                            "<tr><td>The Hobbit</td><td>4.25</td><td>969</td><td>30</td><td>5907</td></tr>",
                            "<tr><td>The Hitchhiker's Guide to the Galaxy (Hitchhiker's Guide to the Galaxy, #1)</td><td>4.2</td><td>257</td><td>32</td><td>11</td></tr>",
                            "<tr><td>The Richest Man in Babylon</td><td>4.23</td><td>187</td><td>33</td><td>1052</td></tr>",
                            "<tr><td>Inés of My Soul</td><td>3.9</td><td>89</td><td>33</td><td>3300</td></tr>",
                            "<tr><td>Lysistrata</td><td>3.84</td><td>222</td><td>34</td><td>1591</td></tr>",
                            "<tr><td>The Omnivore's Dilemma: A Natural History of Four Meals</td><td>4.17</td><td>54</td><td>34</td><td>3109</td></tr>",
                            "<tr><td>Sherlock Holmes: The Complete Novels and Stories, Volume I</td><td>4.45</td><td>13</td><td>34</td><td>3581</td></tr>",
                            "<tr><td>Heidi</td><td>3.97</td><td>771</td><td>39</td><td>93</td></tr>",
                            "<tr><td>Heretics of Dune (Dune Chronicles #5)</td><td>3.83</td><td>86</td><td>39</td><td>117</td></tr>",
                            "<tr><td>Time Enough for Love</td><td>3.96</td><td>53</td><td>39</td><td>353</td></tr>",
                            "<tr><td>Another Bullshit Night in Suck City</td><td>3.77</td><td>22</td><td>39</td><td>386</td></tr>",
                            "<tr><td>Libra</td><td>3.98</td><td>65</td><td>39</td><td>400</td></tr>",
                            "<tr><td>The Virtue of Selfishness: A New Concept of Egoism</td><td>3.47</td><td>53</td><td>39</td><td>665</td></tr>",
                            "<tr><td>Hamlet</td><td>4</td><td>1929</td><td>39</td><td>1420</td></tr>",
                            "<tr><td>Chapterhouse: Dune (Dune Chronicles #6)</td><td>3.89</td><td>72</td><td>46</td><td>105</td></tr>",
                            "<tr><td>The Lord of the Rings: The Art of The Fellowship of the Ring</td><td>4.59</td><td>7</td><td>46</td><td>119</td></tr>",
                            "<tr><td>The Elegant Universe: Superstrings, Hidden Dimensions, and the Quest for the Ultimate Theory</td><td>4.06</td><td>75</td><td>46</td><td>771</td></tr>",
                            "<tr><td>The Confusion (The Baroque Cycle, #2)</td><td>4.24</td><td>35</td><td>46</td><td>822</td></tr>",
                            "<tr><td>Tunnels of Blood (Cirque Du Freak, #3)</td><td>4.14</td><td>66</td><td>47</td><td>8957</td></tr>",
                            "<tr><td>Cryptonomicon</td><td>4.25</td><td>3</td><td>51</td><td>816</td></tr>",
                            "<tr><td>Mornings on Horseback</td><td>4.1</td><td>25</td><td>54</td><td>2368</td></tr>",
                            "<tr><td>One Fish, Two Fish, Red Fish, Blue Fish</td><td>4.12</td><td>49</td><td>54</td><td>7770</td></tr>",
                            "<tr><td>The Broken Wings</td><td>3.93</td><td>119</td><td>55</td><td>291</td></tr>",
                            "<tr><td>Memoirs of a Geisha</td><td>4.08</td><td>220</td><td>55</td><td>930</td></tr>",
                            "<tr><td>The Taste of Home Cookbook</td><td>4.25</td><td>7</td><td>58</td><td>3885</td></tr>",
                            "<tr><td>The Thorn Birds</td><td>4.22</td><td>201</td><td>60</td><td>3412</td></tr>",
                            "<tr><td>Sherlock Holmes: The Complete Novels and Stories, Volume I</td><td>4.45</td><td>13</td><td>60</td><td>3581</td></tr>",
                            "<tr><td>Harry Potter and the Sorcerer's Stone (Harry Potter, #1)</td><td>4.44</td><td>491</td><td>61</td><td>3</td></tr>",
                            "<tr><td>The Ultimate Hitchhiker's Guide to the Galaxy</td><td>4.37</td><td>32</td><td>61</td><td>13</td></tr>",
                            "<tr><td>The Lord of the Rings: Weapons and Warfare</td><td>4.53</td><td>12</td><td>61</td><td>36</td></tr>",
                            "<tr><td>The Lord of the Rings: Weapons and Warfare</td><td>4.53</td><td>12</td><td>64</td><td>36</td></tr>",
                            "<tr><td>The Power of One (The Power of One, #1)</td><td>4.34</td><td>82</td><td>65</td><td>122</td></tr>",
                            "<tr><td>The Door Into Summer</td><td>4</td><td>75</td><td>67</td><td>348</td></tr>",
                            "<tr><td>Job: A Comedy of Justice</td><td>3.77</td><td>32</td><td>67</td><td>355</td></tr>",
                            "<tr><td>The Salmon of Doubt (Dirk Gently, #3)</td><td>3.92</td><td>55</td><td>67</td><td>359</td></tr>",
                            "<tr><td>Cryptonomicon</td><td>4.25</td><td>3</td><td>67</td><td>816</td></tr>",
                            "<tr><td>The Odyssey</td><td>3.73</td><td>1703</td><td>67</td><td>1381</td></tr>",
                            "<tr><td>The Men Who Stare at Goats</td><td>3.58</td><td>53</td><td>67</td><td>1824</td></tr>",
                            "<tr><td>The World Is Flat: A Brief History of the Twenty-first Century</td><td>3.66</td><td>83</td><td>67</td><td>1911</td></tr>",
                            "<tr><td>The Jane Austen Book Club</td><td>3.07</td><td>76</td><td>67</td><td>2152</td></tr>",
                            "<tr><td>The Tipping Point: How Little Things Can Make a Big Difference</td><td>3.92</td><td>100</td><td>67</td><td>2612</td></tr>",
                            "<tr><td>A Little Princess</td><td>4.2</td><td>11</td><td>67</td><td>3008</td></tr>",
                            "<tr><td>The Corrections</td><td>3.78</td><td>133</td><td>67</td><td>3805</td></tr>",
                            "<tr><td>Regeneration (Regeneration, #1)</td><td>4.03</td><td>49</td><td>67</td><td>5872</td></tr>",
                            "<tr><td>The Virtue of Selfishness: A New Concept of Egoism</td><td>3.47</td><td>53</td><td>69</td><td>665</td></tr>",
                            "<tr><td>Persuasion</td><td>4.13</td><td>1451</td><td>69</td><td>2156</td></tr>",
                            "<tr><td>A Prayer for Owen Meany</td><td>4.22</td><td>138</td><td>69</td><td>4473</td></tr>",
                            "<tr><td>The Adventures of Sherlock Holmes</td><td>4.29</td><td>1235</td><td>71</td><td>3590</td></tr>",
                            "<tr><td>Children of Dune (Dune Chronicles #3)</td><td>3.9</td><td>116</td><td>72</td><td>112</td></tr>",
                            "<tr><td>Memoirs of a Geisha</td><td>4.08</td><td>220</td><td>72</td><td>930</td></tr>",
                            "<tr><td>Cryptonomicon</td><td>4.25</td><td>3</td><td>75</td><td>816</td></tr>",
                            "<tr><td>Think and Grow Rich: The Landmark Bestseller - Now Revised and Updated for the 21st Century</td><td>4.17</td><td>709</td><td>75</td><td>1005</td></tr>",
                            "<tr><td>Sherlock Holmes: The Complete Novels and Stories, Volume I</td><td>4.45</td><td>13</td><td>78</td><td>3581</td></tr>",
                            "<tr><td>What to Expect the First Year (What to Expect)</td><td>3.86</td><td>45</td><td>82</td><td>98</td></tr>",
                            "<tr><td>Tropic of Cancer</td><td>3.71</td><td>205</td><td>82</td><td>249</td></tr>",
                            "<tr><td>Trace (Kay Scarpetta, #13)</td><td>3.76</td><td>74</td><td>82</td><td>6530</td></tr>",
                            "<tr><td>Cryptonomicon</td><td>4.25</td><td>3</td><td>84</td><td>816</td></tr>",
                            "<tr><td>Harry Potter Collection (Harry Potter, #1-6)</td><td>4.73</td><td>6</td><td>94</td><td>10</td></tr>",
                            "<tr><td>The Lord of the Rings: Weapons and Warfare</td><td>4.53</td><td>12</td><td>98</td><td>36</td></tr>",
                            "<tr><td>Charlie and the Chocolate Factory (Charlie Bucket, #1)</td><td>4.1</td><td>338</td><td>99</td><td>6310</td></tr>",
                            "<tr><td>Children of Dune (Dune Chronicles #3)</td><td>3.9</td><td>116</td><td>101</td><td>112</td></tr>",
                            "<tr><td>Digging to America</td><td>3.53</td><td>51</td><td>104</td><td>698</td></tr>",
                            "<tr><td>Persuasion</td><td>4.13</td><td>1451</td><td>105</td><td>2156</td></tr>",
                            "<tr><td>A Home at the End of the World</td><td>3.89</td><td>64</td><td>107</td><td>2137</td></tr>",
                            "<tr><td>Treasure Island</td><td>3.82</td><td>2573</td><td>111</td><td>295</td></tr>",
                            "<tr><td>Brief Interviews with Hideous Men</td><td>3.88</td><td>53</td><td>111</td><td>6753</td></tr>",
                            "<tr><td>The Smoke Jumper</td><td>4.05</td><td>47</td><td>111</td><td>9282</td></tr>",
                            "<tr><td>The Woman in the Dunes</td><td>3.91</td><td>90</td><td>111</td><td>9998</td></tr>",
                            "<tr><td>Middlesex</td><td>3.98</td><td>125</td><td>120</td><td>2187</td></tr>",
                            "</table>"
                        ]
                    }
                }
            ],
            "execution_count": 17
        },
        {
            "cell_type": "markdown",
            "source": [
                "## **QUESTION 5:**  Using joins to find the most tagged book and the most popular tag\n",
                "\n",
                "We will be writing 3 queries to find both the most tagged book and that book's most popular tag.\n",
                "\n",
                "**Part A:**  What is the most tagged book?\n",
                "\n",
                "> <span style=\"background-color: rgba(127, 127, 127, 0.1); font-family: -apple-system, BlinkMacSystemFont, sans-serif;\">Start by joining the </span> **books** <span style=\"background-color: rgba(127, 127, 127, 0.1); font-family: -apple-system, BlinkMacSystemFont, sans-serif;\">and </span> **book\\_tags** <span style=\"background-color: rgba(127, 127, 127, 0.1); font-family: -apple-system, BlinkMacSystemFont, sans-serif;\">&nbsp;tables ON the books.best_book_id and book_tags.goodreads_book_id.&nbsp;&nbsp;<br></span> <span style=\"background-color: rgba(127, 127, 127, 0.1); font-family: -apple-system, BlinkMacSystemFont, sans-serif;\">We want the <i>most popular</i> book, so think about ordering the table in a way that will display both the book title and the number of times a book tag has been used.</span>\n",
                "> \n",
                "> _MInimum Desired output:_  The title of the most tagged book, and the number of times the book has been tagged.\n",
                "> \n",
                "> **Title:**\n",
                "\n",
                "**Part B:** How many different tags have been used for the most tagged book?\n",
                "\n",
                "> <span style=\"font-family: -apple-system, BlinkMacSystemFont, sans-serif; background-color: rgba(127, 127, 127, 0.1);\">Start by joining the&nbsp;</span> **books** <span style=\"font-family: -apple-system, BlinkMacSystemFont, sans-serif; background-color: rgba(127, 127, 127, 0.1);\">and&nbsp;</span> **book\\_tags** <span style=\"font-family: -apple-system, BlinkMacSystemFont, sans-serif; background-color: rgba(127, 127, 127, 0.1);\">&nbsp;tables ON the books.best_book_id and book_tags.goodreads_book_id.&nbsp;&nbsp;<br></span> We want to find the _most popular_ tag id, so think about ordering in a way that will display the most popular tag id.\n",
                "> \n",
                "> <span style=\"font-family: -apple-system, BlinkMacSystemFont, sans-serif; background-color: rgba(127, 127, 127, 0.1);\"><i>Minimum Desired Output:</i> The tag id for the most popular tag used for the most tagged book.&nbsp;</span> \n",
                "> \n",
                "> <span style=\"font-family: -apple-system, BlinkMacSystemFont, sans-serif; background-color: rgba(127, 127, 127, 0.1);\"><b>Tag Id:</b></span>\n",
                "\n",
                "<span style=\"font-family: -apple-system, BlinkMacSystemFont, sans-serif; background-color: rgba(127, 127, 127, 0.1);\"><b>Part C: </b>What is this particular tag?</span>\n",
                "\n",
                "> You may return this answer with a simple query.\n",
                "\n",
                "> <span style=\"font-family: -apple-system, BlinkMacSystemFont, sans-serif; background-color: rgba(127, 127, 127, 0.1);\"><i>Minimum Desired Output:</i>&nbsp;The tag name for the most popular tag used for the most tagged book.&nbsp;</span> \n",
                "> \n",
                "> <span style=\"font-family: -apple-system, BlinkMacSystemFont, sans-serif; background-color: rgba(127, 127, 127, 0.1);\"><b>Tag Name:</b></span>"
            ],
            "metadata": {
                "azdata_cell_guid": "a685e9cc-2ae2-40e8-8cc1-022c8064d66d"
            },
            "attachments": {}
        },
        {
            "cell_type": "code",
            "source": [
                "-- Code Here:\n",
                "--A\n",
                "SELECT TOP 1 b.title, b.best_book_id, bt.count\n",
                "FROM BooksDB.dbo.books AS b\n",
                "INNER JOIN BooksDB.dbo.book_tags AS bt\n",
                "ON b.best_book_id = bt.goodreads_book_id\n",
                "ORDER BY bt.count DESC;\n",
                "\n",
                "--B\n",
                "\n",
                "SELECT title, count(distinct tag_id) AS CountOfTags\n",
                "FROM BooksDB.dbo.books AS b\n",
                "INNER JOIN BooksDB.dbo.book_tags AS bt\n",
                "ON b.best_book_id = bt.goodreads_book_id\n",
                "WHERE title = 'The Alchemist'\n",
                "GROUP BY title;\n",
                "\n",
                "SELECT TOP 1 b.title, tag_id\n",
                "FROM BooksDB.dbo.books AS b\n",
                "INNER JOIN BooksDB.dbo.book_tags AS bt\n",
                "ON b.best_book_id = bt.goodreads_book_id\n",
                "ORDER BY bt.count DESC;\n",
                "\n",
                "--C\n",
                "\n",
                "SELECT *\n",
                "FROM BooksDB.dbo.tags \n",
                "WHERE tag_id = '30574'\n",
                "\n",
                "--SELECT TOP 10 * FROM BooksDB.dbo.books;\n",
                "--SELECT TOP 10 * FROM BooksDB.dbo.book_tags;"
            ],
            "metadata": {
                "azdata_cell_guid": "de3ac253-6b47-4740-8c6e-5f9d1b0ce36b",
                "language": "sql"
            },
            "outputs": [
                {
                    "output_type": "display_data",
                    "data": {
                        "text/html": "(1 row affected)"
                    },
                    "metadata": {}
                },
                {
                    "output_type": "display_data",
                    "data": {
                        "text/html": "(1 row affected)"
                    },
                    "metadata": {}
                },
                {
                    "output_type": "display_data",
                    "data": {
                        "text/html": "(1 row affected)"
                    },
                    "metadata": {}
                },
                {
                    "output_type": "display_data",
                    "data": {
                        "text/html": "(1 row affected)"
                    },
                    "metadata": {}
                },
                {
                    "output_type": "display_data",
                    "data": {
                        "text/html": "Total execution time: 00:00:00.728"
                    },
                    "metadata": {}
                },
                {
                    "output_type": "execute_result",
                    "metadata": {},
                    "execution_count": 57,
                    "data": {
                        "application/vnd.dataresource+json": {
                            "schema": {
                                "fields": [
                                    {
                                        "name": "title"
                                    },
                                    {
                                        "name": "best_book_id"
                                    },
                                    {
                                        "name": "count"
                                    }
                                ]
                            },
                            "data": [
                                {
                                    "0": "The Alchemist",
                                    "1": "865",
                                    "2": "596234"
                                }
                            ]
                        },
                        "text/html": [
                            "<table>",
                            "<tr><th>title</th><th>best_book_id</th><th>count</th></tr>",
                            "<tr><td>The Alchemist</td><td>865</td><td>596234</td></tr>",
                            "</table>"
                        ]
                    }
                },
                {
                    "output_type": "execute_result",
                    "metadata": {},
                    "execution_count": 57,
                    "data": {
                        "application/vnd.dataresource+json": {
                            "schema": {
                                "fields": [
                                    {
                                        "name": "title"
                                    },
                                    {
                                        "name": "CountOfTags"
                                    }
                                ]
                            },
                            "data": [
                                {
                                    "0": "The Alchemist",
                                    "1": "100"
                                }
                            ]
                        },
                        "text/html": [
                            "<table>",
                            "<tr><th>title</th><th>CountOfTags</th></tr>",
                            "<tr><td>The Alchemist</td><td>100</td></tr>",
                            "</table>"
                        ]
                    }
                },
                {
                    "output_type": "execute_result",
                    "metadata": {},
                    "execution_count": 57,
                    "data": {
                        "application/vnd.dataresource+json": {
                            "schema": {
                                "fields": [
                                    {
                                        "name": "title"
                                    },
                                    {
                                        "name": "tag_id"
                                    }
                                ]
                            },
                            "data": [
                                {
                                    "0": "The Alchemist",
                                    "1": "30574"
                                }
                            ]
                        },
                        "text/html": [
                            "<table>",
                            "<tr><th>title</th><th>tag_id</th></tr>",
                            "<tr><td>The Alchemist</td><td>30574</td></tr>",
                            "</table>"
                        ]
                    }
                },
                {
                    "output_type": "execute_result",
                    "metadata": {},
                    "execution_count": 57,
                    "data": {
                        "application/vnd.dataresource+json": {
                            "schema": {
                                "fields": [
                                    {
                                        "name": "tag_id"
                                    },
                                    {
                                        "name": "tag_name"
                                    }
                                ]
                            },
                            "data": [
                                {
                                    "0": "30574",
                                    "1": "to-read"
                                }
                            ]
                        },
                        "text/html": [
                            "<table>",
                            "<tr><th>tag_id</th><th>tag_name</th></tr>",
                            "<tr><td>30574</td><td>to-read</td></tr>",
                            "</table>"
                        ]
                    }
                }
            ],
            "execution_count": 57
        },
        {
            "cell_type": "markdown",
            "source": [
                "## **QUESTION 6:** Find a book based on a tag of your choice using joins.\n",
                "\n",
                "Some suggestions: any hobbies you like? baking, drawing, etc. how about favorite holidays, subjects, animals, etc?\n",
                "\n",
                "**Part A:** Explore the tags table for a tag of your choice.  Suggested ideas, try searching for one of your hobbies, a favorite time of year, favorite animal, etc.  Start by querying the tag table for your chosen tag.  (_Hint:_ in order to make sure you find all combinations of your tags, use the wildcard).  If your query returns more than one result, pick your favorite.\n",
                "\n",
                "> > _Here is an example.  Alyce wanted to search for halloween books.  She used the wildcard, '%halloween%' and 8 different combinations were found.  Alyce selected '**halloween-storytime**', with a tag id of 13877._\n",
                "\n",
                "> _Minimum Desired Output:_ <span style=\"font-family: -apple-system, BlinkMacSystemFont, sans-serif; background-color: rgba(127, 127, 127, 0.1);\">tag name and tag id</span>\n",
                "\n",
                "> \\*\\*Your Tag and Tag Id: '\\*\\*time-traveling' and tag id of 30467\n",
                "\n",
                "**Part B:** Now that you have the **tag id**, find the title that was tagged the most with this tag by joining the books and books\\_tags tables.\n",
                "\n",
                "> > _Alyce joined the book table with the tags table and discovered that <u>The Little Old Lady Who Was Not Afraid of Anything</u> was tagged as '**halloween-storytime**' the most._\n",
                "\n",
                "> _Minimum Desired Output:_ <span style=\"background-color: rgba(127, 127, 127, 0.1); font-family: -apple-system, BlinkMacSystemFont, sans-serif;\">title and tag count</span>\n",
                "\n",
                "> **Your Title and Number of times the tag was used:** 'Smaragdgrün (Edekstein-Trilogie, #3), 19 times the tag was used"
            ],
            "metadata": {
                "azdata_cell_guid": "df783e7e-3aff-4e63-9edb-f2e729c7d1c8"
            },
            "attachments": {}
        },
        {
            "cell_type": "code",
            "source": [
                "-- Code Here:\n",
                "SELECT * FROM BooksDB.dbo.tags\n",
                "WHERE tag_name LIKE '%time%';\n",
                "\n",
                "-- SELECT bt.tag_id, bt.goodreads_book_id, b.book_id, MAX(b.title) \n",
                "-- FROM BooksDB.dbo.book_tags AS bt \n",
                "-- LEFT JOIN BooksDB.dbo.books AS b\n",
                "-- ON bt.goodreads_book_id = b.book_id\n",
                "-- WHERE tag_id = '30467'\n",
                "-- GROUP BY b.title, bt.goodreads_book_id, b.book_id, tag_id;\n",
                "\n",
                "SELECT b.title, MAX(bt.count) AS MostTag\n",
                "FROM BooksDB.dbo.book_tags AS bt \n",
                "LEFT JOIN BooksDB.dbo.books AS b\n",
                "ON bt.goodreads_book_id = b.book_id\n",
                "WHERE tag_id = '30467'\n",
                "GROUP BY b.title;\n",
                "\n",
                ""
            ],
            "metadata": {
                "azdata_cell_guid": "c4b0b67c-7cfa-4f52-be97-ffe5cc28ed54",
                "tags": [],
                "language": "sql"
            },
            "outputs": [
                {
                    "output_type": "display_data",
                    "data": {
                        "text/html": "(156 rows affected)"
                    },
                    "metadata": {}
                },
                {
                    "output_type": "display_data",
                    "data": {
                        "text/html": "(1 row affected)"
                    },
                    "metadata": {}
                },
                {
                    "output_type": "display_data",
                    "data": {
                        "text/html": "Total execution time: 00:00:00.199"
                    },
                    "metadata": {}
                },
                {
                    "output_type": "execute_result",
                    "metadata": {},
                    "execution_count": 68,
                    "data": {
                        "application/vnd.dataresource+json": {
                            "schema": {
                                "fields": [
                                    {
                                        "name": "tag_id"
                                    },
                                    {
                                        "name": "tag_name"
                                    }
                                ]
                            },
                            "data": [
                                {
                                    "0": "192",
                                    "1": "100-best-books-of-all-time"
                                },
                                {
                                    "0": "193",
                                    "1": "100-best-books-of-all-time-the-worl"
                                },
                                {
                                    "0": "206",
                                    "1": "100-books-to-read-in-a-lifetime"
                                },
                                {
                                    "0": "422",
                                    "1": "1933-and-present-time"
                                },
                                {
                                    "0": "592",
                                    "1": "200-books-to-read-in-your-lifetime"
                                },
                                {
                                    "0": "1340",
                                    "1": "a-long-time-ago"
                                },
                                {
                                    "0": "1881",
                                    "1": "aint-nobody-got-time-for-that"
                                },
                                {
                                    "0": "2097",
                                    "1": "all-time"
                                },
                                {
                                    "0": "2098",
                                    "1": "all-time-100-novels"
                                },
                                {
                                    "0": "2099",
                                    "1": "all-time-fav"
                                },
                                {
                                    "0": "2100",
                                    "1": "all-time-faves"
                                },
                                {
                                    "0": "2101",
                                    "1": "all-time-favorite"
                                },
                                {
                                    "0": "2102",
                                    "1": "all-time-favorite-books"
                                },
                                {
                                    "0": "2103",
                                    "1": "all-time-favorite-fiction"
                                },
                                {
                                    "0": "2104",
                                    "1": "all-time-favorites"
                                },
                                {
                                    "0": "2105",
                                    "1": "all-time-favourite"
                                },
                                {
                                    "0": "2106",
                                    "1": "all-time-favourites"
                                },
                                {
                                    "0": "2107",
                                    "1": "all-time-favs"
                                },
                                {
                                    "0": "2125",
                                    "1": "alltime-fav"
                                },
                                {
                                    "0": "2447",
                                    "1": "ancient-times"
                                },
                                {
                                    "0": "3757",
                                    "1": "baby-storytime"
                                },
                                {
                                    "0": "3766",
                                    "1": "babytime"
                                },
                                {
                                    "0": "3986",
                                    "1": "bath-time"
                                },
                                {
                                    "0": "4143",
                                    "1": "bed-time"
                                },
                                {
                                    "0": "4149",
                                    "1": "bedtime"
                                },
                                {
                                    "0": "4150",
                                    "1": "bedtime-books"
                                },
                                {
                                    "0": "4151",
                                    "1": "bedtime-stories"
                                },
                                {
                                    "0": "4152",
                                    "1": "bedtime-story"
                                },
                                {
                                    "0": "4183",
                                    "1": "befuddling-puzzling-at-times"
                                },
                                {
                                    "0": "4214",
                                    "1": "being-and-time"
                                },
                                {
                                    "0": "5013",
                                    "1": "book-read-a-long-time-ago"
                                },
                                {
                                    "0": "5343",
                                    "1": "books-read-a-long-long-time-ago"
                                },
                                {
                                    "0": "5411",
                                    "1": "books-to-read-in-my-lifetime"
                                },
                                {
                                    "0": "6864",
                                    "1": "children-bedtime"
                                },
                                {
                                    "0": "7110",
                                    "1": "christian-end-times"
                                },
                                {
                                    "0": "9977",
                                    "1": "dual-time"
                                },
                                {
                                    "0": "9978",
                                    "1": "dual-timeline"
                                },
                                {
                                    "0": "9979",
                                    "1": "dual-timelines"
                                },
                                {
                                    "0": "10595",
                                    "1": "end-times"
                                },
                                {
                                    "0": "11251",
                                    "1": "family-storytime"
                                },
                                {
                                    "0": "11580",
                                    "1": "favourite-books-of-all-time"
                                },
                                {
                                    "0": "13877",
                                    "1": "halloween-storytime"
                                },
                                {
                                    "0": "15407",
                                    "1": "in-search-of-lost-time"
                                },
                                {
                                    "0": "15938",
                                    "1": "ive-only-got-time-for-fantasy"
                                },
                                {
                                    "0": "18170",
                                    "1": "lifetime-challenge-1972"
                                },
                                {
                                    "0": "18171",
                                    "1": "lifetime-must-reads"
                                },
                                {
                                    "0": "18172",
                                    "1": "lifetime-reading-plan"
                                },
                                {
                                    "0": "18202",
                                    "1": "lili-s-lifetime-reads"
                                },
                                {
                                    "0": "18543",
                                    "1": "long-time-ago"
                                },
                                {
                                    "0": "18544",
                                    "1": "long-time-favorites"
                                },
                                {
                                    "0": "19266",
                                    "1": "maritime"
                                },
                                {
                                    "0": "19267",
                                    "1": "maritime-history"
                                },
                                {
                                    "0": "19361",
                                    "1": "marvel-comics-timeline"
                                },
                                {
                                    "0": "19615",
                                    "1": "meaning-of-time-and-how-to-apprecia"
                                },
                                {
                                    "0": "19680",
                                    "1": "medieval-times"
                                },
                                {
                                    "0": "20404",
                                    "1": "monster-storytime"
                                },
                                {
                                    "0": "20441",
                                    "1": "more-favs-but-less-all-time"
                                },
                                {
                                    "0": "20545",
                                    "1": "movement-storytime"
                                },
                                {
                                    "0": "20631",
                                    "1": "multimedia"
                                },
                                {
                                    "0": "20757",
                                    "1": "my-all-time-favorites"
                                },
                                {
                                    "0": "21414",
                                    "1": "new-lifetime-reading-plan"
                                },
                                {
                                    "0": "21574",
                                    "1": "nighttime"
                                },
                                {
                                    "0": "21649",
                                    "1": "no-thanks-time-peeps"
                                },
                                {
                                    "0": "21969",
                                    "1": "not-worth-any-more-time"
                                },
                                {
                                    "0": "22108",
                                    "1": "ny-times-best-sellers"
                                },
                                {
                                    "0": "22385",
                                    "1": "once-upon-a-time"
                                },
                                {
                                    "0": "22408",
                                    "1": "one-time-read"
                                },
                                {
                                    "0": "22409",
                                    "1": "one-timers"
                                },
                                {
                                    "0": "22424",
                                    "1": "only-time-will-tell"
                                },
                                {
                                    "0": "23051",
                                    "1": "party-time"
                                },
                                {
                                    "0": "24226",
                                    "1": "preschool-storytime"
                                },
                                {
                                    "0": "24751",
                                    "1": "quiet-time"
                                },
                                {
                                    "0": "24979",
                                    "1": "read-2-times"
                                },
                                {
                                    "0": "25007",
                                    "1": "read-6-10-times"
                                },
                                {
                                    "0": "25009",
                                    "1": "read-a-long-time-ago"
                                },
                                {
                                    "0": "25205",
                                    "1": "read-it-again-anytime"
                                },
                                {
                                    "0": "25227",
                                    "1": "read-many-times"
                                },
                                {
                                    "0": "25235",
                                    "1": "read-multiple-times"
                                },
                                {
                                    "0": "25296",
                                    "1": "read-this-a-long-time-ago"
                                },
                                {
                                    "0": "25351",
                                    "1": "read_long_time_back_nostalgia"
                                },
                                {
                                    "0": "25396",
                                    "1": "reading-time"
                                },
                                {
                                    "0": "25766",
                                    "1": "reread-a-million-times"
                                },
                                {
                                    "0": "25956",
                                    "1": "river-of-time"
                                },
                                {
                                    "0": "26174",
                                    "1": "romance-time-travel"
                                },
                                {
                                    "0": "26564",
                                    "1": "sands-of-time"
                                },
                                {
                                    "0": "26807",
                                    "1": "sci-fi-time-travel"
                                },
                                {
                                    "0": "27146",
                                    "1": "sensory-storytime"
                                },
                                {
                                    "0": "27167",
                                    "1": "sequel-to-a-time-to-kill"
                                },
                                {
                                    "0": "27322",
                                    "1": "series-wheel-of-time"
                                },
                                {
                                    "0": "27394",
                                    "1": "sexy-time"
                                },
                                {
                                    "0": "27395",
                                    "1": "sexy-times"
                                },
                                {
                                    "0": "27396",
                                    "1": "sexytime"
                                },
                                {
                                    "0": "27940",
                                    "1": "slowly-reading-over-time"
                                },
                                {
                                    "0": "28083",
                                    "1": "some-books-i-read-a-long-time-ago"
                                },
                                {
                                    "0": "28096",
                                    "1": "sometimes-never"
                                },
                                {
                                    "0": "28272",
                                    "1": "spare-time"
                                },
                                {
                                    "0": "28770",
                                    "1": "story-time"
                                },
                                {
                                    "0": "28771",
                                    "1": "story-time-books"
                                },
                                {
                                    "0": "28776",
                                    "1": "storytime"
                                },
                                {
                                    "0": "28777",
                                    "1": "storytime-and-read-alouds"
                                },
                                {
                                    "0": "28778",
                                    "1": "storytime-books"
                                },
                                {
                                    "0": "28779",
                                    "1": "storytime-faves"
                                },
                                {
                                    "0": "28780",
                                    "1": "storytime-favorites"
                                },
                                {
                                    "0": "28781",
                                    "1": "storytime-favs"
                                },
                                {
                                    "0": "28782",
                                    "1": "storytime-librarytheme"
                                },
                                {
                                    "0": "28783",
                                    "1": "storytime-monsters"
                                },
                                {
                                    "0": "28784",
                                    "1": "storytime-picks"
                                },
                                {
                                    "0": "28785",
                                    "1": "storytime-preschool"
                                },
                                {
                                    "0": "28786",
                                    "1": "storytime-reads"
                                },
                                {
                                    "0": "28787",
                                    "1": "storytimes"
                                },
                                {
                                    "0": "29508",
                                    "1": "telling-time"
                                },
                                {
                                    "0": "29643",
                                    "1": "the-before-times"
                                },
                                {
                                    "0": "29978",
                                    "1": "the-new-lifetime-reading-plan"
                                },
                                {
                                    "0": "30142",
                                    "1": "the-time-keeper"
                                },
                                {
                                    "0": "30185",
                                    "1": "the-wheel-of-time"
                                },
                                {
                                    "0": "30186",
                                    "1": "the-wheel-of-time-series"
                                },
                                {
                                    "0": "30354",
                                    "1": "three-times-lucky"
                                },
                                {
                                    "0": "30444",
                                    "1": "time"
                                },
                                {
                                    "0": "30445",
                                    "1": "time-100"
                                },
                                {
                                    "0": "30446",
                                    "1": "time-100-best"
                                },
                                {
                                    "0": "30447",
                                    "1": "time-100-list"
                                },
                                {
                                    "0": "30448",
                                    "1": "time-100-nonfiction"
                                },
                                {
                                    "0": "30449",
                                    "1": "time-100-novels"
                                },
                                {
                                    "0": "30450",
                                    "1": "time-all-time-100"
                                },
                                {
                                    "0": "30451",
                                    "1": "time-for-twos"
                                },
                                {
                                    "0": "30452",
                                    "1": "time-magazine-100"
                                },
                                {
                                    "0": "30453",
                                    "1": "time-magazine-s-all-time-100-novels"
                                },
                                {
                                    "0": "30454",
                                    "1": "time-magazine-top-100"
                                },
                                {
                                    "0": "30455",
                                    "1": "time-management"
                                },
                                {
                                    "0": "30456",
                                    "1": "time-pass"
                                },
                                {
                                    "0": "30457",
                                    "1": "time-quintet"
                                },
                                {
                                    "0": "30458",
                                    "1": "time-s-100"
                                },
                                {
                                    "0": "30459",
                                    "1": "time-s-100-best-novels"
                                },
                                {
                                    "0": "30460",
                                    "1": "time-s-top-100"
                                },
                                {
                                    "0": "30461",
                                    "1": "time-slip"
                                },
                                {
                                    "0": "30462",
                                    "1": "time-to-read-again"
                                },
                                {
                                    "0": "30463",
                                    "1": "time-top-100"
                                },
                                {
                                    "0": "30464",
                                    "1": "time-travel"
                                },
                                {
                                    "0": "30465",
                                    "1": "time-travel-romance"
                                },
                                {
                                    "0": "30466",
                                    "1": "time-travel-shenanigans"
                                },
                                {
                                    "0": "30467",
                                    "1": "time-traveling"
                                },
                                {
                                    "0": "30468",
                                    "1": "time-travelling"
                                },
                                {
                                    "0": "30469",
                                    "1": "time100"
                                },
                                {
                                    "0": "30470",
                                    "1": "timepass"
                                },
                                {
                                    "0": "30471",
                                    "1": "times-100"
                                },
                                {
                                    "0": "30472",
                                    "1": "times-top-100"
                                },
                                {
                                    "0": "30473",
                                    "1": "timetravel"
                                },
                                {
                                    "0": "30474",
                                    "1": "timey-wimey"
                                },
                                {
                                    "0": "30901",
                                    "1": "toddler-storytime"
                                },
                                {
                                    "0": "30902",
                                    "1": "toddler-time"
                                },
                                {
                                    "0": "30977",
                                    "1": "top-100-books-of-all-time"
                                },
                                {
                                    "0": "31028",
                                    "1": "tough-times"
                                },
                                {
                                    "0": "32215",
                                    "1": "waste-of-time"
                                },
                                {
                                    "0": "32401",
                                    "1": "wheel-of-time"
                                },
                                {
                                    "0": "32402",
                                    "1": "wheel-of-time-series"
                                },
                                {
                                    "0": "32859",
                                    "1": "wrinkle-in-time"
                                }
                            ]
                        },
                        "text/html": [
                            "<table>",
                            "<tr><th>tag_id</th><th>tag_name</th></tr>",
                            "<tr><td>192</td><td>100-best-books-of-all-time</td></tr>",
                            "<tr><td>193</td><td>100-best-books-of-all-time-the-worl</td></tr>",
                            "<tr><td>206</td><td>100-books-to-read-in-a-lifetime</td></tr>",
                            "<tr><td>422</td><td>1933-and-present-time</td></tr>",
                            "<tr><td>592</td><td>200-books-to-read-in-your-lifetime</td></tr>",
                            "<tr><td>1340</td><td>a-long-time-ago</td></tr>",
                            "<tr><td>1881</td><td>aint-nobody-got-time-for-that</td></tr>",
                            "<tr><td>2097</td><td>all-time</td></tr>",
                            "<tr><td>2098</td><td>all-time-100-novels</td></tr>",
                            "<tr><td>2099</td><td>all-time-fav</td></tr>",
                            "<tr><td>2100</td><td>all-time-faves</td></tr>",
                            "<tr><td>2101</td><td>all-time-favorite</td></tr>",
                            "<tr><td>2102</td><td>all-time-favorite-books</td></tr>",
                            "<tr><td>2103</td><td>all-time-favorite-fiction</td></tr>",
                            "<tr><td>2104</td><td>all-time-favorites</td></tr>",
                            "<tr><td>2105</td><td>all-time-favourite</td></tr>",
                            "<tr><td>2106</td><td>all-time-favourites</td></tr>",
                            "<tr><td>2107</td><td>all-time-favs</td></tr>",
                            "<tr><td>2125</td><td>alltime-fav</td></tr>",
                            "<tr><td>2447</td><td>ancient-times</td></tr>",
                            "<tr><td>3757</td><td>baby-storytime</td></tr>",
                            "<tr><td>3766</td><td>babytime</td></tr>",
                            "<tr><td>3986</td><td>bath-time</td></tr>",
                            "<tr><td>4143</td><td>bed-time</td></tr>",
                            "<tr><td>4149</td><td>bedtime</td></tr>",
                            "<tr><td>4150</td><td>bedtime-books</td></tr>",
                            "<tr><td>4151</td><td>bedtime-stories</td></tr>",
                            "<tr><td>4152</td><td>bedtime-story</td></tr>",
                            "<tr><td>4183</td><td>befuddling-puzzling-at-times</td></tr>",
                            "<tr><td>4214</td><td>being-and-time</td></tr>",
                            "<tr><td>5013</td><td>book-read-a-long-time-ago</td></tr>",
                            "<tr><td>5343</td><td>books-read-a-long-long-time-ago</td></tr>",
                            "<tr><td>5411</td><td>books-to-read-in-my-lifetime</td></tr>",
                            "<tr><td>6864</td><td>children-bedtime</td></tr>",
                            "<tr><td>7110</td><td>christian-end-times</td></tr>",
                            "<tr><td>9977</td><td>dual-time</td></tr>",
                            "<tr><td>9978</td><td>dual-timeline</td></tr>",
                            "<tr><td>9979</td><td>dual-timelines</td></tr>",
                            "<tr><td>10595</td><td>end-times</td></tr>",
                            "<tr><td>11251</td><td>family-storytime</td></tr>",
                            "<tr><td>11580</td><td>favourite-books-of-all-time</td></tr>",
                            "<tr><td>13877</td><td>halloween-storytime</td></tr>",
                            "<tr><td>15407</td><td>in-search-of-lost-time</td></tr>",
                            "<tr><td>15938</td><td>ive-only-got-time-for-fantasy</td></tr>",
                            "<tr><td>18170</td><td>lifetime-challenge-1972</td></tr>",
                            "<tr><td>18171</td><td>lifetime-must-reads</td></tr>",
                            "<tr><td>18172</td><td>lifetime-reading-plan</td></tr>",
                            "<tr><td>18202</td><td>lili-s-lifetime-reads</td></tr>",
                            "<tr><td>18543</td><td>long-time-ago</td></tr>",
                            "<tr><td>18544</td><td>long-time-favorites</td></tr>",
                            "<tr><td>19266</td><td>maritime</td></tr>",
                            "<tr><td>19267</td><td>maritime-history</td></tr>",
                            "<tr><td>19361</td><td>marvel-comics-timeline</td></tr>",
                            "<tr><td>19615</td><td>meaning-of-time-and-how-to-apprecia</td></tr>",
                            "<tr><td>19680</td><td>medieval-times</td></tr>",
                            "<tr><td>20404</td><td>monster-storytime</td></tr>",
                            "<tr><td>20441</td><td>more-favs-but-less-all-time</td></tr>",
                            "<tr><td>20545</td><td>movement-storytime</td></tr>",
                            "<tr><td>20631</td><td>multimedia</td></tr>",
                            "<tr><td>20757</td><td>my-all-time-favorites</td></tr>",
                            "<tr><td>21414</td><td>new-lifetime-reading-plan</td></tr>",
                            "<tr><td>21574</td><td>nighttime</td></tr>",
                            "<tr><td>21649</td><td>no-thanks-time-peeps</td></tr>",
                            "<tr><td>21969</td><td>not-worth-any-more-time</td></tr>",
                            "<tr><td>22108</td><td>ny-times-best-sellers</td></tr>",
                            "<tr><td>22385</td><td>once-upon-a-time</td></tr>",
                            "<tr><td>22408</td><td>one-time-read</td></tr>",
                            "<tr><td>22409</td><td>one-timers</td></tr>",
                            "<tr><td>22424</td><td>only-time-will-tell</td></tr>",
                            "<tr><td>23051</td><td>party-time</td></tr>",
                            "<tr><td>24226</td><td>preschool-storytime</td></tr>",
                            "<tr><td>24751</td><td>quiet-time</td></tr>",
                            "<tr><td>24979</td><td>read-2-times</td></tr>",
                            "<tr><td>25007</td><td>read-6-10-times</td></tr>",
                            "<tr><td>25009</td><td>read-a-long-time-ago</td></tr>",
                            "<tr><td>25205</td><td>read-it-again-anytime</td></tr>",
                            "<tr><td>25227</td><td>read-many-times</td></tr>",
                            "<tr><td>25235</td><td>read-multiple-times</td></tr>",
                            "<tr><td>25296</td><td>read-this-a-long-time-ago</td></tr>",
                            "<tr><td>25351</td><td>read_long_time_back_nostalgia</td></tr>",
                            "<tr><td>25396</td><td>reading-time</td></tr>",
                            "<tr><td>25766</td><td>reread-a-million-times</td></tr>",
                            "<tr><td>25956</td><td>river-of-time</td></tr>",
                            "<tr><td>26174</td><td>romance-time-travel</td></tr>",
                            "<tr><td>26564</td><td>sands-of-time</td></tr>",
                            "<tr><td>26807</td><td>sci-fi-time-travel</td></tr>",
                            "<tr><td>27146</td><td>sensory-storytime</td></tr>",
                            "<tr><td>27167</td><td>sequel-to-a-time-to-kill</td></tr>",
                            "<tr><td>27322</td><td>series-wheel-of-time</td></tr>",
                            "<tr><td>27394</td><td>sexy-time</td></tr>",
                            "<tr><td>27395</td><td>sexy-times</td></tr>",
                            "<tr><td>27396</td><td>sexytime</td></tr>",
                            "<tr><td>27940</td><td>slowly-reading-over-time</td></tr>",
                            "<tr><td>28083</td><td>some-books-i-read-a-long-time-ago</td></tr>",
                            "<tr><td>28096</td><td>sometimes-never</td></tr>",
                            "<tr><td>28272</td><td>spare-time</td></tr>",
                            "<tr><td>28770</td><td>story-time</td></tr>",
                            "<tr><td>28771</td><td>story-time-books</td></tr>",
                            "<tr><td>28776</td><td>storytime</td></tr>",
                            "<tr><td>28777</td><td>storytime-and-read-alouds</td></tr>",
                            "<tr><td>28778</td><td>storytime-books</td></tr>",
                            "<tr><td>28779</td><td>storytime-faves</td></tr>",
                            "<tr><td>28780</td><td>storytime-favorites</td></tr>",
                            "<tr><td>28781</td><td>storytime-favs</td></tr>",
                            "<tr><td>28782</td><td>storytime-librarytheme</td></tr>",
                            "<tr><td>28783</td><td>storytime-monsters</td></tr>",
                            "<tr><td>28784</td><td>storytime-picks</td></tr>",
                            "<tr><td>28785</td><td>storytime-preschool</td></tr>",
                            "<tr><td>28786</td><td>storytime-reads</td></tr>",
                            "<tr><td>28787</td><td>storytimes</td></tr>",
                            "<tr><td>29508</td><td>telling-time</td></tr>",
                            "<tr><td>29643</td><td>the-before-times</td></tr>",
                            "<tr><td>29978</td><td>the-new-lifetime-reading-plan</td></tr>",
                            "<tr><td>30142</td><td>the-time-keeper</td></tr>",
                            "<tr><td>30185</td><td>the-wheel-of-time</td></tr>",
                            "<tr><td>30186</td><td>the-wheel-of-time-series</td></tr>",
                            "<tr><td>30354</td><td>three-times-lucky</td></tr>",
                            "<tr><td>30444</td><td>time</td></tr>",
                            "<tr><td>30445</td><td>time-100</td></tr>",
                            "<tr><td>30446</td><td>time-100-best</td></tr>",
                            "<tr><td>30447</td><td>time-100-list</td></tr>",
                            "<tr><td>30448</td><td>time-100-nonfiction</td></tr>",
                            "<tr><td>30449</td><td>time-100-novels</td></tr>",
                            "<tr><td>30450</td><td>time-all-time-100</td></tr>",
                            "<tr><td>30451</td><td>time-for-twos</td></tr>",
                            "<tr><td>30452</td><td>time-magazine-100</td></tr>",
                            "<tr><td>30453</td><td>time-magazine-s-all-time-100-novels</td></tr>",
                            "<tr><td>30454</td><td>time-magazine-top-100</td></tr>",
                            "<tr><td>30455</td><td>time-management</td></tr>",
                            "<tr><td>30456</td><td>time-pass</td></tr>",
                            "<tr><td>30457</td><td>time-quintet</td></tr>",
                            "<tr><td>30458</td><td>time-s-100</td></tr>",
                            "<tr><td>30459</td><td>time-s-100-best-novels</td></tr>",
                            "<tr><td>30460</td><td>time-s-top-100</td></tr>",
                            "<tr><td>30461</td><td>time-slip</td></tr>",
                            "<tr><td>30462</td><td>time-to-read-again</td></tr>",
                            "<tr><td>30463</td><td>time-top-100</td></tr>",
                            "<tr><td>30464</td><td>time-travel</td></tr>",
                            "<tr><td>30465</td><td>time-travel-romance</td></tr>",
                            "<tr><td>30466</td><td>time-travel-shenanigans</td></tr>",
                            "<tr><td>30467</td><td>time-traveling</td></tr>",
                            "<tr><td>30468</td><td>time-travelling</td></tr>",
                            "<tr><td>30469</td><td>time100</td></tr>",
                            "<tr><td>30470</td><td>timepass</td></tr>",
                            "<tr><td>30471</td><td>times-100</td></tr>",
                            "<tr><td>30472</td><td>times-top-100</td></tr>",
                            "<tr><td>30473</td><td>timetravel</td></tr>",
                            "<tr><td>30474</td><td>timey-wimey</td></tr>",
                            "<tr><td>30901</td><td>toddler-storytime</td></tr>",
                            "<tr><td>30902</td><td>toddler-time</td></tr>",
                            "<tr><td>30977</td><td>top-100-books-of-all-time</td></tr>",
                            "<tr><td>31028</td><td>tough-times</td></tr>",
                            "<tr><td>32215</td><td>waste-of-time</td></tr>",
                            "<tr><td>32401</td><td>wheel-of-time</td></tr>",
                            "<tr><td>32402</td><td>wheel-of-time-series</td></tr>",
                            "<tr><td>32859</td><td>wrinkle-in-time</td></tr>",
                            "</table>"
                        ]
                    }
                },
                {
                    "output_type": "execute_result",
                    "metadata": {},
                    "execution_count": 68,
                    "data": {
                        "application/vnd.dataresource+json": {
                            "schema": {
                                "fields": [
                                    {
                                        "name": "title"
                                    },
                                    {
                                        "name": "MostTag"
                                    }
                                ]
                            },
                            "data": [
                                {
                                    "0": "Smaragdgrün (Edelstein-Trilogie, #3)",
                                    "1": "19"
                                }
                            ]
                        },
                        "text/html": [
                            "<table>",
                            "<tr><th>title</th><th>MostTag</th></tr>",
                            "<tr><td>Smaragdgrün (Edelstein-Trilogie, #3)</td><td>19</td></tr>",
                            "</table>"
                        ]
                    }
                }
            ],
            "execution_count": 68
        },
        {
            "cell_type": "markdown",
            "source": [
                "## **QUESTION 7:** What are the top 10 most popular book titles on the 'to read' list?\n",
                "\n",
                "**Part A:**  Explore how the **to\\_read** and **books** tables are organized, and then join them.  What will you use as a key?\n",
                "\n",
                "> Your Answer: I will use book\\_id as a key because it exist in both tables.\n",
                "\n",
                "**Part B:** Organize your newly joined table in a way that groups popularity based on the title based on users.\n",
                "\n",
                "> _Hint:_ Suggest using an alias for the aggregation you will need to run on the **user\\_id**\n",
                "\n",
                "> _Minimum Desired Output:_ title and aliased column"
            ],
            "metadata": {
                "azdata_cell_guid": "4e5349b7-24f6-481a-9d88-bb4f86abc624"
            },
            "attachments": {}
        },
        {
            "cell_type": "code",
            "source": [
                "-- Code Here:\n",
                "SELECT TOP 30 * FROM BooksDB.dbo.books;\n",
                "SELECT TOP 30 * FROM BooksDB.dbo.to_read;\n",
                "-- SELECT COUNT(*) FROM BooksDB.dbo.to_read;\n",
                ""
            ],
            "metadata": {
                "azdata_cell_guid": "8af25df1-ce61-4152-8198-0b53c17642d0",
                "language": "sql"
            },
            "outputs": [
                {
                    "output_type": "display_data",
                    "data": {
                        "text/html": "(30 rows affected)"
                    },
                    "metadata": {}
                },
                {
                    "output_type": "display_data",
                    "data": {
                        "text/html": "(30 rows affected)"
                    },
                    "metadata": {}
                },
                {
                    "output_type": "display_data",
                    "data": {
                        "text/html": "(1 row affected)"
                    },
                    "metadata": {}
                },
                {
                    "output_type": "display_data",
                    "data": {
                        "text/html": "Total execution time: 00:00:00.139"
                    },
                    "metadata": {}
                },
                {
                    "output_type": "execute_result",
                    "metadata": {},
                    "execution_count": 70,
                    "data": {
                        "application/vnd.dataresource+json": {
                            "schema": {
                                "fields": [
                                    {
                                        "name": "id"
                                    },
                                    {
                                        "name": "book_id"
                                    },
                                    {
                                        "name": "best_book_id"
                                    },
                                    {
                                        "name": "work_id"
                                    },
                                    {
                                        "name": "books_count"
                                    },
                                    {
                                        "name": "isbn"
                                    },
                                    {
                                        "name": "isbn13"
                                    },
                                    {
                                        "name": "authors"
                                    },
                                    {
                                        "name": "original_publication_year"
                                    },
                                    {
                                        "name": "original_title"
                                    },
                                    {
                                        "name": "title"
                                    },
                                    {
                                        "name": "language_code"
                                    },
                                    {
                                        "name": "average_rating"
                                    },
                                    {
                                        "name": "ratings_count"
                                    },
                                    {
                                        "name": "work_ratings_count"
                                    },
                                    {
                                        "name": "work_text_reviews_count"
                                    },
                                    {
                                        "name": "ratings_1"
                                    },
                                    {
                                        "name": "ratings_2"
                                    },
                                    {
                                        "name": "ratings_3"
                                    },
                                    {
                                        "name": "ratings_4"
                                    },
                                    {
                                        "name": "ratings_5"
                                    },
                                    {
                                        "name": "image_url"
                                    },
                                    {
                                        "name": "small_image_url"
                                    }
                                ]
                            },
                            "data": [
                                {
                                    "0": "1",
                                    "1": "2767052",
                                    "2": "2767052",
                                    "3": "2792775",
                                    "4": "272",
                                    "5": "439023483",
                                    "6": "9780439023480",
                                    "7": "Suzanne Collins",
                                    "8": "2008",
                                    "9": "The Hunger Games",
                                    "10": "The Hunger Games (The Hunger Games, #1)",
                                    "11": "eng",
                                    "12": "4.34",
                                    "13": "4780653",
                                    "14": "4942365",
                                    "15": "155254",
                                    "16": "66715",
                                    "17": "127936",
                                    "18": "560092",
                                    "19": "1481305",
                                    "20": "2706317",
                                    "21": "https://images.gr-assets.com/books/1447303603m/2767052.jpg",
                                    "22": "https://images.gr-assets.com/books/1447303603s/2767052.jpg"
                                },
                                {
                                    "0": "2",
                                    "1": "3",
                                    "2": "3",
                                    "3": "4640799",
                                    "4": "491",
                                    "5": "439554934",
                                    "6": "9780439554930",
                                    "7": "J.K. Rowling, Mary GrandPré",
                                    "8": "1997",
                                    "9": "Harry Potter and the Philosopher's Stone",
                                    "10": "Harry Potter and the Sorcerer's Stone (Harry Potter, #1)",
                                    "11": "eng",
                                    "12": "4.44",
                                    "13": "4602479",
                                    "14": "4800065",
                                    "15": "75867",
                                    "16": "75504",
                                    "17": "101676",
                                    "18": "455024",
                                    "19": "1156318",
                                    "20": "3011543",
                                    "21": "https://images.gr-assets.com/books/1474154022m/3.jpg",
                                    "22": "https://images.gr-assets.com/books/1474154022s/3.jpg"
                                },
                                {
                                    "0": "3",
                                    "1": "41865",
                                    "2": "41865",
                                    "3": "3212258",
                                    "4": "226",
                                    "5": "316015849",
                                    "6": "9780316015840",
                                    "7": "Stephenie Meyer",
                                    "8": "2005",
                                    "9": "Twilight",
                                    "10": "Twilight (Twilight, #1)",
                                    "11": "en-US",
                                    "12": "3.57",
                                    "13": "3866839",
                                    "14": "3916824",
                                    "15": "95009",
                                    "16": "456191",
                                    "17": "436802",
                                    "18": "793319",
                                    "19": "875073",
                                    "20": "1355439",
                                    "21": "https://images.gr-assets.com/books/1361039443m/41865.jpg",
                                    "22": "https://images.gr-assets.com/books/1361039443s/41865.jpg"
                                },
                                {
                                    "0": "4",
                                    "1": "2657",
                                    "2": "2657",
                                    "3": "3275794",
                                    "4": "487",
                                    "5": "61120081",
                                    "6": "9780061120080",
                                    "7": "Harper Lee",
                                    "8": "1960",
                                    "9": "To Kill a Mockingbird",
                                    "10": "To Kill a Mockingbird",
                                    "11": "eng",
                                    "12": "4.25",
                                    "13": "3198671",
                                    "14": "3340896",
                                    "15": "72586",
                                    "16": "60427",
                                    "17": "117415",
                                    "18": "446835",
                                    "19": "1001952",
                                    "20": "1714267",
                                    "21": "https://images.gr-assets.com/books/1361975680m/2657.jpg",
                                    "22": "https://images.gr-assets.com/books/1361975680s/2657.jpg"
                                },
                                {
                                    "0": "5",
                                    "1": "4671",
                                    "2": "4671",
                                    "3": "245494",
                                    "4": "1356",
                                    "5": "743273567",
                                    "6": "9780743273560",
                                    "7": "F. Scott Fitzgerald",
                                    "8": "1925",
                                    "9": "The Great Gatsby",
                                    "10": "The Great Gatsby",
                                    "11": "eng",
                                    "12": "3.89",
                                    "13": "2683664",
                                    "14": "2773745",
                                    "15": "51992",
                                    "16": "86236",
                                    "17": "197621",
                                    "18": "606158",
                                    "19": "936012",
                                    "20": "947718",
                                    "21": "https://images.gr-assets.com/books/1490528560m/4671.jpg",
                                    "22": "https://images.gr-assets.com/books/1490528560s/4671.jpg"
                                },
                                {
                                    "0": "6",
                                    "1": "11870085",
                                    "2": "11870085",
                                    "3": "16827462",
                                    "4": "226",
                                    "5": "525478817",
                                    "6": "9780525478810",
                                    "7": "John Green",
                                    "8": "2012",
                                    "9": "The Fault in Our Stars",
                                    "10": "The Fault in Our Stars",
                                    "11": "eng",
                                    "12": "4.26",
                                    "13": "2346404",
                                    "14": "2478609",
                                    "15": "140739",
                                    "16": "47994",
                                    "17": "92723",
                                    "18": "327550",
                                    "19": "698471",
                                    "20": "1311871",
                                    "21": "https://images.gr-assets.com/books/1360206420m/11870085.jpg",
                                    "22": "https://images.gr-assets.com/books/1360206420s/11870085.jpg"
                                },
                                {
                                    "0": "7",
                                    "1": "5907",
                                    "2": "5907",
                                    "3": "1540236",
                                    "4": "969",
                                    "5": "618260307",
                                    "6": "9780618260300",
                                    "7": "J.R.R. Tolkien",
                                    "8": "1937",
                                    "9": "The Hobbit or There and Back Again",
                                    "10": "The Hobbit",
                                    "11": "en-US",
                                    "12": "4.25",
                                    "13": "2071616",
                                    "14": "2196809",
                                    "15": "37653",
                                    "16": "46023",
                                    "17": "76784",
                                    "18": "288649",
                                    "19": "665635",
                                    "20": "1119718",
                                    "21": "https://images.gr-assets.com/books/1372847500m/5907.jpg",
                                    "22": "https://images.gr-assets.com/books/1372847500s/5907.jpg"
                                },
                                {
                                    "0": "8",
                                    "1": "5107",
                                    "2": "5107",
                                    "3": "3036731",
                                    "4": "360",
                                    "5": "316769177",
                                    "6": "9780316769170",
                                    "7": "J.D. Salinger",
                                    "8": "1951",
                                    "9": "The Catcher in the Rye",
                                    "10": "The Catcher in the Rye",
                                    "11": "eng",
                                    "12": "3.79",
                                    "13": "2044241",
                                    "14": "2120637",
                                    "15": "44920",
                                    "16": "109383",
                                    "17": "185520",
                                    "18": "455042",
                                    "19": "661516",
                                    "20": "709176",
                                    "21": "https://images.gr-assets.com/books/1398034300m/5107.jpg",
                                    "22": "https://images.gr-assets.com/books/1398034300s/5107.jpg"
                                },
                                {
                                    "0": "9",
                                    "1": "960",
                                    "2": "960",
                                    "3": "3338963",
                                    "4": "311",
                                    "5": "1416524797",
                                    "6": "9781416524790",
                                    "7": "Dan Brown",
                                    "8": "2000",
                                    "9": "Angels & Demons ",
                                    "10": "Angels & Demons  (Robert Langdon, #1)",
                                    "11": "en-CA",
                                    "12": "3.85",
                                    "13": "2001311",
                                    "14": "2078754",
                                    "15": "25112",
                                    "16": "77841",
                                    "17": "145740",
                                    "18": "458429",
                                    "19": "716569",
                                    "20": "680175",
                                    "21": "https://images.gr-assets.com/books/1303390735m/960.jpg",
                                    "22": "https://images.gr-assets.com/books/1303390735s/960.jpg"
                                },
                                {
                                    "0": "10",
                                    "1": "1885",
                                    "2": "1885",
                                    "3": "3060926",
                                    "4": "3455",
                                    "5": "679783261",
                                    "6": "9780679783270",
                                    "7": "Jane Austen",
                                    "8": "1813",
                                    "9": "Pride and Prejudice",
                                    "10": "Pride and Prejudice",
                                    "11": "eng",
                                    "12": "4.24",
                                    "13": "2035490",
                                    "14": "2191465",
                                    "15": "49152",
                                    "16": "54700",
                                    "17": "86485",
                                    "18": "284852",
                                    "19": "609755",
                                    "20": "1155673",
                                    "21": "https://images.gr-assets.com/books/1320399351m/1885.jpg",
                                    "22": "https://images.gr-assets.com/books/1320399351s/1885.jpg"
                                },
                                {
                                    "0": "11",
                                    "1": "77203",
                                    "2": "77203",
                                    "3": "3295919",
                                    "4": "283",
                                    "5": "1594480001",
                                    "6": "9781594480000",
                                    "7": "Khaled Hosseini",
                                    "8": "2003",
                                    "9": "The Kite Runner ",
                                    "10": "The Kite Runner",
                                    "11": "eng",
                                    "12": "4.26",
                                    "13": "1813044",
                                    "14": "1878095",
                                    "15": "59730",
                                    "16": "34288",
                                    "17": "59980",
                                    "18": "226062",
                                    "19": "628174",
                                    "20": "929591",
                                    "21": "https://images.gr-assets.com/books/1484565687m/77203.jpg",
                                    "22": "https://images.gr-assets.com/books/1484565687s/77203.jpg"
                                },
                                {
                                    "0": "12",
                                    "1": "13335037",
                                    "2": "13335037",
                                    "3": "13155899",
                                    "4": "210",
                                    "5": "62024035",
                                    "6": "9780062024040",
                                    "7": "Veronica Roth",
                                    "8": "2011",
                                    "9": "Divergent",
                                    "10": "Divergent (Divergent, #1)",
                                    "11": "eng",
                                    "12": "4.24",
                                    "13": "1903563",
                                    "14": "2216814",
                                    "15": "101023",
                                    "16": "36315",
                                    "17": "82870",
                                    "18": "310297",
                                    "19": "673028",
                                    "20": "1114304",
                                    "21": "https://images.gr-assets.com/books/1328559506m/13335037.jpg",
                                    "22": "https://images.gr-assets.com/books/1328559506s/13335037.jpg"
                                },
                                {
                                    "0": "13",
                                    "1": "5470",
                                    "2": "5470",
                                    "3": "153313",
                                    "4": "995",
                                    "5": "451524934",
                                    "6": "9780451524940",
                                    "7": "George Orwell, Erich Fromm, Celâl Üster",
                                    "8": "1949",
                                    "9": "Nineteen Eighty-Four",
                                    "10": "1984",
                                    "11": "eng",
                                    "12": "4.14",
                                    "13": "1956832",
                                    "14": "2053394",
                                    "15": "45518",
                                    "16": "41845",
                                    "17": "86425",
                                    "18": "324874",
                                    "19": "692021",
                                    "20": "908229",
                                    "21": "https://images.gr-assets.com/books/1348990566m/5470.jpg",
                                    "22": "https://images.gr-assets.com/books/1348990566s/5470.jpg"
                                },
                                {
                                    "0": "14",
                                    "1": "7613",
                                    "2": "7613",
                                    "3": "2207778",
                                    "4": "896",
                                    "5": "452284244",
                                    "6": "9780452284240",
                                    "7": "George Orwell",
                                    "8": "1945",
                                    "9": "Animal Farm: A Fairy Story",
                                    "10": "Animal Farm",
                                    "11": "eng",
                                    "12": "3.87",
                                    "13": "1881700",
                                    "14": "1982987",
                                    "15": "35472",
                                    "16": "66854",
                                    "17": "135147",
                                    "18": "433432",
                                    "19": "698642",
                                    "20": "648912",
                                    "21": "https://images.gr-assets.com/books/1424037542m/7613.jpg",
                                    "22": "https://images.gr-assets.com/books/1424037542s/7613.jpg"
                                },
                                {
                                    "0": "15",
                                    "1": "48855",
                                    "2": "48855",
                                    "3": "3532896",
                                    "4": "710",
                                    "5": "553296981",
                                    "6": "9780553296980",
                                    "7": "Anne Frank, Eleanor Roosevelt, B.M. Mooyaart-Doubleday",
                                    "8": "1947",
                                    "9": "Het Achterhuis: Dagboekbrieven 14 juni 1942 - 1 augustus 1944",
                                    "10": "The Diary of a Young Girl",
                                    "11": "eng",
                                    "12": "4.1",
                                    "13": "1972666",
                                    "14": "2024493",
                                    "15": "20825",
                                    "16": "45225",
                                    "17": "91270",
                                    "18": "355756",
                                    "19": "656870",
                                    "20": "875372",
                                    "21": "https://images.gr-assets.com/books/1358276407m/48855.jpg",
                                    "22": "https://images.gr-assets.com/books/1358276407s/48855.jpg"
                                },
                                {
                                    "0": "16",
                                    "1": "2429135",
                                    "2": "2429135",
                                    "3": "1708725",
                                    "4": "274",
                                    "5": "307269752",
                                    "6": "9780307269750",
                                    "7": "Stieg Larsson, Reg Keeland",
                                    "8": "2005",
                                    "9": "Män som hatar kvinnor",
                                    "10": "The Girl with the Dragon Tattoo (Millennium, #1)",
                                    "11": "eng",
                                    "12": "4.11",
                                    "13": "1808403",
                                    "14": "1929834",
                                    "15": "62543",
                                    "16": "54835",
                                    "17": "86051",
                                    "18": "285413",
                                    "19": "667485",
                                    "20": "836050",
                                    "21": "https://images.gr-assets.com/books/1327868566m/2429135.jpg",
                                    "22": "https://images.gr-assets.com/books/1327868566s/2429135.jpg"
                                },
                                {
                                    "0": "17",
                                    "1": "6148028",
                                    "2": "6148028",
                                    "3": "6171458",
                                    "4": "201",
                                    "5": "439023491",
                                    "6": "9780439023500",
                                    "7": "Suzanne Collins",
                                    "8": "2009",
                                    "9": "Catching Fire",
                                    "10": "Catching Fire (The Hunger Games, #2)",
                                    "11": "eng",
                                    "12": "4.3",
                                    "13": "1831039",
                                    "14": "1988079",
                                    "15": "88538",
                                    "16": "10492",
                                    "17": "48030",
                                    "18": "262010",
                                    "19": "687238",
                                    "20": "980309",
                                    "21": "https://images.gr-assets.com/books/1358273780m/6148028.jpg",
                                    "22": "https://images.gr-assets.com/books/1358273780s/6148028.jpg"
                                },
                                {
                                    "0": "18",
                                    "1": "5",
                                    "2": "5",
                                    "3": "2402163",
                                    "4": "376",
                                    "5": "043965548X",
                                    "6": "9780439655480",
                                    "7": "J.K. Rowling, Mary GrandPré, Rufus Beck",
                                    "8": "1999",
                                    "9": "Harry Potter and the Prisoner of Azkaban",
                                    "10": "Harry Potter and the Prisoner of Azkaban (Harry Potter, #3)",
                                    "11": "eng",
                                    "12": "4.53",
                                    "13": "1832823",
                                    "14": "1969375",
                                    "15": "36099",
                                    "16": "6716",
                                    "17": "20413",
                                    "18": "166129",
                                    "19": "509447",
                                    "20": "1266670",
                                    "21": "https://images.gr-assets.com/books/1499277281m/5.jpg",
                                    "22": "https://images.gr-assets.com/books/1499277281s/5.jpg"
                                },
                                {
                                    "0": "19",
                                    "1": "34",
                                    "2": "34",
                                    "3": "3204327",
                                    "4": "566",
                                    "5": "618346252",
                                    "6": "9780618346260",
                                    "7": "J.R.R. Tolkien",
                                    "8": "1954",
                                    "9": "The Fellowship of the Ring",
                                    "10": "The Fellowship of the Ring (The Lord of the Rings, #1)",
                                    "11": "eng",
                                    "12": "4.34",
                                    "13": "1766803",
                                    "14": "1832541",
                                    "15": "15333",
                                    "16": "38031",
                                    "17": "55862",
                                    "18": "202332",
                                    "19": "493922",
                                    "20": "1042394",
                                    "21": "https://images.gr-assets.com/books/1298411339m/34.jpg",
                                    "22": "https://images.gr-assets.com/books/1298411339s/34.jpg"
                                },
                                {
                                    "0": "20",
                                    "1": "7260188",
                                    "2": "7260188",
                                    "3": "8812783",
                                    "4": "239",
                                    "5": "439023513",
                                    "6": "9780439023510",
                                    "7": "Suzanne Collins",
                                    "8": "2010",
                                    "9": "Mockingjay",
                                    "10": "Mockingjay (The Hunger Games, #3)",
                                    "11": "eng",
                                    "12": "4.03",
                                    "13": "1719760",
                                    "14": "1870748",
                                    "15": "96274",
                                    "16": "30144",
                                    "17": "110498",
                                    "18": "373060",
                                    "19": "618271",
                                    "20": "738775",
                                    "21": "https://images.gr-assets.com/books/1358275419m/7260188.jpg",
                                    "22": "https://images.gr-assets.com/books/1358275419s/7260188.jpg"
                                },
                                {
                                    "0": "21",
                                    "1": "2",
                                    "2": "2",
                                    "3": "2809203",
                                    "4": "307",
                                    "5": "439358078",
                                    "6": "9780439358070",
                                    "7": "J.K. Rowling, Mary GrandPré",
                                    "8": "2003",
                                    "9": "Harry Potter and the Order of the Phoenix",
                                    "10": "Harry Potter and the Order of the Phoenix (Harry Potter, #5)",
                                    "11": "eng",
                                    "12": "4.46",
                                    "13": "1735368",
                                    "14": "1840548",
                                    "15": "28685",
                                    "16": "9528",
                                    "17": "31577",
                                    "18": "180210",
                                    "19": "494427",
                                    "20": "1124806",
                                    "21": "https://images.gr-assets.com/books/1387141547m/2.jpg",
                                    "22": "https://images.gr-assets.com/books/1387141547s/2.jpg"
                                },
                                {
                                    "0": "22",
                                    "1": "12232938",
                                    "2": "12232938",
                                    "3": "1145090",
                                    "4": "183",
                                    "5": "316166685",
                                    "6": "9780316166680",
                                    "7": "Alice Sebold",
                                    "8": "2002",
                                    "9": "The Lovely Bones",
                                    "10": "The Lovely Bones",
                                    "11": "eng",
                                    "12": "3.77",
                                    "13": "1605173",
                                    "14": "1661562",
                                    "15": "36642",
                                    "16": "62777",
                                    "17": "131188",
                                    "18": "404699",
                                    "19": "583575",
                                    "20": "479323",
                                    "21": "https://images.gr-assets.com/books/1457810586m/12232938.jpg",
                                    "22": "https://images.gr-assets.com/books/1457810586s/12232938.jpg"
                                },
                                {
                                    "0": "23",
                                    "1": "15881",
                                    "2": "15881",
                                    "3": "6231171",
                                    "4": "398",
                                    "5": "439064864",
                                    "6": "9780439064870",
                                    "7": "J.K. Rowling, Mary GrandPré",
                                    "8": "1998",
                                    "9": "Harry Potter and the Chamber of Secrets",
                                    "10": "Harry Potter and the Chamber of Secrets (Harry Potter, #2)",
                                    "11": "eng",
                                    "12": "4.37",
                                    "13": "1779331",
                                    "14": "1906199",
                                    "15": "34172",
                                    "16": "8253",
                                    "17": "42251",
                                    "18": "242345",
                                    "19": "548266",
                                    "20": "1065084",
                                    "21": "https://images.gr-assets.com/books/1474169725m/15881.jpg",
                                    "22": "https://images.gr-assets.com/books/1474169725s/15881.jpg"
                                },
                                {
                                    "0": "24",
                                    "1": "6",
                                    "2": "6",
                                    "3": "3046572",
                                    "4": "332",
                                    "5": "439139600",
                                    "6": "9780439139600",
                                    "7": "J.K. Rowling, Mary GrandPré",
                                    "8": "2000",
                                    "9": "Harry Potter and the Goblet of Fire",
                                    "10": "Harry Potter and the Goblet of Fire (Harry Potter, #4)",
                                    "11": "eng",
                                    "12": "4.53",
                                    "13": "1753043",
                                    "14": "1868642",
                                    "15": "31084",
                                    "16": "6676",
                                    "17": "20210",
                                    "18": "151785",
                                    "19": "494926",
                                    "20": "1195045",
                                    "21": "https://images.gr-assets.com/books/1361482611m/6.jpg",
                                    "22": "https://images.gr-assets.com/books/1361482611s/6.jpg"
                                },
                                {
                                    "0": "25",
                                    "1": "136251",
                                    "2": "136251",
                                    "3": "2963218",
                                    "4": "263",
                                    "5": "545010225",
                                    "6": "9780545010220",
                                    "7": "J.K. Rowling, Mary GrandPré",
                                    "8": "2007",
                                    "9": "Harry Potter and the Deathly Hallows",
                                    "10": "Harry Potter and the Deathly Hallows (Harry Potter, #7)",
                                    "11": "eng",
                                    "12": "4.61",
                                    "13": "1746574",
                                    "14": "1847395",
                                    "15": "51942",
                                    "16": "9363",
                                    "17": "22245",
                                    "18": "113646",
                                    "19": "383914",
                                    "20": "1318227",
                                    "21": "https://images.gr-assets.com/books/1474171184m/136251.jpg",
                                    "22": "https://images.gr-assets.com/books/1474171184s/136251.jpg"
                                },
                                {
                                    "0": "26",
                                    "1": "968",
                                    "2": "968",
                                    "3": "2982101",
                                    "4": "350",
                                    "5": "307277674",
                                    "6": "9780307277670",
                                    "7": "Dan Brown",
                                    "8": "2003",
                                    "9": "The Da Vinci Code",
                                    "10": "The Da Vinci Code (Robert Langdon, #2)",
                                    "11": "eng",
                                    "12": "3.79",
                                    "13": "1447148",
                                    "14": "1557292",
                                    "15": "41560",
                                    "16": "71345",
                                    "17": "126493",
                                    "18": "340790",
                                    "19": "539277",
                                    "20": "479387",
                                    "21": "https://images.gr-assets.com/books/1303252999m/968.jpg",
                                    "22": "https://images.gr-assets.com/books/1303252999s/968.jpg"
                                },
                                {
                                    "0": "27",
                                    "1": "1",
                                    "2": "1",
                                    "3": "41335427",
                                    "4": "275",
                                    "5": "439785960",
                                    "6": "9780439785970",
                                    "7": "J.K. Rowling, Mary GrandPré",
                                    "8": "2005",
                                    "9": "Harry Potter and the Half-Blood Prince",
                                    "10": "Harry Potter and the Half-Blood Prince (Harry Potter, #6)",
                                    "11": "eng",
                                    "12": "4.54",
                                    "13": "1678823",
                                    "14": "1785676",
                                    "15": "27520",
                                    "16": "7308",
                                    "17": "21516",
                                    "18": "136333",
                                    "19": "459028",
                                    "20": "1161491",
                                    "21": "https://images.gr-assets.com/books/1361039191m/1.jpg",
                                    "22": "https://images.gr-assets.com/books/1361039191s/1.jpg"
                                },
                                {
                                    "0": "28",
                                    "1": "7624",
                                    "2": "7624",
                                    "3": "2766512",
                                    "4": "458",
                                    "5": "140283331",
                                    "6": "9780140283330",
                                    "7": "William Golding",
                                    "8": "1954",
                                    "9": "Lord of the Flies ",
                                    "10": "Lord of the Flies",
                                    "11": "eng",
                                    "12": "3.64",
                                    "13": "1605019",
                                    "14": "1671484",
                                    "15": "26886",
                                    "16": "92779",
                                    "17": "160295",
                                    "18": "425648",
                                    "19": "564916",
                                    "20": "427846",
                                    "21": "https://images.gr-assets.com/books/1327869409m/7624.jpg",
                                    "22": "https://images.gr-assets.com/books/1327869409s/7624.jpg"
                                },
                                {
                                    "0": "29",
                                    "1": "18135",
                                    "2": "18135",
                                    "3": "3349450",
                                    "4": "1937",
                                    "5": "743477111",
                                    "6": "9780743477120",
                                    "7": "William Shakespeare, Robert           Jackson",
                                    "8": "1595",
                                    "9": "An Excellent conceited Tragedie of Romeo and Juliet",
                                    "10": "Romeo and Juliet",
                                    "11": "eng",
                                    "12": "3.73",
                                    "13": "1628519",
                                    "14": "1672889",
                                    "15": "14778",
                                    "16": "57980",
                                    "17": "153179",
                                    "18": "452673",
                                    "19": "519822",
                                    "20": "489235",
                                    "21": "https://images.gr-assets.com/books/1327872146m/18135.jpg",
                                    "22": "https://images.gr-assets.com/books/1327872146s/18135.jpg"
                                },
                                {
                                    "0": "30",
                                    "1": "8442457",
                                    "2": "19288043",
                                    "3": "13306276",
                                    "4": "196",
                                    "5": "297859382",
                                    "6": "9780297859380",
                                    "7": "Gillian Flynn",
                                    "8": "2012",
                                    "9": "Gone Girl",
                                    "10": "Gone Girl",
                                    "11": "eng",
                                    "12": "4.03",
                                    "13": "512475",
                                    "14": "1626519",
                                    "15": "121614",
                                    "16": "38874",
                                    "17": "80807",
                                    "18": "280331",
                                    "19": "616031",
                                    "20": "610476",
                                    "21": "https://images.gr-assets.com/books/1339602131m/8442457.jpg",
                                    "22": "https://images.gr-assets.com/books/1339602131s/8442457.jpg"
                                }
                            ]
                        },
                        "text/html": [
                            "<table>",
                            "<tr><th>id</th><th>book_id</th><th>best_book_id</th><th>work_id</th><th>books_count</th><th>isbn</th><th>isbn13</th><th>authors</th><th>original_publication_year</th><th>original_title</th><th>title</th><th>language_code</th><th>average_rating</th><th>ratings_count</th><th>work_ratings_count</th><th>work_text_reviews_count</th><th>ratings_1</th><th>ratings_2</th><th>ratings_3</th><th>ratings_4</th><th>ratings_5</th><th>image_url</th><th>small_image_url</th></tr>",
                            "<tr><td>1</td><td>2767052</td><td>2767052</td><td>2792775</td><td>272</td><td>439023483</td><td>9780439023480</td><td>Suzanne Collins</td><td>2008</td><td>The Hunger Games</td><td>The Hunger Games (The Hunger Games, #1)</td><td>eng</td><td>4.34</td><td>4780653</td><td>4942365</td><td>155254</td><td>66715</td><td>127936</td><td>560092</td><td>1481305</td><td>2706317</td><td>https://images.gr-assets.com/books/1447303603m/2767052.jpg</td><td>https://images.gr-assets.com/books/1447303603s/2767052.jpg</td></tr>",
                            "<tr><td>2</td><td>3</td><td>3</td><td>4640799</td><td>491</td><td>439554934</td><td>9780439554930</td><td>J.K. Rowling, Mary GrandPré</td><td>1997</td><td>Harry Potter and the Philosopher's Stone</td><td>Harry Potter and the Sorcerer's Stone (Harry Potter, #1)</td><td>eng</td><td>4.44</td><td>4602479</td><td>4800065</td><td>75867</td><td>75504</td><td>101676</td><td>455024</td><td>1156318</td><td>3011543</td><td>https://images.gr-assets.com/books/1474154022m/3.jpg</td><td>https://images.gr-assets.com/books/1474154022s/3.jpg</td></tr>",
                            "<tr><td>3</td><td>41865</td><td>41865</td><td>3212258</td><td>226</td><td>316015849</td><td>9780316015840</td><td>Stephenie Meyer</td><td>2005</td><td>Twilight</td><td>Twilight (Twilight, #1)</td><td>en-US</td><td>3.57</td><td>3866839</td><td>3916824</td><td>95009</td><td>456191</td><td>436802</td><td>793319</td><td>875073</td><td>1355439</td><td>https://images.gr-assets.com/books/1361039443m/41865.jpg</td><td>https://images.gr-assets.com/books/1361039443s/41865.jpg</td></tr>",
                            "<tr><td>4</td><td>2657</td><td>2657</td><td>3275794</td><td>487</td><td>61120081</td><td>9780061120080</td><td>Harper Lee</td><td>1960</td><td>To Kill a Mockingbird</td><td>To Kill a Mockingbird</td><td>eng</td><td>4.25</td><td>3198671</td><td>3340896</td><td>72586</td><td>60427</td><td>117415</td><td>446835</td><td>1001952</td><td>1714267</td><td>https://images.gr-assets.com/books/1361975680m/2657.jpg</td><td>https://images.gr-assets.com/books/1361975680s/2657.jpg</td></tr>",
                            "<tr><td>5</td><td>4671</td><td>4671</td><td>245494</td><td>1356</td><td>743273567</td><td>9780743273560</td><td>F. Scott Fitzgerald</td><td>1925</td><td>The Great Gatsby</td><td>The Great Gatsby</td><td>eng</td><td>3.89</td><td>2683664</td><td>2773745</td><td>51992</td><td>86236</td><td>197621</td><td>606158</td><td>936012</td><td>947718</td><td>https://images.gr-assets.com/books/1490528560m/4671.jpg</td><td>https://images.gr-assets.com/books/1490528560s/4671.jpg</td></tr>",
                            "<tr><td>6</td><td>11870085</td><td>11870085</td><td>16827462</td><td>226</td><td>525478817</td><td>9780525478810</td><td>John Green</td><td>2012</td><td>The Fault in Our Stars</td><td>The Fault in Our Stars</td><td>eng</td><td>4.26</td><td>2346404</td><td>2478609</td><td>140739</td><td>47994</td><td>92723</td><td>327550</td><td>698471</td><td>1311871</td><td>https://images.gr-assets.com/books/1360206420m/11870085.jpg</td><td>https://images.gr-assets.com/books/1360206420s/11870085.jpg</td></tr>",
                            "<tr><td>7</td><td>5907</td><td>5907</td><td>1540236</td><td>969</td><td>618260307</td><td>9780618260300</td><td>J.R.R. Tolkien</td><td>1937</td><td>The Hobbit or There and Back Again</td><td>The Hobbit</td><td>en-US</td><td>4.25</td><td>2071616</td><td>2196809</td><td>37653</td><td>46023</td><td>76784</td><td>288649</td><td>665635</td><td>1119718</td><td>https://images.gr-assets.com/books/1372847500m/5907.jpg</td><td>https://images.gr-assets.com/books/1372847500s/5907.jpg</td></tr>",
                            "<tr><td>8</td><td>5107</td><td>5107</td><td>3036731</td><td>360</td><td>316769177</td><td>9780316769170</td><td>J.D. Salinger</td><td>1951</td><td>The Catcher in the Rye</td><td>The Catcher in the Rye</td><td>eng</td><td>3.79</td><td>2044241</td><td>2120637</td><td>44920</td><td>109383</td><td>185520</td><td>455042</td><td>661516</td><td>709176</td><td>https://images.gr-assets.com/books/1398034300m/5107.jpg</td><td>https://images.gr-assets.com/books/1398034300s/5107.jpg</td></tr>",
                            "<tr><td>9</td><td>960</td><td>960</td><td>3338963</td><td>311</td><td>1416524797</td><td>9781416524790</td><td>Dan Brown</td><td>2000</td><td>Angels &amp; Demons </td><td>Angels &amp; Demons  (Robert Langdon, #1)</td><td>en-CA</td><td>3.85</td><td>2001311</td><td>2078754</td><td>25112</td><td>77841</td><td>145740</td><td>458429</td><td>716569</td><td>680175</td><td>https://images.gr-assets.com/books/1303390735m/960.jpg</td><td>https://images.gr-assets.com/books/1303390735s/960.jpg</td></tr>",
                            "<tr><td>10</td><td>1885</td><td>1885</td><td>3060926</td><td>3455</td><td>679783261</td><td>9780679783270</td><td>Jane Austen</td><td>1813</td><td>Pride and Prejudice</td><td>Pride and Prejudice</td><td>eng</td><td>4.24</td><td>2035490</td><td>2191465</td><td>49152</td><td>54700</td><td>86485</td><td>284852</td><td>609755</td><td>1155673</td><td>https://images.gr-assets.com/books/1320399351m/1885.jpg</td><td>https://images.gr-assets.com/books/1320399351s/1885.jpg</td></tr>",
                            "<tr><td>11</td><td>77203</td><td>77203</td><td>3295919</td><td>283</td><td>1594480001</td><td>9781594480000</td><td>Khaled Hosseini</td><td>2003</td><td>The Kite Runner </td><td>The Kite Runner</td><td>eng</td><td>4.26</td><td>1813044</td><td>1878095</td><td>59730</td><td>34288</td><td>59980</td><td>226062</td><td>628174</td><td>929591</td><td>https://images.gr-assets.com/books/1484565687m/77203.jpg</td><td>https://images.gr-assets.com/books/1484565687s/77203.jpg</td></tr>",
                            "<tr><td>12</td><td>13335037</td><td>13335037</td><td>13155899</td><td>210</td><td>62024035</td><td>9780062024040</td><td>Veronica Roth</td><td>2011</td><td>Divergent</td><td>Divergent (Divergent, #1)</td><td>eng</td><td>4.24</td><td>1903563</td><td>2216814</td><td>101023</td><td>36315</td><td>82870</td><td>310297</td><td>673028</td><td>1114304</td><td>https://images.gr-assets.com/books/1328559506m/13335037.jpg</td><td>https://images.gr-assets.com/books/1328559506s/13335037.jpg</td></tr>",
                            "<tr><td>13</td><td>5470</td><td>5470</td><td>153313</td><td>995</td><td>451524934</td><td>9780451524940</td><td>George Orwell, Erich Fromm, Celâl Üster</td><td>1949</td><td>Nineteen Eighty-Four</td><td>1984</td><td>eng</td><td>4.14</td><td>1956832</td><td>2053394</td><td>45518</td><td>41845</td><td>86425</td><td>324874</td><td>692021</td><td>908229</td><td>https://images.gr-assets.com/books/1348990566m/5470.jpg</td><td>https://images.gr-assets.com/books/1348990566s/5470.jpg</td></tr>",
                            "<tr><td>14</td><td>7613</td><td>7613</td><td>2207778</td><td>896</td><td>452284244</td><td>9780452284240</td><td>George Orwell</td><td>1945</td><td>Animal Farm: A Fairy Story</td><td>Animal Farm</td><td>eng</td><td>3.87</td><td>1881700</td><td>1982987</td><td>35472</td><td>66854</td><td>135147</td><td>433432</td><td>698642</td><td>648912</td><td>https://images.gr-assets.com/books/1424037542m/7613.jpg</td><td>https://images.gr-assets.com/books/1424037542s/7613.jpg</td></tr>",
                            "<tr><td>15</td><td>48855</td><td>48855</td><td>3532896</td><td>710</td><td>553296981</td><td>9780553296980</td><td>Anne Frank, Eleanor Roosevelt, B.M. Mooyaart-Doubleday</td><td>1947</td><td>Het Achterhuis: Dagboekbrieven 14 juni 1942 - 1 augustus 1944</td><td>The Diary of a Young Girl</td><td>eng</td><td>4.1</td><td>1972666</td><td>2024493</td><td>20825</td><td>45225</td><td>91270</td><td>355756</td><td>656870</td><td>875372</td><td>https://images.gr-assets.com/books/1358276407m/48855.jpg</td><td>https://images.gr-assets.com/books/1358276407s/48855.jpg</td></tr>",
                            "<tr><td>16</td><td>2429135</td><td>2429135</td><td>1708725</td><td>274</td><td>307269752</td><td>9780307269750</td><td>Stieg Larsson, Reg Keeland</td><td>2005</td><td>Män som hatar kvinnor</td><td>The Girl with the Dragon Tattoo (Millennium, #1)</td><td>eng</td><td>4.11</td><td>1808403</td><td>1929834</td><td>62543</td><td>54835</td><td>86051</td><td>285413</td><td>667485</td><td>836050</td><td>https://images.gr-assets.com/books/1327868566m/2429135.jpg</td><td>https://images.gr-assets.com/books/1327868566s/2429135.jpg</td></tr>",
                            "<tr><td>17</td><td>6148028</td><td>6148028</td><td>6171458</td><td>201</td><td>439023491</td><td>9780439023500</td><td>Suzanne Collins</td><td>2009</td><td>Catching Fire</td><td>Catching Fire (The Hunger Games, #2)</td><td>eng</td><td>4.3</td><td>1831039</td><td>1988079</td><td>88538</td><td>10492</td><td>48030</td><td>262010</td><td>687238</td><td>980309</td><td>https://images.gr-assets.com/books/1358273780m/6148028.jpg</td><td>https://images.gr-assets.com/books/1358273780s/6148028.jpg</td></tr>",
                            "<tr><td>18</td><td>5</td><td>5</td><td>2402163</td><td>376</td><td>043965548X</td><td>9780439655480</td><td>J.K. Rowling, Mary GrandPré, Rufus Beck</td><td>1999</td><td>Harry Potter and the Prisoner of Azkaban</td><td>Harry Potter and the Prisoner of Azkaban (Harry Potter, #3)</td><td>eng</td><td>4.53</td><td>1832823</td><td>1969375</td><td>36099</td><td>6716</td><td>20413</td><td>166129</td><td>509447</td><td>1266670</td><td>https://images.gr-assets.com/books/1499277281m/5.jpg</td><td>https://images.gr-assets.com/books/1499277281s/5.jpg</td></tr>",
                            "<tr><td>19</td><td>34</td><td>34</td><td>3204327</td><td>566</td><td>618346252</td><td>9780618346260</td><td>J.R.R. Tolkien</td><td>1954</td><td>The Fellowship of the Ring</td><td>The Fellowship of the Ring (The Lord of the Rings, #1)</td><td>eng</td><td>4.34</td><td>1766803</td><td>1832541</td><td>15333</td><td>38031</td><td>55862</td><td>202332</td><td>493922</td><td>1042394</td><td>https://images.gr-assets.com/books/1298411339m/34.jpg</td><td>https://images.gr-assets.com/books/1298411339s/34.jpg</td></tr>",
                            "<tr><td>20</td><td>7260188</td><td>7260188</td><td>8812783</td><td>239</td><td>439023513</td><td>9780439023510</td><td>Suzanne Collins</td><td>2010</td><td>Mockingjay</td><td>Mockingjay (The Hunger Games, #3)</td><td>eng</td><td>4.03</td><td>1719760</td><td>1870748</td><td>96274</td><td>30144</td><td>110498</td><td>373060</td><td>618271</td><td>738775</td><td>https://images.gr-assets.com/books/1358275419m/7260188.jpg</td><td>https://images.gr-assets.com/books/1358275419s/7260188.jpg</td></tr>",
                            "<tr><td>21</td><td>2</td><td>2</td><td>2809203</td><td>307</td><td>439358078</td><td>9780439358070</td><td>J.K. Rowling, Mary GrandPré</td><td>2003</td><td>Harry Potter and the Order of the Phoenix</td><td>Harry Potter and the Order of the Phoenix (Harry Potter, #5)</td><td>eng</td><td>4.46</td><td>1735368</td><td>1840548</td><td>28685</td><td>9528</td><td>31577</td><td>180210</td><td>494427</td><td>1124806</td><td>https://images.gr-assets.com/books/1387141547m/2.jpg</td><td>https://images.gr-assets.com/books/1387141547s/2.jpg</td></tr>",
                            "<tr><td>22</td><td>12232938</td><td>12232938</td><td>1145090</td><td>183</td><td>316166685</td><td>9780316166680</td><td>Alice Sebold</td><td>2002</td><td>The Lovely Bones</td><td>The Lovely Bones</td><td>eng</td><td>3.77</td><td>1605173</td><td>1661562</td><td>36642</td><td>62777</td><td>131188</td><td>404699</td><td>583575</td><td>479323</td><td>https://images.gr-assets.com/books/1457810586m/12232938.jpg</td><td>https://images.gr-assets.com/books/1457810586s/12232938.jpg</td></tr>",
                            "<tr><td>23</td><td>15881</td><td>15881</td><td>6231171</td><td>398</td><td>439064864</td><td>9780439064870</td><td>J.K. Rowling, Mary GrandPré</td><td>1998</td><td>Harry Potter and the Chamber of Secrets</td><td>Harry Potter and the Chamber of Secrets (Harry Potter, #2)</td><td>eng</td><td>4.37</td><td>1779331</td><td>1906199</td><td>34172</td><td>8253</td><td>42251</td><td>242345</td><td>548266</td><td>1065084</td><td>https://images.gr-assets.com/books/1474169725m/15881.jpg</td><td>https://images.gr-assets.com/books/1474169725s/15881.jpg</td></tr>",
                            "<tr><td>24</td><td>6</td><td>6</td><td>3046572</td><td>332</td><td>439139600</td><td>9780439139600</td><td>J.K. Rowling, Mary GrandPré</td><td>2000</td><td>Harry Potter and the Goblet of Fire</td><td>Harry Potter and the Goblet of Fire (Harry Potter, #4)</td><td>eng</td><td>4.53</td><td>1753043</td><td>1868642</td><td>31084</td><td>6676</td><td>20210</td><td>151785</td><td>494926</td><td>1195045</td><td>https://images.gr-assets.com/books/1361482611m/6.jpg</td><td>https://images.gr-assets.com/books/1361482611s/6.jpg</td></tr>",
                            "<tr><td>25</td><td>136251</td><td>136251</td><td>2963218</td><td>263</td><td>545010225</td><td>9780545010220</td><td>J.K. Rowling, Mary GrandPré</td><td>2007</td><td>Harry Potter and the Deathly Hallows</td><td>Harry Potter and the Deathly Hallows (Harry Potter, #7)</td><td>eng</td><td>4.61</td><td>1746574</td><td>1847395</td><td>51942</td><td>9363</td><td>22245</td><td>113646</td><td>383914</td><td>1318227</td><td>https://images.gr-assets.com/books/1474171184m/136251.jpg</td><td>https://images.gr-assets.com/books/1474171184s/136251.jpg</td></tr>",
                            "<tr><td>26</td><td>968</td><td>968</td><td>2982101</td><td>350</td><td>307277674</td><td>9780307277670</td><td>Dan Brown</td><td>2003</td><td>The Da Vinci Code</td><td>The Da Vinci Code (Robert Langdon, #2)</td><td>eng</td><td>3.79</td><td>1447148</td><td>1557292</td><td>41560</td><td>71345</td><td>126493</td><td>340790</td><td>539277</td><td>479387</td><td>https://images.gr-assets.com/books/1303252999m/968.jpg</td><td>https://images.gr-assets.com/books/1303252999s/968.jpg</td></tr>",
                            "<tr><td>27</td><td>1</td><td>1</td><td>41335427</td><td>275</td><td>439785960</td><td>9780439785970</td><td>J.K. Rowling, Mary GrandPré</td><td>2005</td><td>Harry Potter and the Half-Blood Prince</td><td>Harry Potter and the Half-Blood Prince (Harry Potter, #6)</td><td>eng</td><td>4.54</td><td>1678823</td><td>1785676</td><td>27520</td><td>7308</td><td>21516</td><td>136333</td><td>459028</td><td>1161491</td><td>https://images.gr-assets.com/books/1361039191m/1.jpg</td><td>https://images.gr-assets.com/books/1361039191s/1.jpg</td></tr>",
                            "<tr><td>28</td><td>7624</td><td>7624</td><td>2766512</td><td>458</td><td>140283331</td><td>9780140283330</td><td>William Golding</td><td>1954</td><td>Lord of the Flies </td><td>Lord of the Flies</td><td>eng</td><td>3.64</td><td>1605019</td><td>1671484</td><td>26886</td><td>92779</td><td>160295</td><td>425648</td><td>564916</td><td>427846</td><td>https://images.gr-assets.com/books/1327869409m/7624.jpg</td><td>https://images.gr-assets.com/books/1327869409s/7624.jpg</td></tr>",
                            "<tr><td>29</td><td>18135</td><td>18135</td><td>3349450</td><td>1937</td><td>743477111</td><td>9780743477120</td><td>William Shakespeare, Robert           Jackson</td><td>1595</td><td>An Excellent conceited Tragedie of Romeo and Juliet</td><td>Romeo and Juliet</td><td>eng</td><td>3.73</td><td>1628519</td><td>1672889</td><td>14778</td><td>57980</td><td>153179</td><td>452673</td><td>519822</td><td>489235</td><td>https://images.gr-assets.com/books/1327872146m/18135.jpg</td><td>https://images.gr-assets.com/books/1327872146s/18135.jpg</td></tr>",
                            "<tr><td>30</td><td>8442457</td><td>19288043</td><td>13306276</td><td>196</td><td>297859382</td><td>9780297859380</td><td>Gillian Flynn</td><td>2012</td><td>Gone Girl</td><td>Gone Girl</td><td>eng</td><td>4.03</td><td>512475</td><td>1626519</td><td>121614</td><td>38874</td><td>80807</td><td>280331</td><td>616031</td><td>610476</td><td>https://images.gr-assets.com/books/1339602131m/8442457.jpg</td><td>https://images.gr-assets.com/books/1339602131s/8442457.jpg</td></tr>",
                            "</table>"
                        ]
                    }
                },
                {
                    "output_type": "execute_result",
                    "metadata": {},
                    "execution_count": 70,
                    "data": {
                        "application/vnd.dataresource+json": {
                            "schema": {
                                "fields": [
                                    {
                                        "name": "user_id"
                                    },
                                    {
                                        "name": "book_id"
                                    }
                                ]
                            },
                            "data": [
                                {
                                    "0": "1",
                                    "1": "112"
                                },
                                {
                                    "0": "1",
                                    "1": "235"
                                },
                                {
                                    "0": "1",
                                    "1": "533"
                                },
                                {
                                    "0": "1",
                                    "1": "1198"
                                },
                                {
                                    "0": "1",
                                    "1": "1874"
                                },
                                {
                                    "0": "1",
                                    "1": "2058"
                                },
                                {
                                    "0": "1",
                                    "1": "3334"
                                },
                                {
                                    "0": "2",
                                    "1": "4"
                                },
                                {
                                    "0": "2",
                                    "1": "11"
                                },
                                {
                                    "0": "2",
                                    "1": "13"
                                },
                                {
                                    "0": "2",
                                    "1": "16"
                                },
                                {
                                    "0": "2",
                                    "1": "92"
                                },
                                {
                                    "0": "2",
                                    "1": "106"
                                },
                                {
                                    "0": "2",
                                    "1": "113"
                                },
                                {
                                    "0": "2",
                                    "1": "233"
                                },
                                {
                                    "0": "2",
                                    "1": "247"
                                },
                                {
                                    "0": "2",
                                    "1": "380"
                                },
                                {
                                    "0": "2",
                                    "1": "408"
                                },
                                {
                                    "0": "2",
                                    "1": "439"
                                },
                                {
                                    "0": "2",
                                    "1": "479"
                                },
                                {
                                    "0": "2",
                                    "1": "516"
                                },
                                {
                                    "0": "2",
                                    "1": "619"
                                },
                                {
                                    "0": "2",
                                    "1": "1069"
                                },
                                {
                                    "0": "2",
                                    "1": "1371"
                                },
                                {
                                    "0": "2",
                                    "1": "1384"
                                },
                                {
                                    "0": "2",
                                    "1": "1597"
                                },
                                {
                                    "0": "2",
                                    "1": "1926"
                                },
                                {
                                    "0": "2",
                                    "1": "1967"
                                },
                                {
                                    "0": "2",
                                    "1": "1969"
                                },
                                {
                                    "0": "2",
                                    "1": "2220"
                                }
                            ]
                        },
                        "text/html": [
                            "<table>",
                            "<tr><th>user_id</th><th>book_id</th></tr>",
                            "<tr><td>1</td><td>112</td></tr>",
                            "<tr><td>1</td><td>235</td></tr>",
                            "<tr><td>1</td><td>533</td></tr>",
                            "<tr><td>1</td><td>1198</td></tr>",
                            "<tr><td>1</td><td>1874</td></tr>",
                            "<tr><td>1</td><td>2058</td></tr>",
                            "<tr><td>1</td><td>3334</td></tr>",
                            "<tr><td>2</td><td>4</td></tr>",
                            "<tr><td>2</td><td>11</td></tr>",
                            "<tr><td>2</td><td>13</td></tr>",
                            "<tr><td>2</td><td>16</td></tr>",
                            "<tr><td>2</td><td>92</td></tr>",
                            "<tr><td>2</td><td>106</td></tr>",
                            "<tr><td>2</td><td>113</td></tr>",
                            "<tr><td>2</td><td>233</td></tr>",
                            "<tr><td>2</td><td>247</td></tr>",
                            "<tr><td>2</td><td>380</td></tr>",
                            "<tr><td>2</td><td>408</td></tr>",
                            "<tr><td>2</td><td>439</td></tr>",
                            "<tr><td>2</td><td>479</td></tr>",
                            "<tr><td>2</td><td>516</td></tr>",
                            "<tr><td>2</td><td>619</td></tr>",
                            "<tr><td>2</td><td>1069</td></tr>",
                            "<tr><td>2</td><td>1371</td></tr>",
                            "<tr><td>2</td><td>1384</td></tr>",
                            "<tr><td>2</td><td>1597</td></tr>",
                            "<tr><td>2</td><td>1926</td></tr>",
                            "<tr><td>2</td><td>1967</td></tr>",
                            "<tr><td>2</td><td>1969</td></tr>",
                            "<tr><td>2</td><td>2220</td></tr>",
                            "</table>"
                        ]
                    }
                },
                {
                    "output_type": "execute_result",
                    "metadata": {},
                    "execution_count": 70,
                    "data": {
                        "application/vnd.dataresource+json": {
                            "schema": {
                                "fields": [
                                    {
                                        "name": "(No column name)"
                                    }
                                ]
                            },
                            "data": [
                                {
                                    "0": "912705"
                                }
                            ]
                        },
                        "text/html": [
                            "<table>",
                            "<tr><th>(No column name)</th></tr>",
                            "<tr><td>912705</td></tr>",
                            "</table>"
                        ]
                    }
                }
            ],
            "execution_count": 70
        },
        {
            "cell_type": "code",
            "source": [
                "\n",
                "SELECT TOP 1 b.title, COUNT(tr.user_id) AS TotalUser FROM BooksDB.dbo.books AS b\n",
                "INNER JOIN BooksDB.dbo.to_read AS tr \n",
                "ON b.book_id = tr.book_id\n",
                "GROUP BY b.title\n",
                "ORDER BY COUNT(tr.user_id) DESC;\n",
                ""
            ],
            "metadata": {
                "language": "sql",
                "azdata_cell_guid": "9b929039-5292-471d-860c-332bd4c69a61"
            },
            "outputs": [
                {
                    "output_type": "display_data",
                    "data": {
                        "text/html": "(1 row affected)"
                    },
                    "metadata": {}
                },
                {
                    "output_type": "display_data",
                    "data": {
                        "text/html": "Total execution time: 00:00:00.173"
                    },
                    "metadata": {}
                },
                {
                    "output_type": "execute_result",
                    "metadata": {},
                    "execution_count": 75,
                    "data": {
                        "application/vnd.dataresource+json": {
                            "schema": {
                                "fields": [
                                    {
                                        "name": "title"
                                    },
                                    {
                                        "name": "TotalUser"
                                    }
                                ]
                            },
                            "data": [
                                {
                                    "0": "The Ultimate Hitchhiker's Guide to the Galaxy",
                                    "1": "1812"
                                }
                            ]
                        },
                        "text/html": [
                            "<table>",
                            "<tr><th>title</th><th>TotalUser</th></tr>",
                            "<tr><td>The Ultimate Hitchhiker's Guide to the Galaxy</td><td>1812</td></tr>",
                            "</table>"
                        ]
                    }
                }
            ],
            "execution_count": 75
        },
        {
            "cell_type": "markdown",
            "source": [
                "## **QUESTION 8:** Largest 'To Read' Lists\n",
                "\n",
                "**Part A:**  Create a query that returns a table that contains the top 10 users with the most number of titles on their 'to read' list.    Group all the entries by user\\_id.  \n",
                "\n",
                "> _Hint:_ You might want an alias for the titles.\n",
                "> \n",
                "> _Minimum Desired Output:_  user\\_id and your aliased column of titles.\n",
                "\n",
                "**Part B:**  The longest list length is 15 titles total, and is shared by 4 different users.  Select one of the uses and print out their entire '**to read**' list."
            ],
            "metadata": {
                "azdata_cell_guid": "0b0090b0-2b28-44c6-8bb6-06b4c03c3ff1"
            },
            "attachments": {}
        },
        {
            "cell_type": "code",
            "source": [
                "-- Code Here:\n",
                "-- Part A:\n",
                "SELECT TOP 10 tr.user_id, COUNT(DISTINCT b.title) AS Titles FROM BooksDB.dbo.books AS b\n",
                "INNER JOIN BooksDB.dbo.to_read AS tr \n",
                "ON b.book_id = tr.book_id\n",
                "GROUP BY tr.user_id\n",
                "ORDER BY COUNT(DISTINCT b.title) DESC;\n",
                "\n",
                "-- Part B:\n",
                "SELECT b.title FROM BooksDB.dbo.books AS b\n",
                "INNER JOIN BooksDB.dbo.to_read AS tr \n",
                "ON b.book_id = tr.book_id\n",
                "WHERE tr.user_id = '12483';\n",
                ""
            ],
            "metadata": {
                "azdata_cell_guid": "c6c815f8-890d-4163-be63-3d300e320597",
                "tags": [],
                "language": "sql"
            },
            "outputs": [
                {
                    "output_type": "display_data",
                    "data": {
                        "text/html": "(10 rows affected)"
                    },
                    "metadata": {}
                },
                {
                    "output_type": "display_data",
                    "data": {
                        "text/html": "(15 rows affected)"
                    },
                    "metadata": {}
                },
                {
                    "output_type": "display_data",
                    "data": {
                        "text/html": "Total execution time: 00:00:00.534"
                    },
                    "metadata": {}
                },
                {
                    "output_type": "execute_result",
                    "metadata": {},
                    "execution_count": 78,
                    "data": {
                        "application/vnd.dataresource+json": {
                            "schema": {
                                "fields": [
                                    {
                                        "name": "user_id"
                                    },
                                    {
                                        "name": "Titles"
                                    }
                                ]
                            },
                            "data": [
                                {
                                    "0": "11932",
                                    "1": "15"
                                },
                                {
                                    "0": "12483",
                                    "1": "15"
                                },
                                {
                                    "0": "38201",
                                    "1": "15"
                                },
                                {
                                    "0": "14771",
                                    "1": "15"
                                },
                                {
                                    "0": "27933",
                                    "1": "14"
                                },
                                {
                                    "0": "36923",
                                    "1": "14"
                                },
                                {
                                    "0": "37359",
                                    "1": "14"
                                },
                                {
                                    "0": "41523",
                                    "1": "14"
                                },
                                {
                                    "0": "17093",
                                    "1": "13"
                                },
                                {
                                    "0": "22358",
                                    "1": "13"
                                }
                            ]
                        },
                        "text/html": [
                            "<table>",
                            "<tr><th>user_id</th><th>Titles</th></tr>",
                            "<tr><td>11932</td><td>15</td></tr>",
                            "<tr><td>12483</td><td>15</td></tr>",
                            "<tr><td>38201</td><td>15</td></tr>",
                            "<tr><td>14771</td><td>15</td></tr>",
                            "<tr><td>27933</td><td>14</td></tr>",
                            "<tr><td>36923</td><td>14</td></tr>",
                            "<tr><td>37359</td><td>14</td></tr>",
                            "<tr><td>41523</td><td>14</td></tr>",
                            "<tr><td>17093</td><td>13</td></tr>",
                            "<tr><td>22358</td><td>13</td></tr>",
                            "</table>"
                        ]
                    }
                },
                {
                    "output_type": "execute_result",
                    "metadata": {},
                    "execution_count": 78,
                    "data": {
                        "application/vnd.dataresource+json": {
                            "schema": {
                                "fields": [
                                    {
                                        "name": "title"
                                    }
                                ]
                            },
                            "data": [
                                {
                                    "0": "Fahrenheit 451"
                                },
                                {
                                    "0": "Hamlet"
                                },
                                {
                                    "0": "Great Expectations"
                                },
                                {
                                    "0": "Madame Bovary"
                                },
                                {
                                    "0": "A Room with a View"
                                },
                                {
                                    "0": "Cryptonomicon"
                                },
                                {
                                    "0": "The Complete Sherlock Holmes, Vol 2"
                                },
                                {
                                    "0": "Tropic of Cancer"
                                },
                                {
                                    "0": "The New York Trilogy"
                                },
                                {
                                    "0": "Metamorphoses"
                                },
                                {
                                    "0": "Founding Brothers: The Revolutionary Generation"
                                },
                                {
                                    "0": "Peter and the Shadow Thieves (Peter and the Starcatchers, #2)"
                                },
                                {
                                    "0": "The Salmon of Doubt (Dirk Gently, #3)"
                                },
                                {
                                    "0": "Jailbird"
                                },
                                {
                                    "0": "The Broken Wings"
                                }
                            ]
                        },
                        "text/html": [
                            "<table>",
                            "<tr><th>title</th></tr>",
                            "<tr><td>Fahrenheit 451</td></tr>",
                            "<tr><td>Hamlet</td></tr>",
                            "<tr><td>Great Expectations</td></tr>",
                            "<tr><td>Madame Bovary</td></tr>",
                            "<tr><td>A Room with a View</td></tr>",
                            "<tr><td>Cryptonomicon</td></tr>",
                            "<tr><td>The Complete Sherlock Holmes, Vol 2</td></tr>",
                            "<tr><td>Tropic of Cancer</td></tr>",
                            "<tr><td>The New York Trilogy</td></tr>",
                            "<tr><td>Metamorphoses</td></tr>",
                            "<tr><td>Founding Brothers: The Revolutionary Generation</td></tr>",
                            "<tr><td>Peter and the Shadow Thieves (Peter and the Starcatchers, #2)</td></tr>",
                            "<tr><td>The Salmon of Doubt (Dirk Gently, #3)</td></tr>",
                            "<tr><td>Jailbird</td></tr>",
                            "<tr><td>The Broken Wings</td></tr>",
                            "</table>"
                        ]
                    }
                }
            ],
            "execution_count": 78
        }
    ]
}